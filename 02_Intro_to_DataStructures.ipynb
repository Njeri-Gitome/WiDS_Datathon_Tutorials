{
 "cells": [
  {
   "cell_type": "markdown",
   "metadata": {},
   "source": [
    "# Part 2: Introduction to Data Structures\n",
    "\n",
    "In this tutorial, we will explore the different structures we can use to capture and represent data; learn to import, access the documentation of, and use important data science tools; and walk through some exercises that will help us to begin to interpret what the collections of data points can tell us.\n",
    "\n",
    "## Table of Contents\n",
    "\n",
    "**1. [Importing Python Packages](#packages)**  \n",
    "**2. [Sequences](#seq)**  \n",
    "&ensp;&ensp;&ensp;&ensp;**2.1.** [Lists](#list)  \n",
    "&ensp;&ensp;&ensp;&ensp;**2.2.** [Sequence Iteration](#iter)     \n",
    "&ensp;&ensp;&ensp;&ensp;**2.3.** [Arrays](#array)     \n",
    "&ensp;&ensp;&ensp;&ensp;**2.4.** [Strings](#str)    \n",
    "**3. [Summary Statistics](#stats)**     \n",
    "&ensp;&ensp;&ensp;&ensp;**3.1.** [Percentiles](#percentile)  \n",
    "&ensp;&ensp;&ensp;&ensp;**3.2.** [The Mean](#mean)    \n",
    "&ensp;&ensp;&ensp;&ensp;**3.3.** [Standard Deviation](#stddev)   \n"
   ]
  },
  {
   "cell_type": "markdown",
   "metadata": {},
   "source": [
    "## <u>1. Importing Python Packages</u><a id='packages'></a>\n",
    "---\n",
    "\n",
    "In the last tutorial, we learned how to define our own functions. But writing functions is time-consuming, and much of the statistical and data wrangling operations we need have already been written for us by someone else. Rather than reinventing the wheel, it is much more efficient to leverage code that already exist. Further, rather than copying raw code into our notebooks, we can import what are called **Python modules, packages, and libraries** straight into Jupyter Notebooks. Python modules are Python files that contain the code for functions; once imported, they allow us to call upon the function names defined in the file. Python packages and libraries are just larger collections of Python modules, and can be leveraged in much the same way.\n",
    "\n",
    "<div class=\"alert alert-info\"><span style='color:#4169E1'><b>Run the cell below to import the NumPy library:</b></span></div>"
   ]
  },
  {
   "cell_type": "code",
   "execution_count": 1,
   "metadata": {},
   "outputs": [],
   "source": [
    "# Run this cell!\n",
    "import numpy as np"
   ]
  },
  {
   "cell_type": "markdown",
   "metadata": {},
   "source": [
    "We can import entire modules, which give us access to all the functions and tools contained in that module. But when we do, we must reference the name of the module every time we want to access its contents, as follows:  \n",
    "\n",
    "<br>\n",
    "\n",
    "<div class=\"row\">\n",
    "    <div class=\"alert alert-warning col-md-5\" align=\"center\"><code>&lt;module_name&gt;.&lt;function_name&gt;</code></div>\n",
    "</div>\n",
    "\n",
    "\n",
    "\n",
    "This is why we tend to assign an abbreviated name during these full imports. Doing so makes calling on the source easier and less verbose:\n"
   ]
  },
  {
   "cell_type": "code",
   "execution_count": 2,
   "metadata": {},
   "outputs": [
    {
     "data": {
      "text/plain": [
       "2.718281828459045"
      ]
     },
     "execution_count": 2,
     "metadata": {},
     "output_type": "execute_result"
    }
   ],
   "source": [
    "# without \"as np\" in the import statement, we would need to write \"numpy.e\"\n",
    "np.e"
   ]
  },
  {
   "cell_type": "code",
   "execution_count": 3,
   "metadata": {},
   "outputs": [
    {
     "data": {
      "text/plain": [
       "2.718"
      ]
     },
     "execution_count": 3,
     "metadata": {},
     "output_type": "execute_result"
    }
   ],
   "source": [
    "# calling on the \"round\" function from the numpy library\n",
    "# rounding Euler's number (e) to the third decimal place \n",
    "np.round(np.e, 3)"
   ]
  },
  {
   "cell_type": "markdown",
   "metadata": {},
   "source": [
    "On the other hand, if we know we only want a specific item from a given module, we can choose to import just that item from the module. We do this in the second import statement, where we import just the constant value `pi` from the `math` package."
   ]
  },
  {
   "cell_type": "code",
   "execution_count": 4,
   "metadata": {},
   "outputs": [],
   "source": [
    "# Run this cell!\n",
    "from math import pi"
   ]
  },
  {
   "cell_type": "code",
   "execution_count": 5,
   "metadata": {},
   "outputs": [
    {
     "data": {
      "text/plain": [
       "3.141592653589793"
      ]
     },
     "execution_count": 5,
     "metadata": {},
     "output_type": "execute_result"
    }
   ],
   "source": [
    "# we can call this constant as is, because we specifically imported this.\n",
    "pi"
   ]
  },
  {
   "cell_type": "markdown",
   "metadata": {},
   "source": [
    "As you have just seen, modules can provide not just functions but special values, too - values like `pi` and `e`. These values from modules are called **constants**. To find further information on other capabilities offered by Python modules and instructions on how to use them, a quick Google search should take you to the tools' detailed documentation sites. These docs are fantastic resources for when you are looking for the right tool to use, or when you need guidance on how to use a specific function. Check out the docs for the NumPy library [here](https://numpy.org/doc/stable/reference/index.html), or for the Python math module [here](https://docs.python.org/3/library/math.html)!\n",
    "\n",
    "<br>\n",
    "\n",
    "<div class=\"alert alert-warning\">\n",
    "<i class=\"fa fa-info-circle\" style=\"font-size:22px;color:orange\"></i> &nbsp;<b><u>Tip: </u></b><br>Sometimes we just want quick access to a function's docstrings, for instance to check for its expected arguments. In the Jupyter Notebook, we can access this by adding a <code>?</code> at the end of a function in a code cell, and running the cell. While not as detailed as the official reference sites, this can be a convenient way to recall how to use a function.<br><br><b>Run the code below to see the doctring for NumPy's <code>round()</code> function we used above:</b></div>\n"
   ]
  },
  {
   "cell_type": "code",
   "execution_count": 6,
   "metadata": {},
   "outputs": [],
   "source": [
    "# this will load the docstring for the function! \n",
    "np.round?"
   ]
  },
  {
   "cell_type": "markdown",
   "metadata": {},
   "source": [
    "NumPy will become incredibly useful to us in a bit - it is known for its efficient processing capabilities of **arrays**, which are collections of homogeneous data points. We'll get more into arrays very shortly!\n",
    "\n",
    "---\n",
    "\n",
    "## <u>2. Sequences</u><a id='seq'></a>\n",
    "\n",
    "In the last tutorial, we introduced different types of values such as integers (e.g. `1`), strings (e.g. `'one'`), and booleans (e.g. `True`). This tutorial is all about the different ways in which we can collect and work with a bunch of data points in an organized form; and creating sequences of data is a great way to do just that.\n",
    "\n",
    "<br>\n",
    "\n",
    "<i class=\"fa fa-book\" style=\"font-size:20px;\"></i> &nbsp;**Definition:**\n",
    "<div class=\"alert alert-success\">\n",
    "    \n",
    "A <b><u>sequence</u></b><sup>1</sup> is a collection of values that:\n",
    "- contains a finite number of elements (values). <br>&ensp;*The number of elements in a sequence determines its <b>length</b>.*\n",
    "- is <b>ordered</b>. <br>&ensp;*The order in which the elements appear in the sequence does not change unless intentionally changed.*\n",
    "- supports <b>element selection</b>. <br>&ensp;*Any element can be identified from the sequence based on its position, also known as its index, in the sequence.*</div>\n",
    "\n",
    "Sequences can take many forms. In this tutorial, we will touch on three the most commonly used ones -  **lists**, **arrays**, and - that's right - **strings**!\n",
    "\n",
    "_**Lists:**_  \n",
    "```python\n",
    "ex. [1, 2, 3, 4, 5]\n",
    "```\n",
    "_**Arrays:**_  \n",
    "```python\n",
    "ex. array([1, 2, 3, 4, 5])\n",
    "```\n",
    "_**Strings:**_\n",
    "```python\n",
    "ex. 'hello world' \n",
    "```"
   ]
  },
  {
   "cell_type": "markdown",
   "metadata": {},
   "source": [
    "---\n",
    "\n",
    "### 2.1. Lists<a id='list'></a>\n",
    "\n",
    "The `list` value is a very powerful, fundamental sequence that has a large set of built-in behaviors for modifying and manipulating the list. We will cover only the basics here, but feel free to [explore its other features on your own](https://python-reference.readthedocs.io/en/latest/docs/list/).\n",
    "\n",
    "First, let's create one. Lists are formed by placing a comma-separated list of values or expressions in square `[]` brackets. `my_list` is a list of four values - since it contains four integers, it has a length of 4."
   ]
  },
  {
   "cell_type": "code",
   "execution_count": 7,
   "metadata": {},
   "outputs": [
    {
     "data": {
      "text/plain": [
       "[2020, 2021, 2022, 2023]"
      ]
     },
     "execution_count": 7,
     "metadata": {},
     "output_type": "execute_result"
    }
   ],
   "source": [
    "my_list = [2020, 2021, 2022, 2023]\n",
    "my_list"
   ]
  },
  {
   "cell_type": "markdown",
   "metadata": {},
   "source": [
    "We can confirm the length of the list by using the built-in function, `len()`:"
   ]
  },
  {
   "cell_type": "code",
   "execution_count": 8,
   "metadata": {
    "scrolled": false
   },
   "outputs": [
    {
     "data": {
      "text/plain": [
       "4"
      ]
     },
     "execution_count": 8,
     "metadata": {},
     "output_type": "execute_result"
    }
   ],
   "source": [
    "len(my_list)"
   ]
  },
  {
   "cell_type": "markdown",
   "metadata": {},
   "source": [
    "We are able to call other functions on this group of numerical values:"
   ]
  },
  {
   "cell_type": "code",
   "execution_count": 9,
   "metadata": {},
   "outputs": [
    {
     "data": {
      "text/plain": [
       "2020"
      ]
     },
     "execution_count": 9,
     "metadata": {},
     "output_type": "execute_result"
    }
   ],
   "source": [
    "min(my_list)"
   ]
  },
  {
   "cell_type": "code",
   "execution_count": 10,
   "metadata": {},
   "outputs": [
    {
     "data": {
      "text/plain": [
       "2023"
      ]
     },
     "execution_count": 10,
     "metadata": {},
     "output_type": "execute_result"
    }
   ],
   "source": [
    "max(my_list)"
   ]
  },
  {
   "cell_type": "code",
   "execution_count": 11,
   "metadata": {},
   "outputs": [
    {
     "data": {
      "text/plain": [
       "2021.5"
      ]
     },
     "execution_count": 11,
     "metadata": {},
     "output_type": "execute_result"
    }
   ],
   "source": [
    "# calling the NumPy function, `median`\n",
    "np.median(my_list)"
   ]
  },
  {
   "cell_type": "markdown",
   "metadata": {},
   "source": [
    "\n",
    "\n",
    "<div class=\"alert alert-warning\"><b><i class=\"fa fa-info-circle\" style=\"font-size:22px;color:orange\"></i> &nbsp;An important feature of a list</b> is that it can hold any collection of elements - they do not all need to be the same data type.</div>"
   ]
  },
  {
   "cell_type": "code",
   "execution_count": 12,
   "metadata": {},
   "outputs": [
    {
     "data": {
      "text/plain": [
       "[1996, '1997', 1998, True]"
      ]
     },
     "execution_count": 12,
     "metadata": {},
     "output_type": "execute_result"
    }
   ],
   "source": [
    "another_list = [1996, '1997', 1998, True]\n",
    "another_list"
   ]
  },
  {
   "cell_type": "markdown",
   "metadata": {},
   "source": [
    "<br><i class=\"fa fa-thumb-tack\" style=\"font-size:16px;\"></i>&nbsp; <b>Indexing:</b>  \n",
    "\n",
    "One of the requirements of a sequence is that we be able to identify an element based on its position in the sequence. As we mentioned earlier, an element's position in a sequence is called its **index**. An index is a non-negative integer that indicates where an element is from the very front of the sequence. It is important to note that, in Python, the **index starts at 0**: the first element has an index of 0, the second element has index 1, the third element has index 2, and so on...\n",
    "\n",
    "```\n",
    "my_list: [2020, 2021, 2022, 2023]\n",
    "  index: (   0,    1,    2,    3)\n",
    "```\n",
    "\n",
    "If we know the index we want to select from a list, we can do so by putting it in square brackets next to the list itself:"
   ]
  },
  {
   "cell_type": "code",
   "execution_count": 13,
   "metadata": {},
   "outputs": [
    {
     "data": {
      "text/plain": [
       "2020"
      ]
     },
     "execution_count": 13,
     "metadata": {},
     "output_type": "execute_result"
    }
   ],
   "source": [
    "# selecting the first element of `my_list`\n",
    "my_list[0]"
   ]
  },
  {
   "cell_type": "markdown",
   "metadata": {},
   "source": [
    "<div class=\"alert alert-info\"><span style='color:#4169E1'><b>Question: What would you expect the following to output?</b></span></div>\n",
    "\n",
    "```python\n",
    "my_list[4]\n",
    "```"
   ]
  },
  {
   "cell_type": "code",
   "execution_count": null,
   "metadata": {},
   "outputs": [],
   "source": [
    "# Test your theory here\n",
    "..."
   ]
  },
  {
   "cell_type": "markdown",
   "metadata": {},
   "source": [
    "<br><i class=\"fa fa-thumb-tack\" style=\"font-size:16px;\"></i>&nbsp; <b>Slicing:</b>  \n",
    "\n",
    "We can also create a sub-list of specific ranges of elements in a list - we call this slicing. We do this in a similar square bracket notation, but rather than specifing one index to select, we specify a start index, stop index, and (optionally) a step value: `[start:stop:step]`.\n",
    "\n",
    "In \"ex.1\" below, we specify a `start` index at 0 and `stop` index at 3. We don't specify a `step` value, so the function defaults it to 1. This means that the function will create a list of all elements positioned at indices **0, 1, and 2**: in other words, indices starting at 0 and incremented by 1 until we reach the stop index of 3."
   ]
  },
  {
   "cell_type": "code",
   "execution_count": 14,
   "metadata": {},
   "outputs": [
    {
     "data": {
      "text/plain": [
       "[2020, 2021, 2022]"
      ]
     },
     "execution_count": 14,
     "metadata": {},
     "output_type": "execute_result"
    }
   ],
   "source": [
    "# ex.1\n",
    "my_list[0:3]"
   ]
  },
  {
   "cell_type": "markdown",
   "metadata": {},
   "source": [
    "Notice that the element at the `stop` index is not selected. That is because ranges in Python usually exclude the index at the `stop` position from selection.\n",
    "\n",
    "<div class=\"alert alert-info\"><span style='color:#4169E1'><b>Question: What would you expect the following to output?</b></span></div>\n",
    "\n",
    "```python\n",
    "my_list[0:3:2]\n",
    "```\n"
   ]
  },
  {
   "cell_type": "code",
   "execution_count": null,
   "metadata": {},
   "outputs": [],
   "source": [
    "# Test your theory here\n",
    "..."
   ]
  },
  {
   "cell_type": "markdown",
   "metadata": {},
   "source": [
    "<br><i class=\"fa fa-thumb-tack\" style=\"font-size:16px;\"></i>&nbsp; <b>Operators:</b>  \n",
    "\n",
    "We can combine numbers and strings using operators like `+` and `*`. However, instead of operating on the values contained in the list, these operations combine and replicate the sequences themselves. For instance, **adding** two lists together will **concatenate** them - in other words, it would create one long list containing all elements from both lists:"
   ]
  },
  {
   "cell_type": "code",
   "execution_count": 15,
   "metadata": {},
   "outputs": [
    {
     "data": {
      "text/plain": [
       "[2020, 2021, 2022, 2023, 1996, '1997', 1998, True]"
      ]
     },
     "execution_count": 15,
     "metadata": {},
     "output_type": "execute_result"
    }
   ],
   "source": [
    "my_list + another_list"
   ]
  },
  {
   "cell_type": "markdown",
   "metadata": {},
   "source": [
    "Notice that the order of elements is maintained, such that the elements of `my_list` appear first and elements of `another_list` appear second. \n",
    "\n",
    "Lists can only be added to other lists. See what happens when you try to add another integer to a list: \n"
   ]
  },
  {
   "cell_type": "code",
   "execution_count": 16,
   "metadata": {},
   "outputs": [
    {
     "ename": "TypeError",
     "evalue": "can only concatenate list (not \"int\") to list",
     "output_type": "error",
     "traceback": [
      "\u001b[1;31m---------------------------------------------------------------------------\u001b[0m",
      "\u001b[1;31mTypeError\u001b[0m                                 Traceback (most recent call last)",
      "\u001b[1;32m<ipython-input-16-93a8f59754fa>\u001b[0m in \u001b[0;36m<module>\u001b[1;34m()\u001b[0m\n\u001b[0;32m      1\u001b[0m \u001b[1;31m# this will error\u001b[0m\u001b[1;33m\u001b[0m\u001b[1;33m\u001b[0m\u001b[0m\n\u001b[1;32m----> 2\u001b[1;33m \u001b[0mmy_list\u001b[0m \u001b[1;33m+\u001b[0m \u001b[1;36m2025\u001b[0m\u001b[1;33m\u001b[0m\u001b[0m\n\u001b[0m",
      "\u001b[1;31mTypeError\u001b[0m: can only concatenate list (not \"int\") to list"
     ]
    }
   ],
   "source": [
    "# this will error\n",
    "my_list + 2025"
   ]
  },
  {
   "cell_type": "code",
   "execution_count": 17,
   "metadata": {},
   "outputs": [
    {
     "data": {
      "text/plain": [
       "[2020, 2021, 2022, 2023, 2025]"
      ]
     },
     "execution_count": 17,
     "metadata": {},
     "output_type": "execute_result"
    }
   ],
   "source": [
    "# this will work\n",
    "my_list + [2025]"
   ]
  },
  {
   "cell_type": "markdown",
   "metadata": {},
   "source": [
    "We can't add a scalar value to a list, but we can **multiply** a list with a scalar `s` to create a new list containing elements of the original list replicated `s` times. Arithmetically, this makes sense because multiplying a list by `s` is equivalent to adding `s` copies of the list to itself."
   ]
  },
  {
   "cell_type": "code",
   "execution_count": 18,
   "metadata": {},
   "outputs": [
    {
     "data": {
      "text/plain": [
       "[2020, 2021, 2022, 2023, 2020, 2021, 2022, 2023, 2020, 2021, 2022, 2023]"
      ]
     },
     "execution_count": 18,
     "metadata": {},
     "output_type": "execute_result"
    }
   ],
   "source": [
    "s = 3\n",
    "my_list * s"
   ]
  },
  {
   "cell_type": "markdown",
   "metadata": {},
   "source": [
    "---\n",
    "\n",
    "### 2.2. Sequence Iteration<a id='iter'></a>  \n",
    "We have just seen that applying arithmetic operations to a list doesn't alter the value of the elements contained within the list. In order to access and alter the values themselves, we must **loop through** the sequence of elements, apply the alteration to the individual values, and populate a new list with these changed values. This section will cover two ways in which we can do this.\n",
    "\n",
    "<br><i class=\"fa fa-thumb-tack\" style=\"font-size:16px;\"></i>&nbsp; <b>For-Loops:</b>\n",
    "\n",
    "We can loop through iterable objects, like sequences, using the **`for`**-statement, also known as the **`for`**-loop.  \n",
    "The syntax for the `for`-loop is as follows:\n",
    "\n",
    "```python\n",
    "for <element> in <some_sequence>:\n",
    "    <process_to_execute>\n",
    "```\n",
    "><div class=\"alert alert-warning\">\n",
    "<b>In plain language:</b>  <br>\n",
    "&nbsp;&nbsp;&nbsp; \"<b>for</b> each individual <b>element</b> contained <b>in</b> the <b>list</b>, execute the specified <b>process</b>.\"<br><br>It is important to note that the <code>&lt;process_to_execute&gt;</code> is only focused on one element at a time. In the order that they appear in the original list, the loop is essentially picking up one element from the list, performing whatever set of instructions it is provided, and setting it down before picking up the next element, executing the same instructions, putting it down, and repeating the process until there are no more elements left to pick up.\n",
    "</div>\n",
    "\n",
    "Below is a simple for-loop that prints the value of each element in `my_list`:"
   ]
  },
  {
   "cell_type": "code",
   "execution_count": 19,
   "metadata": {},
   "outputs": [
    {
     "name": "stdout",
     "output_type": "stream",
     "text": [
      "value:  2020\n",
      "value:  2021\n",
      "value:  2022\n",
      "value:  2023\n"
     ]
    }
   ],
   "source": [
    "for year in my_list:\n",
    "    print(\"value: \", year)"
   ]
  },
  {
   "cell_type": "markdown",
   "metadata": {},
   "source": [
    "We can think of `year` as a <u>temporary</u> variable that gets set to the value of whatever element is currently being \"picked up\" during the iteration.\n",
    "\n",
    "If we want to change the values of the list and save them in a new list, we can **initiate a new, empty list**, and add the changed values to the new list as we loop through the original list:"
   ]
  },
  {
   "cell_type": "code",
   "execution_count": 20,
   "metadata": {},
   "outputs": [
    {
     "data": {
      "text/plain": [
       "[2030, 2031, 2032, 2033]"
      ]
     },
     "execution_count": 20,
     "metadata": {},
     "output_type": "execute_result"
    }
   ],
   "source": [
    "# loop 1:\n",
    "# creating a new empty list\n",
    "new_list = []\n",
    "\n",
    "# looping through my_list, adding 10 to each year, & saving in the new list\n",
    "for year in my_list:\n",
    "    new_list = new_list + [year+10]\n",
    "    \n",
    "new_list"
   ]
  },
  {
   "cell_type": "markdown",
   "metadata": {},
   "source": [
    "We had mentioned that lists have many useful built-in behaviors. We leverage one of them below to achieve the same outcome, using its **`.append()` method**, to throw in a new value at the end of the list.\n",
    "\n",
    "<i class=\"fa fa-book\" style=\"font-size:20px;\"></i> &nbsp;**Definition:**<div class=\"alert alert-success\">\n",
    "A <b>method</b> is like a function, but it is a feature of another object that is called using the dot <code>.</code> notation on the object itself.</div>"
   ]
  },
  {
   "cell_type": "code",
   "execution_count": 21,
   "metadata": {},
   "outputs": [
    {
     "data": {
      "text/plain": [
       "[2030, 2031, 2032, 2033]"
      ]
     },
     "execution_count": 21,
     "metadata": {},
     "output_type": "execute_result"
    }
   ],
   "source": [
    "# loop 2:\n",
    "# another way to achieve the same thing\n",
    "# using the `append` method of lists\n",
    "new_list = []\n",
    "for year in my_list:\n",
    "    new_list.append(year+10)\n",
    "    \n",
    "new_list"
   ]
  },
  {
   "cell_type": "markdown",
   "metadata": {},
   "source": [
    "Although they achieve the same outcome, there is an important difference between loop 1 and loop 2:  \n",
    "* <u><b>loop 1:</b></u><br>The expression `new_list + [year+10]` outputs an entirely **new list** - this expression alone does **not** change the contents of the variable `new_list`. For this reason, we must reassign `new_list` to the result of the expression.\n",
    "<br>\n",
    "\n",
    "* <u><b>loop 2:</b></u><br>The `.append()` method called on `new_list` alters the list itself. Unlike the arithmetic operation in loop 1 that outputs a new list, this expression does not output anything - the result of this expression is simply that `new_list` now contains the new value. \n",
    "\n",
    "<br>\n",
    "\n",
    "**Conditions in For-Loops:**\n",
    "\n",
    "We can specify certain values in the list to be handled differently than others. In the example below, we employ conditional statements to accomplish the following: **add 10** to every **even year**, and **subtract 10** from every **odd year**.\n",
    "\n",
    "*Note: recall that `%` (modulo operator) computes the remainder of dividing the value on the left-hand side by the value on the right-hand side. A number `X` is even if `X / 2` has reaminder of 0 - in other words, `X%2==0`.*\n"
   ]
  },
  {
   "cell_type": "code",
   "execution_count": 22,
   "metadata": {},
   "outputs": [
    {
     "data": {
      "text/plain": [
       "[2030, 2011, 2032, 2013]"
      ]
     },
     "execution_count": 22,
     "metadata": {},
     "output_type": "execute_result"
    }
   ],
   "source": [
    "new_list = []\n",
    "for year in my_list:\n",
    "    if year%2==0:\n",
    "        new_list.append(year+10)\n",
    "    else:\n",
    "        new_list.append(year-10)\n",
    "\n",
    "# showing contents of new list\n",
    "new_list"
   ]
  },
  {
   "cell_type": "markdown",
   "metadata": {},
   "source": [
    "<br><i class=\"fa fa-thumb-tack\" style=\"font-size:16px;\"></i>&nbsp; <b>List Comprehension:</b>  \n",
    "\n",
    "A nicer way to create a new list of transformed values is with a **list comprehension**, which iterates through an interable, applies transformations to values, and collects the new values in list - all in one line of code:\n",
    "\n",
    "```python\n",
    "[function(element) for element in my_list]\n",
    "```"
   ]
  },
  {
   "cell_type": "code",
   "execution_count": 23,
   "metadata": {},
   "outputs": [
    {
     "data": {
      "text/plain": [
       "[2030, 2031, 2032, 2033]"
      ]
     },
     "execution_count": 23,
     "metadata": {},
     "output_type": "execute_result"
    }
   ],
   "source": [
    "# add 10 years to each element in my_list\n",
    "new_list = [year+10 for year in my_list]\n",
    "new_list"
   ]
  },
  {
   "cell_type": "markdown",
   "metadata": {},
   "source": [
    "It is also posible to introduce conditionals in a list comprehension:\n",
    "\n",
    "```python\n",
    "[function_1(element) if condition_1 else function_2(element) for element in my_list]\n",
    "```"
   ]
  },
  {
   "cell_type": "code",
   "execution_count": 24,
   "metadata": {},
   "outputs": [
    {
     "data": {
      "text/plain": [
       "[2030, 2011, 2032, 2013]"
      ]
     },
     "execution_count": 24,
     "metadata": {},
     "output_type": "execute_result"
    }
   ],
   "source": [
    "# add 10 to even years, subtract 10 from odd years\n",
    "new_list = [year+10 if year%2==0 else year-10 for year in my_list]\n",
    "new_list"
   ]
  },
  {
   "cell_type": "markdown",
   "metadata": {},
   "source": [
    "---\n",
    "\n",
    "### 2.3. Arrays<a id='array'></a>\n",
    "\n",
    "An array is structurally very similar to a list in that it is another sequence for containing data values, but arrays are different in a few key ways that often make them the preferred container for storing and handling data.\n",
    "\n",
    "<br>\n",
    "\n",
    "<i class=\"fa fa-book\" style=\"font-size:20px;\"></i> &nbsp;**Definition:**\n",
    "<div class=\"alert alert-success\">  \n",
    "An <b><u>array</u></b> is a sequence. It is an ordered collection of a finite number of values, similar to a list but different in that:  \n",
    "\n",
    "- the elements in an array <b>must all be of the same data type</b>, and\n",
    "- arrays can be <b>operated on arithmetically with much more versatility</b> than regular lists\n",
    "</div>\n",
    "\n",
    "<br>\n",
    "\n",
    "<i class=\"fa fa-thumb-tack\" style=\"font-size:16px;\"></i>&nbsp; <b>Creating an Array</b>  \n",
    "\n",
    "Let's create our first array to take a deeper dive at its characteristics. We will be accessing arrays from a Python library we imported in the last section - NumPy.\n",
    "\n",
    "We can create an array from the list we made earlier, by calling `np.array()` - this function takes any sequence and turns it into an array:\n"
   ]
  },
  {
   "cell_type": "code",
   "execution_count": 25,
   "metadata": {},
   "outputs": [
    {
     "data": {
      "text/plain": [
       "array([2020, 2021, 2022, 2023])"
      ]
     },
     "execution_count": 25,
     "metadata": {},
     "output_type": "execute_result"
    }
   ],
   "source": [
    "my_array = np.array(my_list)\n",
    "my_array"
   ]
  },
  {
   "cell_type": "markdown",
   "metadata": {},
   "source": [
    "Note that the array assumes we want to maintain the data type of the elements in the original list. This is possible here because `my_list` is a list of integer values only. We can also instruct the function to take `my_list` and create an array containing strings rather than integers, using the data-type (`dtype`) parameter:\n"
   ]
  },
  {
   "cell_type": "code",
   "execution_count": 26,
   "metadata": {},
   "outputs": [
    {
     "data": {
      "text/plain": [
       "array(['2020', '2021', '2022', '2023'], dtype='<U4')"
      ]
     },
     "execution_count": 26,
     "metadata": {},
     "output_type": "execute_result"
    }
   ],
   "source": [
    "# specifying the desired data-type for the array\n",
    "np.array(my_list, dtype= str)"
   ]
  },
  {
   "cell_type": "markdown",
   "metadata": {},
   "source": [
    "If we try to create an array from a list that contains different value types, the function will try and find the easiest way to assign a data type that can capture all the elements as a single data type. If we try to create an array from `another_list`, the function will capture the elements as strings by default:"
   ]
  },
  {
   "cell_type": "code",
   "execution_count": 27,
   "metadata": {},
   "outputs": [
    {
     "data": {
      "text/plain": [
       "array(['1996', '1997', '1998', 'True'], dtype='<U11')"
      ]
     },
     "execution_count": 27,
     "metadata": {},
     "output_type": "execute_result"
    }
   ],
   "source": [
    "another_array = np.array(another_list)\n",
    "another_array"
   ]
  },
  {
   "cell_type": "markdown",
   "metadata": {},
   "source": [
    "<br><i class=\"fa fa-thumb-tack\" style=\"font-size:16px;\"></i>&nbsp; <b>Indexing & Slicing</b>\n",
    "\n",
    "Selecting elements from an array and slicing arrays work just the same way as they do with lists."
   ]
  },
  {
   "cell_type": "code",
   "execution_count": 28,
   "metadata": {},
   "outputs": [
    {
     "data": {
      "text/plain": [
       "2023"
      ]
     },
     "execution_count": 28,
     "metadata": {},
     "output_type": "execute_result"
    }
   ],
   "source": [
    "# selecting the 4th element in the array\n",
    "my_array[3]"
   ]
  },
  {
   "cell_type": "code",
   "execution_count": 29,
   "metadata": {},
   "outputs": [
    {
     "data": {
      "text/plain": [
       "array([2021, 2022])"
      ]
     },
     "execution_count": 29,
     "metadata": {},
     "output_type": "execute_result"
    }
   ],
   "source": [
    "# slicing\n",
    "my_array[1:3]"
   ]
  },
  {
   "cell_type": "markdown",
   "metadata": {},
   "source": [
    "<br><i class=\"fa fa-thumb-tack\" style=\"font-size:16px;\"></i>&nbsp; <b>Creating a Range of values with <code>np.arange()</code></b>  \n",
    "\n",
    "There will be times when we want to create an evenly incremented numeric array. `np.arange()` lets us do just that, using a very similar approach of specifying `start`, `stop`, and `step` arguments that we've seen in the context of slicing.\n",
    "\n",
    "<div class=\"alert alert-info\"><span style='color:#4169E1'><b>Run the code below to pull up the docstrings for <code>np.arange()</code>:</b></span></div>"
   ]
  },
  {
   "cell_type": "code",
   "execution_count": 30,
   "metadata": {},
   "outputs": [],
   "source": [
    "np.arange?"
   ]
  },
  {
   "cell_type": "markdown",
   "metadata": {},
   "source": [
    "<div class=\"alert alert-info\"><span style='color:#4169E1'><b>You Try!</b> Based on the instructions from the documentation, can you use the function to create the following three arrays?</span></div>\n",
    "\n",
    "```\n",
    "1. array([0, 1, 2, 3, 4])\n",
    "```"
   ]
  },
  {
   "cell_type": "code",
   "execution_count": null,
   "metadata": {},
   "outputs": [],
   "source": [
    "# Your code here"
   ]
  },
  {
   "cell_type": "markdown",
   "metadata": {},
   "source": [
    "```\n",
    "2. array([12, 19, 26, 33, 40, 47, 54, 61, 68, 75, 82, 89, 96])\n",
    "```"
   ]
  },
  {
   "cell_type": "code",
   "execution_count": null,
   "metadata": {},
   "outputs": [],
   "source": [
    "# Your code here"
   ]
  },
  {
   "cell_type": "markdown",
   "metadata": {},
   "source": [
    "```\n",
    "3. array([3. , 3.5, 4. , 4.5, 5. , 5.5, 6. , 6.5, 7. , 7.5, 8. ])\n",
    "```"
   ]
  },
  {
   "cell_type": "code",
   "execution_count": null,
   "metadata": {
    "scrolled": true
   },
   "outputs": [],
   "source": [
    "# Your code here"
   ]
  },
  {
   "cell_type": "markdown",
   "metadata": {},
   "source": [
    "<br><i class=\"fa fa-thumb-tack\" style=\"font-size:16px;\"></i>&nbsp; <b>Arithmetic Operations</b>  \n",
    "\n",
    "Recall that when we executed arithmetic operations with lists, they had the effect of combining and replicating the sequence itself but not the values contained within the sequence. In order to alter the values themselves, we needed to loop through the list, apply a transformation to each individual value, and store it back in a list.\n",
    "\n",
    "With arrays, we are able to transform the values contained within it using very simple arithmetic operations. If we want to add 10 to each value in an array, we would simply write:"
   ]
  },
  {
   "cell_type": "code",
   "execution_count": 31,
   "metadata": {},
   "outputs": [
    {
     "data": {
      "text/plain": [
       "array([2030, 2031, 2032, 2033])"
      ]
     },
     "execution_count": 31,
     "metadata": {},
     "output_type": "execute_result"
    }
   ],
   "source": [
    "my_array+10"
   ]
  },
  {
   "cell_type": "markdown",
   "metadata": {},
   "source": [
    "Unlike lists, arrays apply arithmetic operations to the elements contained within. Let's see this in an example - below are the ages of 5 adults:\n"
   ]
  },
  {
   "cell_type": "code",
   "execution_count": 6,
   "metadata": {},
   "outputs": [
    {
     "data": {
      "text/plain": [
       "array([18, 27, 35, 50, 65])"
      ]
     },
     "execution_count": 6,
     "metadata": {},
     "output_type": "execute_result"
    }
   ],
   "source": [
    "age = np.array([18, 27, 35, 50, 65])\n",
    "age"
   ]
  },
  {
   "cell_type": "markdown",
   "metadata": {},
   "source": [
    "According to the [Centers for Disease Control and Prevention](https://www.cdc.gov/physicalactivity/basics/measuring/heartrate.htm), your heart rate should fall between 77% to 93% of your maximum heart rate for \"vigorous-intensity\" physical activity; and you can estimate your maximum heart rate by subtracting your age from 220. So, for the data on 5 adults above, we can calculate an estimate of what should be their upper bound vigorous-intensity heart rate as:"
   ]
  },
  {
   "cell_type": "code",
   "execution_count": 7,
   "metadata": {},
   "outputs": [
    {
     "data": {
      "text/plain": [
       "array([187.86, 179.49, 172.05, 158.1 , 144.15])"
      ]
     },
     "execution_count": 7,
     "metadata": {},
     "output_type": "execute_result"
    }
   ],
   "source": [
    "upper_hr = (220-age)*0.93\n",
    "upper_hr"
   ]
  },
  {
   "cell_type": "markdown",
   "metadata": {},
   "source": [
    "\n",
    "<img src=\"./images/upper_hr.PNG\" width=\"600\" height=\"800\" align='left'>\n"
   ]
  },
  {
   "cell_type": "markdown",
   "metadata": {},
   "source": [
    "...and what should be their lower bound high vigorous-intensity heart rate as:"
   ]
  },
  {
   "cell_type": "code",
   "execution_count": 8,
   "metadata": {},
   "outputs": [
    {
     "data": {
      "text/plain": [
       "array([155.54, 148.61, 142.45, 130.9 , 119.35])"
      ]
     },
     "execution_count": 8,
     "metadata": {},
     "output_type": "execute_result"
    }
   ],
   "source": [
    "lower_hr = (220-age)*0.77\n",
    "lower_hr"
   ]
  },
  {
   "cell_type": "markdown",
   "metadata": {},
   "source": [
    "<img src=\"./images/lower_hr.PNG\" width=\"600\" height=\"800\" align='left'>\n"
   ]
  },
  {
   "cell_type": "markdown",
   "metadata": {},
   "source": [
    "With lists, we saw that adding two lists together creates a longer list containing all elements from the added lists. You may be wondering what happens when you add two arrays together.\n",
    "\n",
    "Suppose we want to find the width of the optimal range of vigorous-intensity heart rates for each age. Then we could simply do:"
   ]
  },
  {
   "cell_type": "code",
   "execution_count": 10,
   "metadata": {
    "scrolled": true
   },
   "outputs": [
    {
     "data": {
      "text/plain": [
       "array([32.32, 30.88, 29.6 , 27.2 , 24.8 ])"
      ]
     },
     "execution_count": 10,
     "metadata": {},
     "output_type": "execute_result"
    }
   ],
   "source": [
    "upper_hr - lower_hr"
   ]
  },
  {
   "cell_type": "markdown",
   "metadata": {},
   "source": [
    "<img src=\"./images/diff_hr.PNG\" width=\"600\" height=\"800\" align='left'>\n"
   ]
  },
  {
   "cell_type": "markdown",
   "metadata": {},
   "source": [
    "<div class=\"alert alert-warning\">\n",
    "<i class=\"fa fa-info-circle\" style=\"font-size:22px;color:orange\"></i> &nbsp;\n",
    "    If an arithmetic operator acts on two arrays <b>of the same size</b>, then the operation is performed on each corresponding pair of elements in the two arrays. The final result is an array.<br><br>\n",
    "If the arrays do NOT contain the same number of elements, the operation will fail. <b>Run the cell below to see what happens when an array with only 3 elements are subtracted from the <code>upper_hr</code> array:</b>\n",
    "</div>"
   ]
  },
  {
   "cell_type": "code",
   "execution_count": 11,
   "metadata": {},
   "outputs": [
    {
     "ename": "ValueError",
     "evalue": "operands could not be broadcast together with shapes (5,) (3,) ",
     "output_type": "error",
     "traceback": [
      "\u001b[1;31m---------------------------------------------------------------------------\u001b[0m",
      "\u001b[1;31mValueError\u001b[0m                                Traceback (most recent call last)",
      "\u001b[1;32mC:\\Users\\KEIKOK~1\\AppData\\Local\\Temp/ipykernel_14252/1404378201.py\u001b[0m in \u001b[0;36m<module>\u001b[1;34m\u001b[0m\n\u001b[0;32m      1\u001b[0m \u001b[1;31m# this will throw an error\u001b[0m\u001b[1;33m\u001b[0m\u001b[1;33m\u001b[0m\u001b[0m\n\u001b[0;32m      2\u001b[0m \u001b[0mlower_only3\u001b[0m \u001b[1;33m=\u001b[0m \u001b[0mnp\u001b[0m\u001b[1;33m.\u001b[0m\u001b[0marray\u001b[0m\u001b[1;33m(\u001b[0m\u001b[1;33m[\u001b[0m\u001b[1;36m155.54\u001b[0m\u001b[1;33m,\u001b[0m \u001b[1;36m148.61\u001b[0m\u001b[1;33m,\u001b[0m \u001b[1;36m142.45\u001b[0m\u001b[1;33m]\u001b[0m\u001b[1;33m)\u001b[0m\u001b[1;33m\u001b[0m\u001b[1;33m\u001b[0m\u001b[0m\n\u001b[1;32m----> 3\u001b[1;33m \u001b[0mupper_hr\u001b[0m \u001b[1;33m-\u001b[0m \u001b[0mlower_only3\u001b[0m\u001b[1;33m\u001b[0m\u001b[1;33m\u001b[0m\u001b[0m\n\u001b[0m",
      "\u001b[1;31mValueError\u001b[0m: operands could not be broadcast together with shapes (5,) (3,) "
     ]
    }
   ],
   "source": [
    "# this will throw an error\n",
    "lower_only3 = np.array([155.54, 148.61, 142.45])\n",
    "upper_hr - lower_only3"
   ]
  },
  {
   "cell_type": "markdown",
   "metadata": {},
   "source": [
    "---\n",
    "\n",
    "### 2.4. Strings  <a id='str'></a>\n",
    "\n",
    "It's worth mentioning that a string is another data type that is also a sequence!"
   ]
  },
  {
   "cell_type": "code",
   "execution_count": 36,
   "metadata": {},
   "outputs": [],
   "source": [
    "alphabet = 'abcdefghijklmnopqrstuvwxyz'"
   ]
  },
  {
   "cell_type": "markdown",
   "metadata": {},
   "source": [
    "*1. Strings contain a finite number of characters, and thus have a **length**:*"
   ]
  },
  {
   "cell_type": "code",
   "execution_count": 37,
   "metadata": {},
   "outputs": [
    {
     "data": {
      "text/plain": [
       "26"
      ]
     },
     "execution_count": 37,
     "metadata": {},
     "output_type": "execute_result"
    }
   ],
   "source": [
    "len(alphabet)"
   ]
  },
  {
   "cell_type": "markdown",
   "metadata": {},
   "source": [
    "*2. Strings are **ordered**:*"
   ]
  },
  {
   "cell_type": "code",
   "execution_count": 38,
   "metadata": {},
   "outputs": [
    {
     "data": {
      "text/plain": [
       "'abcdefghijklmnopqrstuvwxyz'"
      ]
     },
     "execution_count": 38,
     "metadata": {},
     "output_type": "execute_result"
    }
   ],
   "source": [
    "# the order of characters in the string will not change\n",
    "alphabet"
   ]
  },
  {
   "cell_type": "markdown",
   "metadata": {},
   "source": [
    "*3. Strings support **element selection**:*"
   ]
  },
  {
   "cell_type": "code",
   "execution_count": 39,
   "metadata": {},
   "outputs": [
    {
     "data": {
      "text/plain": [
       "'cool!'"
      ]
     },
     "execution_count": 39,
     "metadata": {},
     "output_type": "execute_result"
    }
   ],
   "source": [
    "alphabet[2] + alphabet[14]*2 + alphabet[11] + '!'"
   ]
  },
  {
   "cell_type": "markdown",
   "metadata": {},
   "source": [
    "Finally, we can iterate through a string in a loop, just as we can with lists and arrays:"
   ]
  },
  {
   "cell_type": "code",
   "execution_count": 40,
   "metadata": {},
   "outputs": [
    {
     "name": "stdout",
     "output_type": "stream",
     "text": [
      "d\n",
      "e\n",
      "h\n",
      "l\n",
      "o\n",
      "r\n",
      "w\n"
     ]
    }
   ],
   "source": [
    "for letter in alphabet:\n",
    "    if letter in 'hello world':\n",
    "        print(letter)"
   ]
  },
  {
   "cell_type": "markdown",
   "metadata": {},
   "source": [
    "---\n",
    "\n",
    "## <u>3. Summary Statistics</u><a id='stats'></a>\n",
    "\n",
    "Now that we have a way to collect data points in containers and create/use functions in Python, let's take a moment to put together everything we have learned so far to explore some basic statistical concepts! \n",
    "\n",
    "Suppose you are in a class with 14 other students and had recently taken an exam. You normally do quite well in the class, but you found this one to be particularly difficult - you ended up scoring **80.2%**, lower than your usual A-range scores. You wonder if you just hadn't studied well enough, or if your fellow high-achieving classmates struggled, too. \n",
    "\n",
    "In particular, you may be wondering:\n",
    "> *What was the average score for the class?*  \n",
    "> *What was the highest score?*  \n",
    "> *How did I do compared to the rest of the class?*\n",
    "\n",
    "These are great questions about the **distribution** - or shape - of data. We can get a good sense of what the data looks like with a set of statistics that summarize the distribtion of the data.\n",
    "\n",
    "<div class=\"alert alert-info\"><span style='color:#4169E1'><b>Run the cell below to create an array of your class's exam results:</b></span></div>\n",
    "\n"
   ]
  },
  {
   "cell_type": "code",
   "execution_count": 13,
   "metadata": {},
   "outputs": [],
   "source": [
    "# the data - exam results of your class\n",
    "test_scores = np.array([80.2, 80.3, 72.1, 78.2, 69, 77.1, 74.1, 52.9, 72.9, 79.7, 82.2, 0.0, 78.1, 73.3, 78.4])"
   ]
  },
  {
   "cell_type": "markdown",
   "metadata": {},
   "source": [
    "Let's answer one of the question right now, using a function we've seen before.\n",
    "\n",
    "<div class=\"alert alert-info\"><span style='color:#4169E1'><b>Q1: What was the highest score on the exam?</b></span></div>"
   ]
  },
  {
   "cell_type": "code",
   "execution_count": 42,
   "metadata": {},
   "outputs": [],
   "source": [
    "# Your code here"
   ]
  },
  {
   "cell_type": "markdown",
   "metadata": {},
   "source": [
    "It turns out the highest score isn't that much higher than your score at all! But you are still wondering where you placed relative to your other classmates - is your score among the top 20% of exam scores? Put another way, did you score better than 80% of the students in the class? To answer this question, we will want to find its **percentile rank**."
   ]
  },
  {
   "cell_type": "markdown",
   "metadata": {},
   "source": [
    "---\n",
    "\n",
    "### 3.1. Percentiles<a id='percentile'></a>  \n",
    "\n",
    "\n",
    "Values of a numerical data set have a **rank order** - in other words, data elements can be sorted in increasing order such that the value of data at a given rank is <u>greater than or equal to</u> the data value of the preceding rank. \n",
    "\n",
    "When working with data, it is often more informative to describe quantities in terms of percentages of the data. As example, earning the second highest score in a class with **100 other students** would seem more impressive than earning the second highest score in a class with **2 other students**. In the first scenario, you would have beat out 99 other students - in other words, **you would have scored higher than 99% of your classmates.** In the second scenario, you would have scored higher than just 1 other student - you would have scored higher than **50%** of your classmates.\n",
    "\n",
    "**These percentage values represent your percentile rank**: 99% in the first scenario; 50% in the second.\n",
    "\n",
    "<i class=\"fa fa-book\" style=\"font-size:20px;\"></i> &nbsp;**Definition:**\n",
    "<div class=\"alert alert-success\">\n",
    "The <b>percentile rank <i><code>p</code></i></b> of a value in a collection indicates that the value is greater than or equal to <b><i><code>p</code></i>%</b> of all other data points in the collection.\n",
    "</div>\n",
    "\n",
    "By definition, we can conclude that:\n",
    "* the **maximum** value has a **percentile rank of 100%**.\n",
    "* the **minimum** value of the data set can, but will **not necessarily, have a percentile rank of 0%**.\n",
    "\n",
    "Let's check this on our `test_scores` data. First, it may help to sort the test scores in ascending order - we'll use the NumPy array's `.sort()` function to do this. <span style='color:#4169E1'><b>Run the following 2 code cells:</b></span>\n"
   ]
  },
  {
   "cell_type": "code",
   "execution_count": 43,
   "metadata": {},
   "outputs": [
    {
     "data": {
      "text/plain": [
       "array([80.2, 80.3, 72.1, 78.2, 69. , 77.1, 74.1, 52.9, 72.9, 79.7, 82.2,\n",
       "        0. , 78.1, 73.3, 78.4])"
      ]
     },
     "execution_count": 43,
     "metadata": {},
     "output_type": "execute_result"
    }
   ],
   "source": [
    "# before sort\n",
    "test_scores"
   ]
  },
  {
   "cell_type": "code",
   "execution_count": 44,
   "metadata": {},
   "outputs": [
    {
     "data": {
      "text/plain": [
       "array([ 0. , 52.9, 69. , 72.1, 72.9, 73.3, 74.1, 77.1, 78.1, 78.2, 78.4,\n",
       "       79.7, 80.2, 80.3, 82.2])"
      ]
     },
     "execution_count": 44,
     "metadata": {},
     "output_type": "execute_result"
    }
   ],
   "source": [
    "# after sort\n",
    "test_scores.sort()\n",
    "test_scores"
   ]
  },
  {
   "cell_type": "markdown",
   "metadata": {},
   "source": [
    "When the data is sorted, we can understand the minimum value of the array as the left-most value in the array (index: 0) and the maximum value as the right-most value in the array (index: length-1).\n",
    "\n",
    "<br><i class=\"fa fa-thumb-tack\" style=\"font-size:16px;\"></i>&nbsp; **Maximum:**  \n",
    "As we saw earlier, the highest score is 82.2. It is indeed the case that 100% of all other values in the data are less than or equal to 82.2. The percentile rank of 82.2 is in 100%.\n",
    "\n",
    "<br><i class=\"fa fa-thumb-tack\" style=\"font-size:16px;\"></i>&nbsp; **Minimum:**  \n",
    "We also see that the lowest score is 0 (yikes!). In this example, the minimum value is unique, so it is the case that no other values are less than equal to the minimum in the data - it has a percentile rank of 0%. But what if there were multiple scores of 0 in the data?"
   ]
  },
  {
   "cell_type": "code",
   "execution_count": 14,
   "metadata": {},
   "outputs": [
    {
     "data": {
      "text/plain": [
       "array([ 0. ,  0. ,  0. ,  0. , 80.2, 80.3, 72.1, 78.2, 69. , 77.1, 74.1,\n",
       "       52.9, 72.9, 79.7, 82.2,  0. , 78.1, 73.3, 78.4])"
      ]
     },
     "execution_count": 14,
     "metadata": {},
     "output_type": "execute_result"
    }
   ],
   "source": [
    "# introducing 4 more scores of 0 to the data\n",
    "test_scores2 = np.append(np.repeat(0, 4), test_scores)\n",
    "test_scores2"
   ]
  },
  {
   "cell_type": "markdown",
   "metadata": {},
   "source": [
    "The minimum value is still 0. However, there are now four other 0's in the dataset, which means there are four other values in the array that are less than **or equal to** the minimum (index 0 of the array), or 22.2%. Thus, the percentile rank of the minmum value 0 for `test_scores2` is 22.2%."
   ]
  },
  {
   "cell_type": "code",
   "execution_count": 46,
   "metadata": {
    "scrolled": true
   },
   "outputs": [
    {
     "data": {
      "text/plain": [
       "22.22222222222222"
      ]
     },
     "execution_count": 46,
     "metadata": {},
     "output_type": "execute_result"
    }
   ],
   "source": [
    "# computing percentile rank\n",
    "4/(len(test_scores2)-1)*100"
   ]
  },
  {
   "cell_type": "markdown",
   "metadata": {},
   "source": [
    "<div class=\"alert alert-info\"><span style='color:#4169E1'><b>You Try!</b> Let's go back to our class scores data, <code>test_scores</code>. <b>What is your percentile rank?</b></span></div>"
   ]
  },
  {
   "cell_type": "code",
   "execution_count": null,
   "metadata": {},
   "outputs": [],
   "source": [
    "# Your code here"
   ]
  },
  {
   "cell_type": "markdown",
   "metadata": {},
   "source": [
    "<br><i class=\"fa fa-thumb-tack\" style=\"font-size:16px;\"></i>&nbsp; **Now we are equipped to define the concept of percentiles**! \n",
    "\n",
    "As data scientists assessing the distribution of data, we are usually more interested in looking at what the data values are at specific percentile ranks - not the other way around. The <u>data value</u> at a percentile rank of `p`% is called the <u>`p`th percentile</u>. \n",
    "\n",
    "<i class=\"fa fa-book\" style=\"font-size:20px;\"></i> &nbsp;**Definition:**\n",
    "<div class=\"alert alert-success\">\n",
    "Let <b><i><code>p</code></i></b> be a number between 0 and 100. The <b><u><i><code>p</code></i>th percentile</u></b> of a collection is the smallest <b><u>value</u></b> in the collection that is at least as large as <b><i><code>p</code></i>%</b> of all the values.<sup>2</sup>\n",
    "</div>\n",
    "\n",
    "So, by definition we know that:\n",
    "1. the 0th percentile is equivalent to the **minimum** value\n",
    "2. the 100th percentile is equivalent to the **maximum** value\n",
    "3. the 50th percentile is equivalent to the **median** value\n",
    "\n",
    "We an use the `np.percentile()` and `np.median()` functions to verify the above statements:"
   ]
  },
  {
   "cell_type": "code",
   "execution_count": 47,
   "metadata": {},
   "outputs": [
    {
     "data": {
      "text/plain": [
       "0.0"
      ]
     },
     "execution_count": 47,
     "metadata": {},
     "output_type": "execute_result"
    }
   ],
   "source": [
    "# 1.\n",
    "np.percentile(test_scores, 0)"
   ]
  },
  {
   "cell_type": "code",
   "execution_count": 15,
   "metadata": {},
   "outputs": [
    {
     "data": {
      "text/plain": [
       "82.2"
      ]
     },
     "execution_count": 15,
     "metadata": {},
     "output_type": "execute_result"
    }
   ],
   "source": [
    "# 2.\n",
    "np.percentile(test_scores, 100)"
   ]
  },
  {
   "cell_type": "code",
   "execution_count": 49,
   "metadata": {},
   "outputs": [
    {
     "data": {
      "text/plain": [
       "True"
      ]
     },
     "execution_count": 49,
     "metadata": {},
     "output_type": "execute_result"
    }
   ],
   "source": [
    "# 3.\n",
    "np.percentile(test_scores, 50) == np.median(test_scores)"
   ]
  },
  {
   "cell_type": "markdown",
   "metadata": {},
   "source": [
    "<br><i class=\"fa fa-thumb-tack\" style=\"font-size:16px;\"></i>&nbsp; **Quartiles**\n",
    "\n",
    "As we saw above, the **median** of the distribution is defined as the 50th percentile, such that 50% of the data ranks below, and the other 50% ranks above, the median value - put another way, it is the \"halfway point\" of the data and is one measure of the **center** of a distribution.\n",
    "\n",
    "It can also be referred to as the **second quartile**. The **first quartile** of a numerical distribution, you may have guessed, is the 25th percentile; and the **third quartile** is the 75th percentile. Finding the data's minimum, first quartile, median, third quartile, and maximum values together begin to give us a nice picture of what the data looks like - whether the data is spread out, if it is skewed, if it is concentrated around a certain range of values, etc.\n",
    "\n",
    "Let's find these values for our data with the `np.percentile()` function:"
   ]
  },
  {
   "cell_type": "code",
   "execution_count": 50,
   "metadata": {},
   "outputs": [
    {
     "data": {
      "text/plain": [
       "array([ 0.  , 72.5 , 77.1 , 79.05, 82.2 ])"
      ]
     },
     "execution_count": 50,
     "metadata": {},
     "output_type": "execute_result"
    }
   ],
   "source": [
    "np.percentile(test_scores, [0, 25, 50, 75, 100])"
   ]
  },
  {
   "cell_type": "markdown",
   "metadata": {},
   "source": [
    "We can see that most of the data values are gathered around the median, but that there is a noticeable **outlier** value of 0. While the median holds up well against outliers, we'll see how an outlier can heavily influence other summary statistics.\n",
    "\n",
    "---\n",
    "\n",
    "### 3.2. The Mean<a id='mean'></a> \n",
    "\n",
    "The mean is another measure of the center of a distribution. Its definition may be very familiar to you:\n",
    "\n",
    "<i class=\"fa fa-book\" style=\"font-size:20px;\"></i> &nbsp;**Definition:**\n",
    "<div class=\"alert alert-success\">\n",
    "The <i><b>average</b></i> or <i><b>mean</b></i> of a collection of numbers is the sum of all the elements in the collection, divided by the number of elements in the collection.<sup>3</sup>\n",
    "</div>\n",
    "\n",
    "The NumPy functions `np.mean()` and `np.average()` return the mean of an array.\n",
    "\n",
    "<div class=\"alert alert-info\"><span style='color:#4169E1'><b>Find the mean</b> of the class test scores:</span></div>\n"
   ]
  },
  {
   "cell_type": "code",
   "execution_count": null,
   "metadata": {},
   "outputs": [],
   "source": [
    "# Your code here"
   ]
  },
  {
   "cell_type": "markdown",
   "metadata": {},
   "source": [
    "<br><i class=\"fa fa-thumb-tack\" style=\"font-size:16px;\"></i>&nbsp; **How does it compare to the median?**\n",
    "\n",
    "Whereas the median is calculated based on the rank, or position, of the values and therefore is quite indirectly dependent on each individual value, the mean is directly dependent on the values themselves. In our example, the outlier of 0 is having the effect of pulling the sum of the scores down quite significantly before the total is divided by the number of scores. The median, on the other hand, is not nearly as affected by the value of the minimum - even if we were to <span style='color:#F4BB44'>change the minimum value</span>, as long as the value is less than or equal to the current median value, <span style='color:navy'>the median will not change</span>:\n",
    "\n",
    "**Ex.**\n",
    "><code>array_A = [<span style='color:#F4BB44'><b>0</b></span>, 3, <span style='color:navy'><b>5</b></span>, 7, 7]</code>  \n",
    " <b>Median = <span style='color:navy'>5</span></b>  \n",
    " <b>Mean = <span style='color:#CC5500'>4.4</span></b>\n",
    "\n",
    "><code>array_B = [3, <span style='color:#F4BB44'><b>4</b></span>, <span style='color:navy'><b>5</b></span>, 7, 7]</code>  \n",
    " <b>Median = <span style='color:navy'>5</span></b>  \n",
    " <b>Mean = <span style='color:#CC5500'>5.2</span></b>\n",
    "\n",
    "<br><i class=\"fa fa-thumb-tack\" style=\"font-size:16px;\"></i>&nbsp; **Visualizing Distributions**\n",
    "\n",
    "In this section we will use <a href='https://matplotlib.org/3.5.3/api/_as_gen/matplotlib.pyplot.html'><b>matplotlib</b></a>, a comprehensive visualization library, to create plots of our distributions. Don't worry about the code for generating the plots - for now, let's use this as a tool to picture what the data looks like, and to visualize the relationship between the mean, median, and shape of the distribution. \n",
    "\n",
    "<div class=\"alert alert-info\"><span style='color:#4169E1'><b>Run the cell below</b> to create a <u>histogram</u> of our test scores data:</span></div>"
   ]
  },
  {
   "cell_type": "code",
   "execution_count": 52,
   "metadata": {
    "scrolled": false
   },
   "outputs": [
    {
     "data": {
      "image/png": "[encoded data removed]",
      "text/plain": [
       "<Figure size 648x360 with 1 Axes>"
      ]
     },
     "metadata": {},
     "output_type": "display_data"
    }
   ],
   "source": [
    "import matplotlib.pyplot as plt\n",
    "%matplotlib inline\n",
    "plt.style.use('fivethirtyeight')\n",
    "\n",
    "numBins = 50\n",
    "fig, ax = plt.subplots(figsize=(9,5))\n",
    "ax.hist(test_scores, bins=numBins, density=True);\n",
    "ax.set_ylabel(\"density (% per score range)\");\n",
    "ax.set_xlabel(\"test scores\")\n",
    "ax.xaxis.set_ticks(np.arange(0, 100, 10))\n",
    "ax.set_title(\"Distribution of Test Scores\");"
   ]
  },
  {
   "cell_type": "markdown",
   "metadata": {},
   "source": [
    "<i class=\"fa fa-book\" style=\"font-size:20px;\"></i> &nbsp;**Definition:**\n",
    "<div class=\"alert alert-success\">\n",
    "A <i><b>histogram</b></i> is a visualization of the distributions of a numerical variable. It looks very much like a bar chart but there are some important differences<sup>4</sup>:    \n",
    "    \n",
    "- The horizontal (x) axis represents values captured in <u>equally spaced</u> ranges of values, called <b>bins</b>  \n",
    "- The vertical (y) axis measures the <b>density</b> of the value ranges. It captures how crowded the bins are <b>relative to the size of the bins</b> <br><i>&nbsp;&nbsp;&nbsp;It is important to note that it does <b>NOT</b> capture the percent of data that falls in each bin</i>\n",
    "- The proportion of data that falls in each bin is captured by the <b>area of the bar</b> or <code>y-value * bin width</code>\n",
    "  <br><i>&nbsp;&nbsp;&nbsp;Therefore, the total area of the histogram sums to 1.0 </i>\n",
    "    \n",
    "</div>\n",
    "\n",
    "The bin sizes used to group the scores are determined by the number of bins we want to create - the greater the number of bins the smaller the bin sizes, and, in our case, the finer the score ranges. If you are curious about the bin ranges used to creat our histogram above, run the cell below:\n",
    "\n"
   ]
  },
  {
   "cell_type": "code",
   "execution_count": 53,
   "metadata": {},
   "outputs": [
    {
     "data": {
      "text/plain": [
       "[(0.0, 1.644),\n",
       " (1.644, 3.288),\n",
       " (3.288, 4.932),\n",
       " (4.932, 6.576),\n",
       " (6.576, 8.22),\n",
       " (8.22, 9.864),\n",
       " (9.864, 11.508),\n",
       " (11.508, 13.152),\n",
       " (13.152, 14.796),\n",
       " (14.796, 16.44),\n",
       " (16.44, 18.084),\n",
       " (18.084, 19.728),\n",
       " (19.728, 21.372),\n",
       " (21.372, 23.016),\n",
       " (23.016, 24.66),\n",
       " (24.66, 26.304),\n",
       " (26.304, 27.948),\n",
       " (27.948, 29.592),\n",
       " (29.592, 31.236),\n",
       " (31.236, 32.88),\n",
       " (32.88, 34.524),\n",
       " (34.524, 36.168),\n",
       " (36.168, 37.812),\n",
       " (37.812, 39.456),\n",
       " (39.456, 41.1),\n",
       " (41.1, 42.744),\n",
       " (42.744, 44.388),\n",
       " (44.388, 46.032),\n",
       " (46.032, 47.676),\n",
       " (47.676, 49.32),\n",
       " (49.32, 50.964),\n",
       " (50.964, 52.608),\n",
       " (52.608, 54.252),\n",
       " (54.252, 55.896),\n",
       " (55.896, 57.54),\n",
       " (57.54, 59.184),\n",
       " (59.184, 60.828),\n",
       " (60.828, 62.472),\n",
       " (62.472, 64.116),\n",
       " (64.116, 65.76),\n",
       " (65.76, 67.404),\n",
       " (67.404, 69.048),\n",
       " (69.048, 70.692),\n",
       " (70.692, 72.336),\n",
       " (72.336, 73.98),\n",
       " (73.98, 75.624),\n",
       " (75.624, 77.268),\n",
       " (77.268, 78.912),\n",
       " (78.912, 80.556),\n",
       " (80.556, 82.2)]"
      ]
     },
     "execution_count": 53,
     "metadata": {},
     "output_type": "execute_result"
    }
   ],
   "source": [
    "# score bins for our histogram\n",
    "binBounds = np.round(np.arange(0, np.max(test_scores)+1, np.max(test_scores)/numBins), 3)\n",
    "[binning for binning in zip(binBounds[:-1], binBounds[1:])]"
   ]
  },
  {
   "cell_type": "markdown",
   "metadata": {},
   "source": [
    "The value 0 certainly stands out as an anomaly in the data! There is another score in the low-50's that stands isolated from the bulk of the data, too. When one side streches out away from the bulk of the data, we say that the data is **skewed**. Our histogram, we can see, is **left-skewed**. \n",
    "\n",
    "When we have a skewed distribution, the mean tends to pull away from the median in the direction of the skew.\n",
    "\n",
    "<div class=\"alert alert-info\"><span style='color:#4169E1'><b>Let's mark the mean and median values</b> on the histogram, and see where they land: <span></div>"
   ]
  },
  {
   "cell_type": "code",
   "execution_count": 54,
   "metadata": {},
   "outputs": [
    {
     "name": "stdout",
     "output_type": "stream",
     "text": [
      "Mean: 69.9\n",
      "Median: 77.1\n"
     ]
    },
    {
     "data": {
      "image/png": "[encoded data removed]",
      "text/plain": [
       "<Figure size 648x360 with 1 Axes>"
      ]
     },
     "metadata": {},
     "output_type": "display_data"
    }
   ],
   "source": [
    "plt.style.use('fivethirtyeight')\n",
    "fig, ax = plt.subplots(figsize=(9,5))\n",
    "\n",
    "mean = np.mean(test_scores)\n",
    "median = np.median(test_scores)\n",
    "print(\"Mean:\", mean)\n",
    "print(\"Median:\", median)\n",
    "ax.hist(test_scores, bins=numBins, density=True);\n",
    "ax.set_ylabel(\"density (% per score range)\");\n",
    "ax.set_xlabel(\"test scores\")\n",
    "ax.plot(mean, -0.002, marker='^', color='#CC5500', markersize=9)\n",
    "ax.plot(median, -0.002, marker='^', color='navy', markersize=9)\n",
    "ax.xaxis.set_ticks(np.arange(0, 100, 10))\n",
    "ax.set_title(\"Distribution of Test Scores\");\n"
   ]
  },
  {
   "cell_type": "markdown",
   "metadata": {},
   "source": [
    "The blue triangle marks the median value, and the orange triange marks the mean. Remember that the <span style='color:navy'><b>median</b></span> marks the \"halfway point\" of the data - half of the data values lie below the median, and the other half above the median. If we measured the area of the bars to the left of the median, and the area of the bars to its right, we would find they are roughly 0.5 (50%) each. \n",
    "\n",
    "What about the <span style='color:#CC5500'><b>mean</b></span>? On the histogram, we can see that a majority of the data points are above the mean value. Here we draw on the analogy used in the UC Berkeley [Inferential Thinking](https://inferentialthinking.com/chapters/14/1/Properties_of_the_Mean.html) Textbook:\n",
    "\n",
    "><b>The mean is the center of gravity or balance point of the histogram.</b>  \n",
    ">To understand why that is, it helps to know some physics. The center of gravity is calculated exactly as we calculated the mean, by using the distinct values weighted by their proportions.\n",
    ">\n",
    ">Because the mean is a balance point, it is sometimes displayed as a fulcrum or triangle at the base of the histogram.<sup>3</sup>. \n",
    "\n",
    "It may help to imagine the bars of the histogram as weights stacked on top of a balancing board. If we were to balance the histogram at a singular point of the board, where would we place the fulcrum? If placed near 80, the figure will tip to the left; if placed near 0, the figure will tip to the right. Somewhere in between is the point where the figure will balance - that point is 69.90666, the mean.\n"
   ]
  },
  {
   "cell_type": "code",
   "execution_count": 55,
   "metadata": {},
   "outputs": [
    {
     "data": {
      "image/png": "[encoded data removed]",
      "text/plain": [
       "<Figure size 648x360 with 1 Axes>"
      ]
     },
     "metadata": {},
     "output_type": "display_data"
    }
   ],
   "source": [
    "# let's balance the histogram:\n",
    "plt.style.use('fivethirtyeight')\n",
    "fig, ax = plt.subplots(figsize=(9,5))\n",
    "\n",
    "ax.hist(test_scores, bins=numBins, density=True);\n",
    "ax.set_ylabel(\"density (% per score range)\");\n",
    "ax.set_xlabel(\"test scores\")\n",
    "ax.xaxis.set_ticks(np.arange(0, 100, 10))\n",
    "ax.plot(np.mean(test_scores), -0.002, marker='^', color='#CC5500', markersize=9)\n",
    "# ax.plot(np.median(test_scores), -0.002, marker='^', color='navy', markersize=9)\n",
    "ax.plot([0, np.max(test_scores)], [0, 0], color='grey')\n",
    "ax.set_title(\"Distribution of Test Scores\");"
   ]
  },
  {
   "cell_type": "markdown",
   "metadata": {},
   "source": [
    "<br><i class=\"fa fa-thumb-tack\" style=\"font-size:16px;\"></i>&nbsp; **Symmetry**\n",
    "\n",
    "We can tell by looking at the histogram that the distribution of test scores is not symmetric - if we were to fold the histogram at its half-way point (the median), the shape of the two sides would not match. \n",
    "\n",
    "Most of the skew in our data is coming from the 2 lowest scores. Let's say that, upon investigating further, we find out that the two data points are in fact anomalies:\n",
    "- the student with a score of 0 had actualy dropped from the class, and\n",
    "- the student with a score of 52.9 was sent home during the exam for being sick, and was granted a re-take\n",
    "\n",
    "Since these scores will be dropped from the students' grades by the teacher, we will do the same and drop them from our analysis. What will the distribution look like now? Would it still have a skew, or is it now symmetric?  \n",
    "<div class=\"alert alert-info\"><span style='color:#4169E1'><b>Run the cell below to find out:</b></span></div>"
   ]
  },
  {
   "cell_type": "code",
   "execution_count": 18,
   "metadata": {},
   "outputs": [
    {
     "name": "stdout",
     "output_type": "stream",
     "text": [
      "Mean: 76.58461538461539\n",
      "Median: 78.1\n"
     ]
    },
    {
     "data": {
      "image/png": "[encoded data removed]",
      "text/plain": [
       "<Figure size 648x360 with 1 Axes>"
      ]
     },
     "metadata": {},
     "output_type": "display_data"
    }
   ],
   "source": [
    "test_scores.sort() # making sure this is sorted\n",
    "test_scores_high = test_scores[2:]\n",
    "mean = np.mean(test_scores_high)\n",
    "median = np.median(test_scores_high)\n",
    "print(\"Mean:\", mean)\n",
    "print(\"Median:\", median)\n",
    "\n",
    "plt.style.use('fivethirtyeight')\n",
    "fig, ax = plt.subplots(figsize=(9,5))\n",
    "\n",
    "ax.hist(test_scores_high, bins=8, density=True);\n",
    "ax.set_ylabel(\"density (% per score range)\");\n",
    "ax.set_xlabel(\"test scores\")\n",
    "ax.plot(mean, -0.002, marker='^', color='#CC5500', markersize=9)\n",
    "ax.plot(median, -0.002, marker='^', color='navy', markersize=9)\n",
    "ax.xaxis.set_ticks(np.arange(0, 105, 10))\n",
    "ax.set_title(\"Distribution of Test Scores\");"
   ]
  },
  {
   "cell_type": "markdown",
   "metadata": {},
   "source": [
    "First, notice that the mean and median values of the distribution are much closer together - they are off by only a couple of points! We can see that the distribution is also much more symmetric than before, but that there is still a slight left-skew. As we mentioned earlier, the skew is indicated not just by the shape of the histogram but by the direction the mean is pulled toward away from the median.\n",
    "\n",
    "You may already have arrived at this final point about the relationship between the mean and the median:\n",
    "\n",
    "<div class=\"alert alert-warning\">\n",
    "<i class=\"fa fa-info-circle\" style=\"font-size:22px;color:orange\"></i> &nbsp;In general, for symmetric distributions, <b>the mean and median are equal.</b><sup>3</sup>\n",
    "</div>\n",
    "\n",
    "If a distribution is symmetric, there is no left- or right-skew that pulls the center of gravity away from the median; thus, the balancing point of the histogram - the mean - would land on the median."
   ]
  },
  {
   "cell_type": "markdown",
   "metadata": {},
   "source": [
    "---\n",
    "\n",
    "### 3.3. Standard Deviation<a id='stddev'></a>  \n",
    "\n",
    "The mean and median tell us where the center of the distribution is; and the distance between them can indicate a skew in the distribution or the existince of outliers. Another important detail about a distribution is **how spread apart the data points tend to be from the mean**. This measure of variability is captured by the **standard deviation**.\n",
    "\n",
    "<div class=\"alert alert-info\"><span style='color:#4169E1'><b>Run the cell below</b> to visualize three relatively symmetric distributions with the <u>same mean</u> but <u>different standard deviations</u>:</span></div>"
   ]
  },
  {
   "cell_type": "code",
   "execution_count": 57,
   "metadata": {},
   "outputs": [
    {
     "name": "stdout",
     "output_type": "stream",
     "text": [
      "Mean: 76.58461538461539\n"
     ]
    },
    {
     "data": {
      "image/png": "[encoded data removed]",
      "text/plain": [
       "<Figure size 600x700 with 3 Axes>"
      ]
     },
     "metadata": {},
     "output_type": "display_data"
    }
   ],
   "source": [
    "plt.style.use('default')\n",
    "mean=np.mean(test_scores_high)\n",
    "print(\"Mean:\", mean)\n",
    "x1= np.random.normal(loc=mean, scale=2, size=50)\n",
    "x2= np.random.normal(loc=mean, scale=6, size=50)\n",
    "x3= np.random.normal(loc=mean, scale=12, size=50)\n",
    "\n",
    "fig, axs = plt.subplots(3, sharex=True, figsize=(6,7))\n",
    "axs[0].hist(x1, bins=15,  density=True)\n",
    "axs[0].axvline(mean, color='#CC5500', label=\"mean\")\n",
    "axs[1].hist(x2, bins=15, density=True)\n",
    "axs[1].axvline(mean, color='#CC5500', label=\"mean\")\n",
    "axs[2].hist(x3, bins=15, density=True);\n",
    "axs[2].axvline(mean, color='#CC5500', label=\"mean\")\n",
    "axs[2].set_xlabel(\"test scores\")\n",
    "axs[1].set_ylabel(\"density\")\n",
    "axs[0].set_title(\"Same mean, 3 different distributions!\")\n",
    "plt.legend();"
   ]
  },
  {
   "cell_type": "markdown",
   "metadata": {},
   "source": [
    "<br><i class=\"fa fa-thumb-tack\" style=\"font-size:16px;\"></i>&nbsp; **Calculating the Standard Deviation**\n",
    "\n",
    "Let's begin by dissecting how the measure of spread in the data is calculated. We'll use the `test_scores_high` data we created, which dropped the two anomalous cases from the data. \n",
    "\n",
    "*Note: We'll create a table to capture results of the steps along the way, but don't worry about the code for this for now - we will cover the topic of data frames and the Pandas library later in this notebook!*\n",
    "\n",
    "**Step 1.**  \n",
    "Since the standard deviation is a measure of roughly how far off the data points are from their mean, we'll need to calculate how far each value is from the mean. These values are called the **deviations from the average**, and are simply the data points minus the average."
   ]
  },
  {
   "cell_type": "code",
   "execution_count": 58,
   "metadata": {},
   "outputs": [
    {
     "name": "stdout",
     "output_type": "stream",
     "text": [
      "Mean: 76.58461538461539\n"
     ]
    },
    {
     "data": {
      "text/html": [
       "<style  type=\"text/css\" >\n",
       "</style><table id=\"T_1cbce802_3c02_11ee_adc1_74e5f972eff1\" ><thead>    <tr>        <th class=\"col_heading level0 col0\" >Score</th>        <th class=\"col_heading level0 col1\" >Deviations from Average</th>    </tr></thead><tbody>\n",
       "                <tr>\n",
       "                                <td id=\"T_1cbce802_3c02_11ee_adc1_74e5f972eff1row0_col0\" class=\"data row0 col0\" >69.000000</td>\n",
       "                        <td id=\"T_1cbce802_3c02_11ee_adc1_74e5f972eff1row0_col1\" class=\"data row0 col1\" >-7.584615</td>\n",
       "            </tr>\n",
       "            <tr>\n",
       "                                <td id=\"T_1cbce802_3c02_11ee_adc1_74e5f972eff1row1_col0\" class=\"data row1 col0\" >72.100000</td>\n",
       "                        <td id=\"T_1cbce802_3c02_11ee_adc1_74e5f972eff1row1_col1\" class=\"data row1 col1\" >-4.484615</td>\n",
       "            </tr>\n",
       "            <tr>\n",
       "                                <td id=\"T_1cbce802_3c02_11ee_adc1_74e5f972eff1row2_col0\" class=\"data row2 col0\" >72.900000</td>\n",
       "                        <td id=\"T_1cbce802_3c02_11ee_adc1_74e5f972eff1row2_col1\" class=\"data row2 col1\" >-3.684615</td>\n",
       "            </tr>\n",
       "            <tr>\n",
       "                                <td id=\"T_1cbce802_3c02_11ee_adc1_74e5f972eff1row3_col0\" class=\"data row3 col0\" >73.300000</td>\n",
       "                        <td id=\"T_1cbce802_3c02_11ee_adc1_74e5f972eff1row3_col1\" class=\"data row3 col1\" >-3.284615</td>\n",
       "            </tr>\n",
       "            <tr>\n",
       "                                <td id=\"T_1cbce802_3c02_11ee_adc1_74e5f972eff1row4_col0\" class=\"data row4 col0\" >74.100000</td>\n",
       "                        <td id=\"T_1cbce802_3c02_11ee_adc1_74e5f972eff1row4_col1\" class=\"data row4 col1\" >-2.484615</td>\n",
       "            </tr>\n",
       "            <tr>\n",
       "                                <td id=\"T_1cbce802_3c02_11ee_adc1_74e5f972eff1row5_col0\" class=\"data row5 col0\" >77.100000</td>\n",
       "                        <td id=\"T_1cbce802_3c02_11ee_adc1_74e5f972eff1row5_col1\" class=\"data row5 col1\" >0.515385</td>\n",
       "            </tr>\n",
       "            <tr>\n",
       "                                <td id=\"T_1cbce802_3c02_11ee_adc1_74e5f972eff1row6_col0\" class=\"data row6 col0\" >78.100000</td>\n",
       "                        <td id=\"T_1cbce802_3c02_11ee_adc1_74e5f972eff1row6_col1\" class=\"data row6 col1\" >1.515385</td>\n",
       "            </tr>\n",
       "            <tr>\n",
       "                                <td id=\"T_1cbce802_3c02_11ee_adc1_74e5f972eff1row7_col0\" class=\"data row7 col0\" >78.200000</td>\n",
       "                        <td id=\"T_1cbce802_3c02_11ee_adc1_74e5f972eff1row7_col1\" class=\"data row7 col1\" >1.615385</td>\n",
       "            </tr>\n",
       "            <tr>\n",
       "                                <td id=\"T_1cbce802_3c02_11ee_adc1_74e5f972eff1row8_col0\" class=\"data row8 col0\" >78.400000</td>\n",
       "                        <td id=\"T_1cbce802_3c02_11ee_adc1_74e5f972eff1row8_col1\" class=\"data row8 col1\" >1.815385</td>\n",
       "            </tr>\n",
       "            <tr>\n",
       "                                <td id=\"T_1cbce802_3c02_11ee_adc1_74e5f972eff1row9_col0\" class=\"data row9 col0\" >79.700000</td>\n",
       "                        <td id=\"T_1cbce802_3c02_11ee_adc1_74e5f972eff1row9_col1\" class=\"data row9 col1\" >3.115385</td>\n",
       "            </tr>\n",
       "            <tr>\n",
       "                                <td id=\"T_1cbce802_3c02_11ee_adc1_74e5f972eff1row10_col0\" class=\"data row10 col0\" >80.200000</td>\n",
       "                        <td id=\"T_1cbce802_3c02_11ee_adc1_74e5f972eff1row10_col1\" class=\"data row10 col1\" >3.615385</td>\n",
       "            </tr>\n",
       "            <tr>\n",
       "                                <td id=\"T_1cbce802_3c02_11ee_adc1_74e5f972eff1row11_col0\" class=\"data row11 col0\" >80.300000</td>\n",
       "                        <td id=\"T_1cbce802_3c02_11ee_adc1_74e5f972eff1row11_col1\" class=\"data row11 col1\" >3.715385</td>\n",
       "            </tr>\n",
       "            <tr>\n",
       "                                <td id=\"T_1cbce802_3c02_11ee_adc1_74e5f972eff1row12_col0\" class=\"data row12 col0\" >82.200000</td>\n",
       "                        <td id=\"T_1cbce802_3c02_11ee_adc1_74e5f972eff1row12_col1\" class=\"data row12 col1\" >5.615385</td>\n",
       "            </tr>\n",
       "    </tbody></table>"
      ],
      "text/plain": [
       "<pandas.io.formats.style.Styler at 0x1fcc1d64f28>"
      ]
     },
     "execution_count": 58,
     "metadata": {},
     "output_type": "execute_result"
    }
   ],
   "source": [
    "# 1. Deviations from the average\n",
    "mean = np.mean(test_scores_high)\n",
    "deviations = test_scores_high - mean\n",
    "print(\"Mean:\", mean)\n",
    "\n",
    "# ignore this ~~ creating table\n",
    "import pandas as pd\n",
    "calculation_steps = pd.DataFrame({\"Score\":test_scores_high, \"Deviations from Average\":deviations}, index=None)\n",
    "calculation_steps.style.hide_index()"
   ]
  },
  {
   "cell_type": "markdown",
   "metadata": {},
   "source": [
    "Note that the negative deviations correspond to values that are <u>below</u> the average; positive deviations correspond to values that are <u>above</u> the average.\n",
    "\n",
    "**Step 2.**  \n",
    "To calculate how big the deviations are, you may be inclined to find the average of the deviations. However, see what happens when all the deviations are added together:"
   ]
  },
  {
   "cell_type": "code",
   "execution_count": 59,
   "metadata": {},
   "outputs": [
    {
     "data": {
      "text/plain": [
       "-7.105427357601002e-14"
      ]
     },
     "execution_count": 59,
     "metadata": {},
     "output_type": "execute_result"
    }
   ],
   "source": [
    "# this will output 0 (or very, very close to 0, due to rounding error)\n",
    "np.sum(deviations)"
   ]
  },
  {
   "cell_type": "markdown",
   "metadata": {},
   "source": [
    "The positive and negative deviations cancel each other out! And since the sum of the deviations is 0, so is the mean of the deviations:"
   ]
  },
  {
   "cell_type": "code",
   "execution_count": 60,
   "metadata": {},
   "outputs": [
    {
     "data": {
      "text/plain": [
       "-5.465713352000771e-15"
      ]
     },
     "execution_count": 60,
     "metadata": {},
     "output_type": "execute_result"
    }
   ],
   "source": [
    "# also 0 (or very, very close to 0)\n",
    "np.mean(deviations)"
   ]
  },
  {
   "cell_type": "markdown",
   "metadata": {},
   "source": [
    "What we need is a way to get rid of the signs of these deviations that are causing each other to cancel out. One way to get rid of signs is to take the square of the value:"
   ]
  },
  {
   "cell_type": "code",
   "execution_count": 61,
   "metadata": {},
   "outputs": [
    {
     "data": {
      "text/html": [
       "<div>\n",
       "<style scoped>\n",
       "    .dataframe tbody tr th:only-of-type {\n",
       "        vertical-align: middle;\n",
       "    }\n",
       "\n",
       "    .dataframe tbody tr th {\n",
       "        vertical-align: top;\n",
       "    }\n",
       "\n",
       "    .dataframe thead th {\n",
       "        text-align: right;\n",
       "    }\n",
       "</style>\n",
       "<table border=\"1\" class=\"dataframe\">\n",
       "  <thead>\n",
       "    <tr style=\"text-align: right;\">\n",
       "      <th></th>\n",
       "      <th>Score</th>\n",
       "      <th>Deviations from Average</th>\n",
       "      <th>Squared Deviations from Average</th>\n",
       "    </tr>\n",
       "  </thead>\n",
       "  <tbody>\n",
       "    <tr>\n",
       "      <th>0</th>\n",
       "      <td>69.0</td>\n",
       "      <td>-7.584615</td>\n",
       "      <td>57.526391</td>\n",
       "    </tr>\n",
       "    <tr>\n",
       "      <th>1</th>\n",
       "      <td>72.1</td>\n",
       "      <td>-4.484615</td>\n",
       "      <td>20.111775</td>\n",
       "    </tr>\n",
       "    <tr>\n",
       "      <th>2</th>\n",
       "      <td>72.9</td>\n",
       "      <td>-3.684615</td>\n",
       "      <td>13.576391</td>\n",
       "    </tr>\n",
       "    <tr>\n",
       "      <th>3</th>\n",
       "      <td>73.3</td>\n",
       "      <td>-3.284615</td>\n",
       "      <td>10.788698</td>\n",
       "    </tr>\n",
       "    <tr>\n",
       "      <th>4</th>\n",
       "      <td>74.1</td>\n",
       "      <td>-2.484615</td>\n",
       "      <td>6.173314</td>\n",
       "    </tr>\n",
       "    <tr>\n",
       "      <th>5</th>\n",
       "      <td>77.1</td>\n",
       "      <td>0.515385</td>\n",
       "      <td>0.265621</td>\n",
       "    </tr>\n",
       "    <tr>\n",
       "      <th>6</th>\n",
       "      <td>78.1</td>\n",
       "      <td>1.515385</td>\n",
       "      <td>2.296391</td>\n",
       "    </tr>\n",
       "    <tr>\n",
       "      <th>7</th>\n",
       "      <td>78.2</td>\n",
       "      <td>1.615385</td>\n",
       "      <td>2.609467</td>\n",
       "    </tr>\n",
       "    <tr>\n",
       "      <th>8</th>\n",
       "      <td>78.4</td>\n",
       "      <td>1.815385</td>\n",
       "      <td>3.295621</td>\n",
       "    </tr>\n",
       "    <tr>\n",
       "      <th>9</th>\n",
       "      <td>79.7</td>\n",
       "      <td>3.115385</td>\n",
       "      <td>9.705621</td>\n",
       "    </tr>\n",
       "    <tr>\n",
       "      <th>10</th>\n",
       "      <td>80.2</td>\n",
       "      <td>3.615385</td>\n",
       "      <td>13.071006</td>\n",
       "    </tr>\n",
       "    <tr>\n",
       "      <th>11</th>\n",
       "      <td>80.3</td>\n",
       "      <td>3.715385</td>\n",
       "      <td>13.804083</td>\n",
       "    </tr>\n",
       "    <tr>\n",
       "      <th>12</th>\n",
       "      <td>82.2</td>\n",
       "      <td>5.615385</td>\n",
       "      <td>31.532544</td>\n",
       "    </tr>\n",
       "  </tbody>\n",
       "</table>\n",
       "</div>"
      ],
      "text/plain": [
       "    Score  Deviations from Average  Squared Deviations from Average\n",
       "0    69.0                -7.584615                        57.526391\n",
       "1    72.1                -4.484615                        20.111775\n",
       "2    72.9                -3.684615                        13.576391\n",
       "3    73.3                -3.284615                        10.788698\n",
       "4    74.1                -2.484615                         6.173314\n",
       "5    77.1                 0.515385                         0.265621\n",
       "6    78.1                 1.515385                         2.296391\n",
       "7    78.2                 1.615385                         2.609467\n",
       "8    78.4                 1.815385                         3.295621\n",
       "9    79.7                 3.115385                         9.705621\n",
       "10   80.2                 3.615385                        13.071006\n",
       "11   80.3                 3.715385                        13.804083\n",
       "12   82.2                 5.615385                        31.532544"
      ]
     },
     "execution_count": 61,
     "metadata": {},
     "output_type": "execute_result"
    }
   ],
   "source": [
    "# 2. Squaring deviations from average\n",
    "squared_deviations = deviations ** 2\n",
    "\n",
    "# ignore this ~~ updating table\n",
    "calculation_steps.loc[:,'Squared Deviations from Average'] = squared_deviations\n",
    "calculation_steps"
   ]
  },
  {
   "cell_type": "markdown",
   "metadata": {},
   "source": [
    "**Step 3.**  \n",
    "*Now* we can take the mean!\n",
    "\n",
    "<i class=\"fa fa-book\" style=\"font-size:20px;\"></i> &nbsp;**Definition:**\n",
    "<div class=\"alert alert-success\">\n",
    "The mean of the squared deviations is called the <b>variance</b> of the data values.    \n",
    "</div>\n",
    "\n",
    "Let's calculate the variance here:"
   ]
  },
  {
   "cell_type": "code",
   "execution_count": 62,
   "metadata": {},
   "outputs": [
    {
     "data": {
      "text/plain": [
       "14.212071005917169"
      ]
     },
     "execution_count": 62,
     "metadata": {},
     "output_type": "execute_result"
    }
   ],
   "source": [
    "# 3. Variance\n",
    "\n",
    "variance = np.mean(squared_deviations)\n",
    "variance"
   ]
  },
  {
   "cell_type": "markdown",
   "metadata": {},
   "source": [
    "**Step 4.**  \n",
    "For purposes of interpretability, we want to bring the units back to be the same as the units of the original variable. Since we had squared the deviations, the units are currently the square of the original units. To change the units back, we simply take the square root of the variance:"
   ]
  },
  {
   "cell_type": "code",
   "execution_count": 63,
   "metadata": {},
   "outputs": [
    {
     "data": {
      "text/plain": [
       "3.769890052231917"
      ]
     },
     "execution_count": 63,
     "metadata": {},
     "output_type": "execute_result"
    }
   ],
   "source": [
    "# 4. Square root of the Variance: the Standard Deviation\n",
    "standard_deviation = variance ** 0.5\n",
    "standard_deviation"
   ]
  },
  {
   "cell_type": "markdown",
   "metadata": {},
   "source": [
    "<i class=\"fa fa-book\" style=\"font-size:20px;\"></i> &nbsp;**Definition:**\n",
    "<div class=\"alert alert-success\">\n",
    "We have just computed the <b>standard deviation (SD)</b> of the data values. The SD measures roughly how far the data values are from their average. It is defined (and calculated) as the root-mean-square of the deviations from the average.  \n",
    "</div>\n",
    "\n",
    "You can also use the function `np.std()` to compute the SD of values in an array:"
   ]
  },
  {
   "cell_type": "code",
   "execution_count": 64,
   "metadata": {},
   "outputs": [
    {
     "data": {
      "text/plain": [
       "3.769890052231917"
      ]
     },
     "execution_count": 64,
     "metadata": {},
     "output_type": "execute_result"
    }
   ],
   "source": [
    "np.std(test_scores_high)"
   ]
  },
  {
   "cell_type": "markdown",
   "metadata": {},
   "source": [
    "<div class=\"alert alert-warning\">\n",
    "<i class=\"fa fa-info-circle\" style=\"font-size:22px;color:orange\"></i> &nbsp;Just like the mean, the standard deviation <b>is very sensitive to outliers</b> in the data. This highlights the importance of cleaning the data to rid of anomalous cases in order to extract meaningful information from these statistical analyses.\n",
    "</div>"
   ]
  },
  {
   "cell_type": "code",
   "execution_count": 65,
   "metadata": {},
   "outputs": [
    {
     "data": {
      "text/plain": [
       "19.900854253021404"
      ]
     },
     "execution_count": 65,
     "metadata": {},
     "output_type": "execute_result"
    }
   ],
   "source": [
    "# standard deviation before cleaning - original set of 15 scores:\n",
    "np.std(test_scores)"
   ]
  },
  {
   "cell_type": "markdown",
   "metadata": {},
   "source": [
    "<br><i class=\"fa fa-thumb-tack\" style=\"font-size:16px;\"></i>&nbsp; **Interpreting the Standard Deviation**\n",
    "\n",
    "So, where does your score land in the class distribution? We now have a language to describe how far away a single data point is away from the mean - <u>the number of standard deviations it is away from the mean</u>.\n",
    "\n",
    "First, calculate how different you score is from the class average:"
   ]
  },
  {
   "cell_type": "code",
   "execution_count": 66,
   "metadata": {},
   "outputs": [
    {
     "data": {
      "text/plain": [
       "3.615384615384613"
      ]
     },
     "execution_count": 66,
     "metadata": {},
     "output_type": "execute_result"
    }
   ],
   "source": [
    "# your score deviation from the mean\n",
    "80.2 - mean"
   ]
  },
  {
   "cell_type": "markdown",
   "metadata": {},
   "source": [
    "You scored 3.6 points higher than the class average of 76.6. The standard deviation is 3.75 points. You have scored almost 1 standard deviation higher than the class average:\n"
   ]
  },
  {
   "cell_type": "code",
   "execution_count": 67,
   "metadata": {},
   "outputs": [
    {
     "data": {
      "text/plain": [
       "0.9590159302508489"
      ]
     },
     "execution_count": 67,
     "metadata": {},
     "output_type": "execute_result"
    }
   ],
   "source": [
    "(80.2 - mean)/standard_deviation"
   ]
  },
  {
   "cell_type": "markdown",
   "metadata": {},
   "source": [
    "You may be wondering why we like to talk about the spread of data in terms of the number of standard deviations from the mean. This is because \"\\[i\\]n **<u>all numerical data sets</u>, the bulk of the entries are within the range 'average &plusmn; a few SDs'.\"**<sup>5</sup> In other words, we can rely on the fact that most of the data will be found within 3-4 SDs above and below the mean. When you say, \"I scored 3.6 points higher than the class average\", we don't quite know how good that result is. But when you say, \"I scored a standard deviation above the average\", we know that that is notably higher than the class average, because it is in the context of the distribution of scores. The <b>number of standard deviations</b> a specific data point is from the mean can tell us where we would expect that point to land on the histogram.\n",
    "\n",
    "For a more formal theorem, we look to what is called Chebychev's Bounds.\n",
    "\n",
    "<i class=\"fa fa-book\" style=\"font-size:20px;\"></i> &nbsp;**Definition:**\n",
    "<div class=\"alert alert-success\">\n",
    "<b>Chebychev's Bounds:</b><br>\n",
    "For any distribution of numbers <i>z</i> - no matter how irregular the distribution - the proportion of entries that are in the range \"average &plusmn; <i>z</i> SDs\" is at least $1-\\frac{1}{z^2}$.  <br>\n",
    "     \n",
    "</div>\n",
    "\n",
    "\n",
    "Plugging in SDs of 2, 3, and 4.5, we get that:\n",
    "- **at least** $1-\\frac{1}{2^2}=0.75$ &rarr; 75% of data values fall in the range \"average &plusmn; <i>2</i> SDs\"\n",
    "- **at least** $1-\\frac{1}{3^2} \\approx 0.89$ &rarr; 89% of data values fall in the range \"average &plusmn; <i>3</i> SDs\" \n",
    "- **at least** $1-\\frac{1}{4.5^2}\\approx0.95$ &rarr; 95% of data values fall in the range \"average &plusmn; <i>4.5</i> SDs\" \n",
    "\n",
    "<div class=\"alert alert-warning\">\n",
    "<i class=\"fa fa-info-circle\" style=\"font-size:22px;color:orange\"></i> &nbsp;The key phrase here is <b><i>at least</i></b> - it is very possible that 100% of the data will be captured within even 3 (or even fewer) SDs about the mean. You'll see below that this is the case in our data - most of the test scores lie within 1 SD of the class average, and amost entirely within 2 SDs of the class average. The theorem here provides a <u>lower bound</u> of the proportion of data that that will be captured within <code>z</code> standard deviations of the mean.\n",
    "</div>\n",
    "\n"
   ]
  },
  {
   "cell_type": "markdown",
   "metadata": {},
   "source": [
    "This tells us that, for any numerical distribution, the bulk of the data is always mostly contained (>= 89%) within 3 SDs of the mean, and almost entirely so (>=95%) within 5 SDs. In this context, the <b>higher the value of the SD</b>, the wider the range of values needs to be to capture \"most of the data\" (i.e. the range `[average - z*SD, average + z*SD]` widens &harr; as `SD` increases &uarr;), and thus indicate a wider spread."
   ]
  },
  {
   "cell_type": "markdown",
   "metadata": {},
   "source": [
    "<br><i class=\"fa fa-thumb-tack\" style=\"font-size:16px;\"></i>&nbsp; **Standard Units**\n",
    "\n",
    "The quantity *z* above represents *standard units*, or the number of standard deviations above or below the mean. It is common practice to **standardize the data**, such that data values are converted to standard units for purposes of analysis or modeling. Standardizing the data is an effective way to compare distributions of multiple fields of data with very different units of measure; and it is often leveraged as a data cleaning step for running machine learning models.\n",
    "\n",
    "<div class=\"alert alert-info\"><span style='color:#4169E1'><b>Run the cells below</b> to create a function for standardizing data, convert <code>test_scores_high</code> to standard units, and see how the distribution of standardized data compare to that of the original data. <b>What do you notice?</b></span></div>"
   ]
  },
  {
   "cell_type": "code",
   "execution_count": 19,
   "metadata": {},
   "outputs": [
    {
     "data": {
      "text/plain": [
       "array([-2.01189299, -1.18958785, -0.97738007, -0.87127617, -0.65906839,\n",
       "        0.13671078,  0.40197051,  0.42849648,  0.48154842,  0.82638607,\n",
       "        0.95901593,  0.9855419 ,  1.48953538])"
      ]
     },
     "execution_count": 19,
     "metadata": {},
     "output_type": "execute_result"
    }
   ],
   "source": [
    "# 1. function to standardize data\n",
    "def standardize(numbers_array):\n",
    "    \"Convert an array of numbers to standard units\"\n",
    "    return (numbers_array - np.mean(numbers_array))/np.std(numbers_array)\n",
    "\n",
    "# 2. standardize test_scores_high: # of SDs away from the mean\n",
    "standardize(test_scores_high)"
   ]
  },
  {
   "cell_type": "code",
   "execution_count": 20,
   "metadata": {},
   "outputs": [
    {
     "data": {
      "image/png": "[encoded data removed]",
      "text/plain": [
       "<Figure size 600x700 with 2 Axes>"
      ]
     },
     "metadata": {},
     "output_type": "display_data"
    }
   ],
   "source": [
    "# 3. plot the distributions of the original and standard units together\n",
    "\n",
    "plt.style.use('default')\n",
    "mean=np.mean(test_scores_high)\n",
    "\n",
    "fig, axs = plt.subplots(2, figsize=(6,7))\n",
    "axs[0].hist(test_scores_high, bins=8,  density=True)\n",
    "axs[0].axvline(mean, color='#CC5500', label=\"mean\")\n",
    "axs[1].hist(standardize(test_scores_high), bins=8, density=True);\n",
    "axs[1].axvline(0, color='#CC5500', label=\"mean\")\n",
    "axs[0].set_xlabel(\"test scores\")\n",
    "axs[1].set_xlabel(\"z scores\")\n",
    "axs[0].set_ylabel(\"density\")\n",
    "axs[1].set_ylabel(\"density\")\n",
    "axs[0].set_title(\"Original Units\", loc=\"left\")\n",
    "axs[1].set_title(\"Standard Units\", loc=\"left\")\n",
    "plt.subplots_adjust(hspace=0.4)\n",
    "\n",
    "plt.legend();"
   ]
  },
  {
   "cell_type": "markdown",
   "metadata": {},
   "source": [
    "**Nicely done!** This wraps up our Intro to Data Structures tutorial. In the next and final notebook, we will build upon these concepts to capture and explore more complicated structures of data.\n",
    "\n",
    "---\n",
    "\n",
    "\n",
    "#### Content adapted from:  \n",
    "- Jupyter Notebook modules from the [UC Berkeley Data Science Modules Program](https://ds-modules.github.io/DS-Modules/) licensed under [CC BY-NC 4.0](https://creativecommons.org/licenses/by-nc/4.0/)\n",
    "    - [Data 8X Public Materials for 2022](https://github.com/ds-modules/materials-x22/) by Sean Morris\n",
    "- [Composing Programs](https://www.composingprograms.com/) by John DeNero based on the textbook [Structure and Interpretation of Computer Programs](https://mitpress.mit.edu/9780262510875/structure-and-interpretation-of-computer-programs/) by Harold Abelson and Gerald Jay Sussman, licensed under [CC BY-SA 3.0](https://creativecommons.org/licenses/by-sa/3.0/)   \n",
    "\n",
    "#### Citations:\n",
    "\n",
    "1.  John DeNero, “2.3 Sequences,” Composing Programs, accessed 15 August 2023, www.composingprograms.com/pages/23-sequences.html. \n",
    "2. Ani Adhikari, et al, “13.1. Percentiles,” Computational and Inferential Thinking: The Foundations of Data Science, accessed 15 August 2023, https://inferentialthinking.com/chapters/13/1/Percentiles.html. \n",
    "3. Adhikari, et al, “14.1. Properties of the Mean,” https://inferentialthinking.com/chapters/14/1/Properties_of_the_Mean.html.\n",
    "4. Adhikari, et al, “17.2. Numerical Distributions,” https://inferentialthinking.com/chapters/07/2/Visualizing_Numerical_Distributions.html.\n",
    "5. Adhikari, et al, “14.2. Variability,” https://inferentialthinking.com/chapters/14/2/Variability.html.\n",
    "    \n"
   ]
  }
 ],
 "metadata": {
  "anaconda-cloud": {},
  "kernelspec": {
   "display_name": "Python 3 (ipykernel)",
   "language": "python",
   "name": "python3"
  },
  "language_info": {
   "codemirror_mode": {
    "name": "ipython",
    "version": 3
   },
   "file_extension": ".py",
   "mimetype": "text/x-python",
   "name": "python",
   "nbconvert_exporter": "python",
   "pygments_lexer": "ipython3",
   "version": "3.9.7"
  }
 },
 "nbformat": 4,
 "nbformat_minor": 2
}
