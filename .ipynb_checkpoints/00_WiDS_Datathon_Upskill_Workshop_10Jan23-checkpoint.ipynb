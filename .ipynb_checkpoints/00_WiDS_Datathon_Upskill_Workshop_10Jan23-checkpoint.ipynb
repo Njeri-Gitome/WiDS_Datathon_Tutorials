{
 "cells": [
  {
   "cell_type": "markdown",
   "metadata": {},
   "source": [
    "<img src=\"./images/wids_heading.png\" width=\"1000\" height=\"800\">\n"
   ]
  },
  {
   "cell_type": "markdown",
   "metadata": {},
   "source": [
    "## From Couch to Jupyter: a beginner's guide to data science tools & concepts\n",
    "<div><style>{style: font-size: 40px}A beginner's guide to data science</style></div>  \n",
    "January 10, 2023\n",
    "\n",
    "\n",
    "### Table of Contents:\n",
    "0. [Anaconda Set-up & Accessing Jupyter](#anaconda)\n",
    "1. [The Jupyter Notebook](#jupyter)\n",
    "2. [Data Types & Values](#data)\n",
    "3. [Data Structures](#data-struct)\n",
    "4. [Additional Resources](#resource)\n",
    "\n",
    "\n",
    "\n",
    "\n",
    "---"
   ]
  },
  {
   "cell_type": "markdown",
   "metadata": {},
   "source": [
    "## 0. Anaconda Set-up & Accessing Jupyter<a id='anaconda'></a>\n",
    "\n",
    "See \"Anaconda Installation Guide\":  \n",
    "https://github.com/keikokamei/WiDS_Datathon_Tutorials/blob/main/Anaconda%20Installation%20Guide.ipynb\n",
    "\n",
    "Further starter guides on working with conda:  \n",
    "&nbsp;&nbsp;&nbsp;&nbsp;&#8226; [Conda environments](https://conda.io/projects/conda/en/latest/user-guide/concepts/environments.html)  \n",
    "&nbsp;&nbsp;&nbsp;&nbsp;&#8226; [Getting started with conda](https://conda.io/projects/conda/en/latest/user-guide/getting-started.html)  \n",
    "&nbsp;&nbsp;&nbsp;&nbsp;&#8226; [Managing environments](https://conda.io/projects/conda/en/latest/user-guide/tasks/manage-environments.html#activating-an-environment)\n",
    "\n",
    "---\n",
    "\n",
    "## 1. The Jupyter Notebook<a id='jupyter'></a>\n",
    "\n",
    "A Jupyter Notebook is divided into what are called ***cells***. You can navigate cells by clicking on them or by using the up and down arrows. Cells will be highlighted as you navigate them.\n",
    "\n",
    "### Markdown cells\n",
    "\n",
    "Text cells (like this one) can be edited by double-clicking on them. They're written in a simple format called [Markdown](http://daringfireball.net/projects/markdown/syntax) to add formatting and section headings. It can also render HTML since Markdown is a superset of HTML; you will often see HTML tags in the Markdown cells of this notebook. You don't need to learn Markdown, but know the difference between Text Cells and Code Cells.\n",
    "\n",
    "### Code cells\n",
    "Other cells, like the one below, contain code in the Python 3 language. The fundamental building block of Python code is an **expression**. Cells can contain multiple lines with multiple expressions. We'll explain what exactly we mean by \"expressions\" in just a moment - first, let's learn how to \"run\" cells.\n"
   ]
  },
  {
   "cell_type": "code",
   "execution_count": 401,
   "metadata": {},
   "outputs": [
    {
     "name": "stdout",
     "output_type": "stream",
     "text": [
      "Hello, World!\n"
     ]
    }
   ],
   "source": [
    "# Run this cell!\n",
    "\n",
    "print(\"Hello, World!\")"
   ]
  },
  {
   "cell_type": "markdown",
   "metadata": {},
   "source": [
    "### Running cells\n",
    "\n",
    "\"Running a cell\" is equivalent to pressing \"Enter\" on a calculator once you've typed in the expression you want to evaluate: it produces a result. When you run a text cell, it outputs clean, organized writing. When you run a code cell, it **computes** all of the expressions you want to evaluate, and can **output** the result of the computation if there is anything to return.\n",
    "\n",
    "<div class=\"alert alert-warning\">\n",
    "<i class=\"fa fa-info-circle\" style=\"font-size:22px;color:orange\"></i> &nbsp; <b>To run the code in a cell</b>, first click on that cell.  It'll become highlighted with a green or blue border.  Next, you can either click the <code><b>▶</b> Run </code> button above, or press <b><code>Shift + Return</code></b> / <b><code>Shift + Enter</code></b>. This will run the current cell and select the next one.</div> \n",
    "\n",
    "Text cells are useful for taking notes and keeping your notebook organized, but your data analysis will be done in code cells. We will focus on code cells for the remainder of the notebook.  \n",
    "\n",
    "\n",
    "\n",
    "\n",
    "### Accessing Python Packages & Files in Jupyter\n",
    "\n",
    "Python offers a lot of built-in Python objects and capabilities that are very useful for data science. However, it doesn't have everything we need, so we need to get access to libraries of tools out there designed for different aspects of data science. Some commonly used packages are:\n",
    "\n",
    "|Package|For:|\n",
    "|:-|:-|\n",
    "|[NumPy](https://numpy.org/doc/stable/user/absolute_beginners.html)|Efficient operations using arrays|\n",
    "|[Pandas](https://pandas.pydata.org/docs/user_guide/10min.html#min)|Data manipulation & exploration|\n",
    "|[Matplotlib](https://matplotlib.org/stable/)|Data visualization|\n",
    "|[Scikit-learn](https://scikit-learn.org/stable/)|Machine learning|\n",
    "|...|...and many, many more!|\n",
    "\n",
    "When we open a Jupyter notebook, we have to assume it only knows built-in Python stuff - for example, it will know what the built-in function `max` is, but it won't know what `pandas` is:"
   ]
  },
  {
   "cell_type": "code",
   "execution_count": 422,
   "metadata": {},
   "outputs": [
    {
     "data": {
      "text/plain": [
       "<function max>"
      ]
     },
     "execution_count": 422,
     "metadata": {},
     "output_type": "execute_result"
    }
   ],
   "source": [
    "# Jupyter knows what this built-in Python function is\n",
    "max"
   ]
  },
  {
   "cell_type": "code",
   "execution_count": 403,
   "metadata": {
    "scrolled": true
   },
   "outputs": [
    {
     "ename": "NameError",
     "evalue": "name 'pandas' is not defined",
     "output_type": "error",
     "traceback": [
      "\u001b[1;31m---------------------------------------------------------------------------\u001b[0m",
      "\u001b[1;31mNameError\u001b[0m                                 Traceback (most recent call last)",
      "Cell \u001b[1;32mIn[403], line 1\u001b[0m\n\u001b[1;32m----> 1\u001b[0m pandas\n",
      "\u001b[1;31mNameError\u001b[0m: name 'pandas' is not defined"
     ]
    }
   ],
   "source": [
    "# this will error - Jupyter doesn't know what Pandas is\n",
    "pandas"
   ]
  },
  {
   "cell_type": "markdown",
   "metadata": {},
   "source": [
    "With Anaconda, many of these packages are already installed for us, but we do need to **import** the packages into our Jupyter Notebook so that it knows to give us acces to the tool. We do this with an import statement."
   ]
  },
  {
   "cell_type": "code",
   "execution_count": null,
   "metadata": {},
   "outputs": [],
   "source": [
    "import pandas as pd"
   ]
  },
  {
   "cell_type": "code",
   "execution_count": 417,
   "metadata": {},
   "outputs": [
    {
     "data": {
      "text/plain": [
       "<module 'pandas' from 'C:\\\\Users\\\\keikokamei\\\\AppData\\\\Local\\\\anaconda3\\\\envs\\\\wids\\\\Lib\\\\site-packages\\\\pandas\\\\__init__.py'>"
      ]
     },
     "execution_count": 417,
     "metadata": {},
     "output_type": "execute_result"
    }
   ],
   "source": [
    "# now it knows that pd contains the Pandas library\n",
    "pd"
   ]
  },
  {
   "cell_type": "markdown",
   "metadata": {},
   "source": [
    "Now we can use the pandas toolkit (stored in a variable `pd`) to \"read in\" a data file that we want to work with. Since our data file is a CSV ([comma-delimited value](https://www.businessinsider.com/guides/tech/what-is-csv-file)) file, we can do this with the Pandas `read_csv` function, which we can access from the toolkit with `pd.read_csv()`.\n",
    "\n",
    "Let's load a data file as a Pandas DataFrame, and assign it to a variable called `df`. A **variable** as just a container you can name that stores whatever you tell it to store. "
   ]
  },
  {
   "cell_type": "code",
   "execution_count": 565,
   "metadata": {},
   "outputs": [
    {
     "data": {
      "text/html": [
       "<div>\n",
       "<style scoped>\n",
       "    .dataframe tbody tr th:only-of-type {\n",
       "        vertical-align: middle;\n",
       "    }\n",
       "\n",
       "    .dataframe tbody tr th {\n",
       "        vertical-align: top;\n",
       "    }\n",
       "\n",
       "    .dataframe thead th {\n",
       "        text-align: right;\n",
       "    }\n",
       "</style>\n",
       "<table border=\"1\" class=\"dataframe\">\n",
       "  <thead>\n",
       "    <tr style=\"text-align: right;\">\n",
       "      <th></th>\n",
       "      <th>id</th>\n",
       "      <th>gender</th>\n",
       "      <th>age</th>\n",
       "      <th>hypertension</th>\n",
       "      <th>heart_disease</th>\n",
       "      <th>ever_married</th>\n",
       "      <th>work_type</th>\n",
       "      <th>Residence_type</th>\n",
       "      <th>avg_glucose_level</th>\n",
       "      <th>bmi</th>\n",
       "      <th>smoking_status</th>\n",
       "      <th>stroke</th>\n",
       "    </tr>\n",
       "  </thead>\n",
       "  <tbody>\n",
       "    <tr>\n",
       "      <th>0</th>\n",
       "      <td>9046</td>\n",
       "      <td>Male</td>\n",
       "      <td>67.0</td>\n",
       "      <td>0</td>\n",
       "      <td>1</td>\n",
       "      <td>Yes</td>\n",
       "      <td>Private</td>\n",
       "      <td>Urban</td>\n",
       "      <td>228.69</td>\n",
       "      <td>36.6</td>\n",
       "      <td>formerly smoked</td>\n",
       "      <td>1</td>\n",
       "    </tr>\n",
       "    <tr>\n",
       "      <th>1</th>\n",
       "      <td>51676</td>\n",
       "      <td>Female</td>\n",
       "      <td>61.0</td>\n",
       "      <td>0</td>\n",
       "      <td>0</td>\n",
       "      <td>Yes</td>\n",
       "      <td>Self-employed</td>\n",
       "      <td>Rural</td>\n",
       "      <td>202.21</td>\n",
       "      <td>NaN</td>\n",
       "      <td>never smoked</td>\n",
       "      <td>1</td>\n",
       "    </tr>\n",
       "    <tr>\n",
       "      <th>2</th>\n",
       "      <td>31112</td>\n",
       "      <td>Male</td>\n",
       "      <td>80.0</td>\n",
       "      <td>0</td>\n",
       "      <td>1</td>\n",
       "      <td>Yes</td>\n",
       "      <td>Private</td>\n",
       "      <td>Rural</td>\n",
       "      <td>105.92</td>\n",
       "      <td>32.5</td>\n",
       "      <td>never smoked</td>\n",
       "      <td>1</td>\n",
       "    </tr>\n",
       "    <tr>\n",
       "      <th>3</th>\n",
       "      <td>60182</td>\n",
       "      <td>Female</td>\n",
       "      <td>49.0</td>\n",
       "      <td>0</td>\n",
       "      <td>0</td>\n",
       "      <td>Yes</td>\n",
       "      <td>Private</td>\n",
       "      <td>Urban</td>\n",
       "      <td>171.23</td>\n",
       "      <td>34.4</td>\n",
       "      <td>smokes</td>\n",
       "      <td>1</td>\n",
       "    </tr>\n",
       "    <tr>\n",
       "      <th>4</th>\n",
       "      <td>1665</td>\n",
       "      <td>Female</td>\n",
       "      <td>79.0</td>\n",
       "      <td>1</td>\n",
       "      <td>0</td>\n",
       "      <td>Yes</td>\n",
       "      <td>Self-employed</td>\n",
       "      <td>Rural</td>\n",
       "      <td>174.12</td>\n",
       "      <td>24.0</td>\n",
       "      <td>never smoked</td>\n",
       "      <td>1</td>\n",
       "    </tr>\n",
       "    <tr>\n",
       "      <th>...</th>\n",
       "      <td>...</td>\n",
       "      <td>...</td>\n",
       "      <td>...</td>\n",
       "      <td>...</td>\n",
       "      <td>...</td>\n",
       "      <td>...</td>\n",
       "      <td>...</td>\n",
       "      <td>...</td>\n",
       "      <td>...</td>\n",
       "      <td>...</td>\n",
       "      <td>...</td>\n",
       "      <td>...</td>\n",
       "    </tr>\n",
       "    <tr>\n",
       "      <th>5105</th>\n",
       "      <td>18234</td>\n",
       "      <td>Female</td>\n",
       "      <td>80.0</td>\n",
       "      <td>1</td>\n",
       "      <td>0</td>\n",
       "      <td>Yes</td>\n",
       "      <td>Private</td>\n",
       "      <td>Urban</td>\n",
       "      <td>83.75</td>\n",
       "      <td>NaN</td>\n",
       "      <td>never smoked</td>\n",
       "      <td>0</td>\n",
       "    </tr>\n",
       "    <tr>\n",
       "      <th>5106</th>\n",
       "      <td>44873</td>\n",
       "      <td>Female</td>\n",
       "      <td>81.0</td>\n",
       "      <td>0</td>\n",
       "      <td>0</td>\n",
       "      <td>Yes</td>\n",
       "      <td>Self-employed</td>\n",
       "      <td>Urban</td>\n",
       "      <td>125.20</td>\n",
       "      <td>40.0</td>\n",
       "      <td>never smoked</td>\n",
       "      <td>0</td>\n",
       "    </tr>\n",
       "    <tr>\n",
       "      <th>5107</th>\n",
       "      <td>19723</td>\n",
       "      <td>Female</td>\n",
       "      <td>35.0</td>\n",
       "      <td>0</td>\n",
       "      <td>0</td>\n",
       "      <td>Yes</td>\n",
       "      <td>Self-employed</td>\n",
       "      <td>Rural</td>\n",
       "      <td>82.99</td>\n",
       "      <td>30.6</td>\n",
       "      <td>never smoked</td>\n",
       "      <td>0</td>\n",
       "    </tr>\n",
       "    <tr>\n",
       "      <th>5108</th>\n",
       "      <td>37544</td>\n",
       "      <td>Male</td>\n",
       "      <td>51.0</td>\n",
       "      <td>0</td>\n",
       "      <td>0</td>\n",
       "      <td>Yes</td>\n",
       "      <td>Private</td>\n",
       "      <td>Rural</td>\n",
       "      <td>166.29</td>\n",
       "      <td>25.6</td>\n",
       "      <td>formerly smoked</td>\n",
       "      <td>0</td>\n",
       "    </tr>\n",
       "    <tr>\n",
       "      <th>5109</th>\n",
       "      <td>44679</td>\n",
       "      <td>Female</td>\n",
       "      <td>44.0</td>\n",
       "      <td>0</td>\n",
       "      <td>0</td>\n",
       "      <td>Yes</td>\n",
       "      <td>Govt_job</td>\n",
       "      <td>Urban</td>\n",
       "      <td>85.28</td>\n",
       "      <td>26.2</td>\n",
       "      <td>Unknown</td>\n",
       "      <td>0</td>\n",
       "    </tr>\n",
       "  </tbody>\n",
       "</table>\n",
       "<p>5110 rows × 12 columns</p>\n",
       "</div>"
      ],
      "text/plain": [
       "         id  gender   age  hypertension  heart_disease ever_married  \\\n",
       "0      9046    Male  67.0             0              1          Yes   \n",
       "1     51676  Female  61.0             0              0          Yes   \n",
       "2     31112    Male  80.0             0              1          Yes   \n",
       "3     60182  Female  49.0             0              0          Yes   \n",
       "4      1665  Female  79.0             1              0          Yes   \n",
       "...     ...     ...   ...           ...            ...          ...   \n",
       "5105  18234  Female  80.0             1              0          Yes   \n",
       "5106  44873  Female  81.0             0              0          Yes   \n",
       "5107  19723  Female  35.0             0              0          Yes   \n",
       "5108  37544    Male  51.0             0              0          Yes   \n",
       "5109  44679  Female  44.0             0              0          Yes   \n",
       "\n",
       "          work_type Residence_type  avg_glucose_level   bmi   smoking_status  \\\n",
       "0           Private          Urban             228.69  36.6  formerly smoked   \n",
       "1     Self-employed          Rural             202.21   NaN     never smoked   \n",
       "2           Private          Rural             105.92  32.5     never smoked   \n",
       "3           Private          Urban             171.23  34.4           smokes   \n",
       "4     Self-employed          Rural             174.12  24.0     never smoked   \n",
       "...             ...            ...                ...   ...              ...   \n",
       "5105        Private          Urban              83.75   NaN     never smoked   \n",
       "5106  Self-employed          Urban             125.20  40.0     never smoked   \n",
       "5107  Self-employed          Rural              82.99  30.6     never smoked   \n",
       "5108        Private          Rural             166.29  25.6  formerly smoked   \n",
       "5109       Govt_job          Urban              85.28  26.2          Unknown   \n",
       "\n",
       "      stroke  \n",
       "0          1  \n",
       "1          1  \n",
       "2          1  \n",
       "3          1  \n",
       "4          1  \n",
       "...      ...  \n",
       "5105       0  \n",
       "5106       0  \n",
       "5107       0  \n",
       "5108       0  \n",
       "5109       0  \n",
       "\n",
       "[5110 rows x 12 columns]"
      ]
     },
     "execution_count": 565,
     "metadata": {},
     "output_type": "execute_result"
    }
   ],
   "source": [
    "# note: see \"03_More_DataStructures.ipynb\" tutorial for details on specifying data file paths\n",
    "df = pd.read_csv('./data/healthcare-dataset-stroke-data.csv')\n",
    "\n",
    "# showing the content of our variable df\n",
    "df"
   ]
  },
  {
   "cell_type": "markdown",
   "metadata": {},
   "source": [
    "<i class=\"fa fa-thumb-tack\" style=\"font-size:16px;\"></i>&nbsp;&nbsp;**To summarize**, we these two code cells we have already:\n",
    "\n",
    "1. Imported the Pandas library, and saved it in a variable called `pd`\n",
    "2. Used the `read_csv` function from Pandas to create a DataFrame of a data file we pointed it to\n",
    "3. Saved the DataFrame in a variable called `df`\n",
    "4. Displayed the content of the DataFrame"
   ]
  },
  {
   "cell_type": "markdown",
   "metadata": {},
   "source": [
    "---\n",
    "\n",
    "## 2. Data Types and Values<a id='data'></a>  \n",
    "<p></p>\n",
    "The dataset we've just loaded into our notebook is the <a href=\"https://www.kaggle.com/datasets/fedesoriano/stroke-prediction-dataset?resource=download\"><b>Stroke Prediction Dataset</b> available on Kaggle</a>. If you have downloaded the entire \n",
    "<a href=\"https://github.com/keikokamei/WiDS_Datathon_Tutorials\">WiDS_Datathon_Tutorials</a> GitHub repository, this dataset is already made available to you in the data folder. Let's use this dataset to explore some common data types and values.\n",
    "\n",
    "Below is a **data dictionary** from the Kaggle page that detail the available columns and what they represent:\n",
    ">1) id: unique identifier\n",
    ">2) gender: \"Male\", \"Female\" or \"Other\"\n",
    ">3) age: age of the patient\n",
    ">4) hypertension: 0 if the patient doesn't have hypertension, 1 if the patient has hypertension\n",
    ">5) heart_disease: 0 if the patient doesn't have any heart diseases, 1 if the patient has a heart disease\n",
    ">6) ever_married: \"No\" or \"Yes\"\n",
    ">7) work_type: \"children\", \"Govt_jov\", \"Never_worked\", \"Private\" or \"Self-employed\"\n",
    ">8) Residence_type: \"Rural\" or \"Urban\"\n",
    ">9) avg_glucose_level: average glucose level in blood\n",
    ">10) bmi: body mass index\n",
    ">11) smoking_status: \"formerly smoked\", \"never smoked\", \"smokes\" or \"Unknown\"*\n",
    ">12) stroke: 1 if the patient had a stroke or 0 if not  \n",
    ">\n",
    ">*Note: \"Unknown\" in smoking_status means that the information is unavailable for this patient*\n",
    "\n",
    "As we explore the dataset in the context of our workshop topics, you will see code used to manipulate the Pandas DataFrame object that contains our data. Don't worry about what the code is doing in the beginning, and rest assured that by the end of the tutorial notebooks you will have the skillset to understand what is being done.\n"
   ]
  },
  {
   "cell_type": "code",
   "execution_count": 421,
   "metadata": {},
   "outputs": [
    {
     "data": {
      "text/html": [
       "<div>\n",
       "<style scoped>\n",
       "    .dataframe tbody tr th:only-of-type {\n",
       "        vertical-align: middle;\n",
       "    }\n",
       "\n",
       "    .dataframe tbody tr th {\n",
       "        vertical-align: top;\n",
       "    }\n",
       "\n",
       "    .dataframe thead th {\n",
       "        text-align: right;\n",
       "    }\n",
       "</style>\n",
       "<table border=\"1\" class=\"dataframe\">\n",
       "  <thead>\n",
       "    <tr style=\"text-align: right;\">\n",
       "      <th></th>\n",
       "      <th>id</th>\n",
       "      <th>gender</th>\n",
       "      <th>age</th>\n",
       "      <th>hypertension</th>\n",
       "      <th>heart_disease</th>\n",
       "      <th>ever_married</th>\n",
       "      <th>work_type</th>\n",
       "      <th>Residence_type</th>\n",
       "      <th>avg_glucose_level</th>\n",
       "      <th>bmi</th>\n",
       "      <th>smoking_status</th>\n",
       "      <th>stroke</th>\n",
       "    </tr>\n",
       "  </thead>\n",
       "  <tbody>\n",
       "    <tr>\n",
       "      <th>0</th>\n",
       "      <td>9046</td>\n",
       "      <td>Male</td>\n",
       "      <td>67.0</td>\n",
       "      <td>0</td>\n",
       "      <td>1</td>\n",
       "      <td>Yes</td>\n",
       "      <td>Private</td>\n",
       "      <td>Urban</td>\n",
       "      <td>228.69</td>\n",
       "      <td>36.6</td>\n",
       "      <td>formerly smoked</td>\n",
       "      <td>1</td>\n",
       "    </tr>\n",
       "    <tr>\n",
       "      <th>1</th>\n",
       "      <td>51676</td>\n",
       "      <td>Female</td>\n",
       "      <td>61.0</td>\n",
       "      <td>0</td>\n",
       "      <td>0</td>\n",
       "      <td>Yes</td>\n",
       "      <td>Self-employed</td>\n",
       "      <td>Rural</td>\n",
       "      <td>202.21</td>\n",
       "      <td>NaN</td>\n",
       "      <td>never smoked</td>\n",
       "      <td>1</td>\n",
       "    </tr>\n",
       "    <tr>\n",
       "      <th>2</th>\n",
       "      <td>31112</td>\n",
       "      <td>Male</td>\n",
       "      <td>80.0</td>\n",
       "      <td>0</td>\n",
       "      <td>1</td>\n",
       "      <td>Yes</td>\n",
       "      <td>Private</td>\n",
       "      <td>Rural</td>\n",
       "      <td>105.92</td>\n",
       "      <td>32.5</td>\n",
       "      <td>never smoked</td>\n",
       "      <td>1</td>\n",
       "    </tr>\n",
       "    <tr>\n",
       "      <th>3</th>\n",
       "      <td>60182</td>\n",
       "      <td>Female</td>\n",
       "      <td>49.0</td>\n",
       "      <td>0</td>\n",
       "      <td>0</td>\n",
       "      <td>Yes</td>\n",
       "      <td>Private</td>\n",
       "      <td>Urban</td>\n",
       "      <td>171.23</td>\n",
       "      <td>34.4</td>\n",
       "      <td>smokes</td>\n",
       "      <td>1</td>\n",
       "    </tr>\n",
       "    <tr>\n",
       "      <th>4</th>\n",
       "      <td>1665</td>\n",
       "      <td>Female</td>\n",
       "      <td>79.0</td>\n",
       "      <td>1</td>\n",
       "      <td>0</td>\n",
       "      <td>Yes</td>\n",
       "      <td>Self-employed</td>\n",
       "      <td>Rural</td>\n",
       "      <td>174.12</td>\n",
       "      <td>24.0</td>\n",
       "      <td>never smoked</td>\n",
       "      <td>1</td>\n",
       "    </tr>\n",
       "    <tr>\n",
       "      <th>5</th>\n",
       "      <td>56669</td>\n",
       "      <td>Male</td>\n",
       "      <td>81.0</td>\n",
       "      <td>0</td>\n",
       "      <td>0</td>\n",
       "      <td>Yes</td>\n",
       "      <td>Private</td>\n",
       "      <td>Urban</td>\n",
       "      <td>186.21</td>\n",
       "      <td>29.0</td>\n",
       "      <td>formerly smoked</td>\n",
       "      <td>1</td>\n",
       "    </tr>\n",
       "    <tr>\n",
       "      <th>6</th>\n",
       "      <td>53882</td>\n",
       "      <td>Male</td>\n",
       "      <td>74.0</td>\n",
       "      <td>1</td>\n",
       "      <td>1</td>\n",
       "      <td>Yes</td>\n",
       "      <td>Private</td>\n",
       "      <td>Rural</td>\n",
       "      <td>70.09</td>\n",
       "      <td>27.4</td>\n",
       "      <td>never smoked</td>\n",
       "      <td>1</td>\n",
       "    </tr>\n",
       "    <tr>\n",
       "      <th>7</th>\n",
       "      <td>10434</td>\n",
       "      <td>Female</td>\n",
       "      <td>69.0</td>\n",
       "      <td>0</td>\n",
       "      <td>0</td>\n",
       "      <td>No</td>\n",
       "      <td>Private</td>\n",
       "      <td>Urban</td>\n",
       "      <td>94.39</td>\n",
       "      <td>22.8</td>\n",
       "      <td>never smoked</td>\n",
       "      <td>1</td>\n",
       "    </tr>\n",
       "    <tr>\n",
       "      <th>8</th>\n",
       "      <td>27419</td>\n",
       "      <td>Female</td>\n",
       "      <td>59.0</td>\n",
       "      <td>0</td>\n",
       "      <td>0</td>\n",
       "      <td>Yes</td>\n",
       "      <td>Private</td>\n",
       "      <td>Rural</td>\n",
       "      <td>76.15</td>\n",
       "      <td>NaN</td>\n",
       "      <td>Unknown</td>\n",
       "      <td>1</td>\n",
       "    </tr>\n",
       "    <tr>\n",
       "      <th>9</th>\n",
       "      <td>60491</td>\n",
       "      <td>Female</td>\n",
       "      <td>78.0</td>\n",
       "      <td>0</td>\n",
       "      <td>0</td>\n",
       "      <td>Yes</td>\n",
       "      <td>Private</td>\n",
       "      <td>Urban</td>\n",
       "      <td>58.57</td>\n",
       "      <td>24.2</td>\n",
       "      <td>Unknown</td>\n",
       "      <td>1</td>\n",
       "    </tr>\n",
       "    <tr>\n",
       "      <th>10</th>\n",
       "      <td>12109</td>\n",
       "      <td>Female</td>\n",
       "      <td>81.0</td>\n",
       "      <td>1</td>\n",
       "      <td>0</td>\n",
       "      <td>Yes</td>\n",
       "      <td>Private</td>\n",
       "      <td>Rural</td>\n",
       "      <td>80.43</td>\n",
       "      <td>29.7</td>\n",
       "      <td>never smoked</td>\n",
       "      <td>1</td>\n",
       "    </tr>\n",
       "    <tr>\n",
       "      <th>11</th>\n",
       "      <td>12095</td>\n",
       "      <td>Female</td>\n",
       "      <td>61.0</td>\n",
       "      <td>0</td>\n",
       "      <td>1</td>\n",
       "      <td>Yes</td>\n",
       "      <td>Govt_job</td>\n",
       "      <td>Rural</td>\n",
       "      <td>120.46</td>\n",
       "      <td>36.8</td>\n",
       "      <td>smokes</td>\n",
       "      <td>1</td>\n",
       "    </tr>\n",
       "    <tr>\n",
       "      <th>12</th>\n",
       "      <td>12175</td>\n",
       "      <td>Female</td>\n",
       "      <td>54.0</td>\n",
       "      <td>0</td>\n",
       "      <td>0</td>\n",
       "      <td>Yes</td>\n",
       "      <td>Private</td>\n",
       "      <td>Urban</td>\n",
       "      <td>104.51</td>\n",
       "      <td>27.3</td>\n",
       "      <td>smokes</td>\n",
       "      <td>1</td>\n",
       "    </tr>\n",
       "    <tr>\n",
       "      <th>13</th>\n",
       "      <td>8213</td>\n",
       "      <td>Male</td>\n",
       "      <td>78.0</td>\n",
       "      <td>0</td>\n",
       "      <td>1</td>\n",
       "      <td>Yes</td>\n",
       "      <td>Private</td>\n",
       "      <td>Urban</td>\n",
       "      <td>219.84</td>\n",
       "      <td>NaN</td>\n",
       "      <td>Unknown</td>\n",
       "      <td>1</td>\n",
       "    </tr>\n",
       "    <tr>\n",
       "      <th>14</th>\n",
       "      <td>5317</td>\n",
       "      <td>Female</td>\n",
       "      <td>79.0</td>\n",
       "      <td>0</td>\n",
       "      <td>1</td>\n",
       "      <td>Yes</td>\n",
       "      <td>Private</td>\n",
       "      <td>Urban</td>\n",
       "      <td>214.09</td>\n",
       "      <td>28.2</td>\n",
       "      <td>never smoked</td>\n",
       "      <td>1</td>\n",
       "    </tr>\n",
       "  </tbody>\n",
       "</table>\n",
       "</div>"
      ],
      "text/plain": [
       "       id  gender   age  hypertension  heart_disease ever_married  \\\n",
       "0    9046    Male  67.0             0              1          Yes   \n",
       "1   51676  Female  61.0             0              0          Yes   \n",
       "2   31112    Male  80.0             0              1          Yes   \n",
       "3   60182  Female  49.0             0              0          Yes   \n",
       "4    1665  Female  79.0             1              0          Yes   \n",
       "5   56669    Male  81.0             0              0          Yes   \n",
       "6   53882    Male  74.0             1              1          Yes   \n",
       "7   10434  Female  69.0             0              0           No   \n",
       "8   27419  Female  59.0             0              0          Yes   \n",
       "9   60491  Female  78.0             0              0          Yes   \n",
       "10  12109  Female  81.0             1              0          Yes   \n",
       "11  12095  Female  61.0             0              1          Yes   \n",
       "12  12175  Female  54.0             0              0          Yes   \n",
       "13   8213    Male  78.0             0              1          Yes   \n",
       "14   5317  Female  79.0             0              1          Yes   \n",
       "\n",
       "        work_type Residence_type  avg_glucose_level   bmi   smoking_status  \\\n",
       "0         Private          Urban             228.69  36.6  formerly smoked   \n",
       "1   Self-employed          Rural             202.21   NaN     never smoked   \n",
       "2         Private          Rural             105.92  32.5     never smoked   \n",
       "3         Private          Urban             171.23  34.4           smokes   \n",
       "4   Self-employed          Rural             174.12  24.0     never smoked   \n",
       "5         Private          Urban             186.21  29.0  formerly smoked   \n",
       "6         Private          Rural              70.09  27.4     never smoked   \n",
       "7         Private          Urban              94.39  22.8     never smoked   \n",
       "8         Private          Rural              76.15   NaN          Unknown   \n",
       "9         Private          Urban              58.57  24.2          Unknown   \n",
       "10        Private          Rural              80.43  29.7     never smoked   \n",
       "11       Govt_job          Rural             120.46  36.8           smokes   \n",
       "12        Private          Urban             104.51  27.3           smokes   \n",
       "13        Private          Urban             219.84   NaN          Unknown   \n",
       "14        Private          Urban             214.09  28.2     never smoked   \n",
       "\n",
       "    stroke  \n",
       "0        1  \n",
       "1        1  \n",
       "2        1  \n",
       "3        1  \n",
       "4        1  \n",
       "5        1  \n",
       "6        1  \n",
       "7        1  \n",
       "8        1  \n",
       "9        1  \n",
       "10       1  \n",
       "11       1  \n",
       "12       1  \n",
       "13       1  \n",
       "14       1  "
      ]
     },
     "execution_count": 421,
     "metadata": {},
     "output_type": "execute_result"
    }
   ],
   "source": [
    "# displaying the first 15 rows\n",
    "df.head(15)"
   ]
  },
  {
   "cell_type": "markdown",
   "metadata": {},
   "source": [
    "One of the first things you may have noticed is that our dataset contains **numbers** and **text**. Intuitively, you may already be thinking about the two main types of data, captured below in a fantastic summary of data types provided by the WiDS Trinidad and Tobago team:\n",
    "\n",
    "<img src=\"./images/typesOfData.png\" width=\"600\" height=\"800\" align='center'>\n",
    "\n",
    "---\n",
    "\n",
    "\n",
    "### 2.1. Numeric Values - integers & floats<a id='num'></a>\n",
    "You may have noticed that there are different types of numeric values in this dataset. Since most machine learning models can only operate on numerical features, understanding the differences amongst numeric data values and what they represent is an important step for exploratory analyses and preprocessing the data for modeling.  \n",
    "\n",
    "\n",
    "<br><i class=\"fa fa-thumb-tack\" style=\"font-size:16px;\"></i>&nbsp;&nbsp;**Integer:**  <br>  \n",
    "Integers are positive or negative non-decimal whole values (e.g. -10, 0, 2024). In our data, fields like `id`, `heart_disease` (whether or not the patient has heart disease), and `stroke` (whether or not the patient had a stroke) are populated with integers. \n",
    "\n",
    "If we use the built-in Python function `type()` to check the value type of an integer value, it'll let us know that it is an `int` (integer) type."
   ]
  },
  {
   "cell_type": "code",
   "execution_count": 310,
   "metadata": {},
   "outputs": [
    {
     "data": {
      "text/plain": [
       "2024"
      ]
     },
     "execution_count": 310,
     "metadata": {},
     "output_type": "execute_result"
    }
   ],
   "source": [
    "# examples: -10, 0, 2024, -99999, 1\n",
    "2024"
   ]
  },
  {
   "cell_type": "code",
   "execution_count": 312,
   "metadata": {},
   "outputs": [
    {
     "data": {
      "text/plain": [
       "int"
      ]
     },
     "execution_count": 312,
     "metadata": {},
     "output_type": "execute_result"
    }
   ],
   "source": [
    "type(2024)"
   ]
  },
  {
   "cell_type": "markdown",
   "metadata": {},
   "source": [
    "Integers can represent both **quantitative** and **qualitative** data.\n",
    "\n",
    "<div class=\"alert alert-success\">\n",
    "<i class=\"fa fa-book\" style=\"font-size:20px;\"></i> &nbsp;<b>Definition:</b>\n",
    "    <li><u>Quantitative</u> data captures measured quantities, such as counts, lengths, durations, or ratios.</li>     \n",
    "    <li><u>Qualitative</u> data are descriptions or observations that do not measure or quantify anything, such as a person's occupation, eye color, or home address.</li>\n",
    "</div>\n",
    "\n",
    "Just because some data is represented by a number does not mean the data is quantitative. As example, take another look at the `heart_disease` field. What do its data values represent? In this feature, `1` indicates that, yes, the patient has heart disease, and `0` indicates that the patient does not. These are not numerical measurements but rather flags indicating whether a description applies to the patient or not. The same type of \"Yes\"/\"No\" information is captured in the `ever_married` field using text rather than integer values."
   ]
  },
  {
   "cell_type": "markdown",
   "metadata": {},
   "source": [
    "<br><i class=\"fa fa-thumb-tack\" style=\"font-size:16px;\"></i>&nbsp;&nbsp;**Floating point number:**  <br>  \n",
    "\n",
    "Floating point numbers (floats) are positive or negative whole numbers with a decimal point, meaning they can represent fractions of numbers. In our data, fields capturing `age`, average glucose level (`avg_glucose_level`) and body mass index (`bmi`) are populated by float values.\n",
    "\n",
    "Above, we showed that the value `1` is an integer value. See what happens when we add a decimal place `.0` to the whole number:"
   ]
  },
  {
   "cell_type": "code",
   "execution_count": 313,
   "metadata": {
    "scrolled": true
   },
   "outputs": [
    {
     "data": {
      "text/plain": [
       "1.0"
      ]
     },
     "execution_count": 313,
     "metadata": {},
     "output_type": "execute_result"
    }
   ],
   "source": [
    "1.0"
   ]
  },
  {
   "cell_type": "code",
   "execution_count": 317,
   "metadata": {},
   "outputs": [
    {
     "data": {
      "text/plain": [
       "float"
      ]
     },
     "execution_count": 317,
     "metadata": {},
     "output_type": "execute_result"
    }
   ],
   "source": [
    "type(1.0)"
   ]
  },
  {
   "cell_type": "markdown",
   "metadata": {},
   "source": [
    "The represented values are the same, but the value type is now a float. Floats can represent anything an integer can represent, plus features that require a higher level of precision such as for **continuous** data like height, glucose level, and BMI. \n",
    "\n",
    "<div class=\"alert alert-success\">\n",
    "<i class=\"fa fa-book\" style=\"font-size:20px;\"></i> &nbsp;<b>Definition:</b>  \n",
    "    \n",
    "<u>Continuous</u> data is a type of quantitative data that can take on <b>any</b> value within a range. If a quantitative feature is not continuous, and therefore capture increments of non-divisible values, the data is <u>discrete</u>.\n",
    "</div>\n",
    "\n",
    "\n"
   ]
  },
  {
   "cell_type": "markdown",
   "metadata": {},
   "source": [
    "<br><i class=\"fa fa-thumb-tack\" style=\"font-size:16px;\"></i>&nbsp;&nbsp;**Arithmetic Operations on Numeric Values:**  <br>  \n",
    "\n",
    "\n",
    "With values like integers and floats, we can use code cells like a calculator and compute arithmetic operations. Below are some basic arithmetic operators that are built into Python:\n",
    "\n",
    "|Operation|Operator|Example|Result|\n",
    "|:-|:-|:-|:-|\n",
    "|Addition|`+`|`1 + 2`|`3`|\n",
    "|Subtraction|`-`|`1 - 2`|`-1`|\n",
    "|Multiplication|`*`|`2 * 3`|`6`|\n",
    "|Division|`/`|`10 / 3`|`3.3333`|\n",
    "|Remainder|`%`|`10 % 3`|`1`|\n",
    "|Exponentiation|`**`|`2 ** 3`|`8`|\n",
    "\n"
   ]
  },
  {
   "cell_type": "code",
   "execution_count": 290,
   "metadata": {},
   "outputs": [
    {
     "data": {
      "text/plain": [
       "2023"
      ]
     },
     "execution_count": 290,
     "metadata": {},
     "output_type": "execute_result"
    }
   ],
   "source": [
    "# addition\n",
    "1996 + 27"
   ]
  },
  {
   "cell_type": "code",
   "execution_count": 318,
   "metadata": {},
   "outputs": [
    {
     "data": {
      "text/plain": [
       "73.92592592592592"
      ]
     },
     "execution_count": 318,
     "metadata": {},
     "output_type": "execute_result"
    }
   ],
   "source": [
    "# division\n",
    "1996 / 27"
   ]
  },
  {
   "cell_type": "code",
   "execution_count": 287,
   "metadata": {
    "scrolled": true
   },
   "outputs": [
    {
     "data": {
      "text/plain": [
       "2024.0"
      ]
     },
     "execution_count": 287,
     "metadata": {},
     "output_type": "execute_result"
    }
   ],
   "source": [
    "# order of operation matters - PEMDAS\n",
    "1 + 2 * (3 * 4 * 5 / 6) ** 3 + 7 - 8 - 9 + 10 + 11 + 12"
   ]
  },
  {
   "cell_type": "markdown",
   "metadata": {},
   "source": [
    "The orders of operations are the same as we learned in elementary math classes (PEMDAS). Just like in mathematical expressions, parentheses can be used to group together smaller expressions within larger expressions.\n",
    "\n",
    "<br><i class=\"fa fa-thumb-tack\" style=\"font-size:16px;\"></i>&nbsp;&nbsp;**Function Calls on Numeric Values:**  <br>  \n",
    "\n",
    "We can also use functions to operate on values. A **function** is a computational process that is given a name so that the process can easily be used. We have already seen a few examples of functions in this notebook:\n",
    "\n",
    "```python\n",
    "print()\n",
    "pd.read_csv()\n",
    "type()\n",
    "```\n",
    "\n",
    "A function usually takes in values inside the parentheses `()` - these values we provide to the function are called **arguments**. Let's look at some built-in Python functions that take numeric values as their arguments:\n",
    "\n",
    "|Function|Example|Value|Description|\n",
    "|:-:|:-|:-:|:-|\n",
    "|`abs`|`abs(-5)`|`5`| Takes the absolute value of the argument|\n",
    "|`max`|`max(5, 13, -9, 2)`|`13`| Finds the maximum value of all arguments|\n",
    "|`min`|`min(5, 13, -9, 2)`|`-9`| Finds the minimum value of all arguments|\n",
    "|`round`|`round(5.435)`|`5`| Rounds its argument to the nearest integer|\n"
   ]
  },
  {
   "cell_type": "code",
   "execution_count": null,
   "metadata": {},
   "outputs": [],
   "source": [
    "# input values are evaluated first, then fed into functions\n",
    "abs(2 - 5*2)"
   ]
  },
  {
   "cell_type": "code",
   "execution_count": 445,
   "metadata": {},
   "outputs": [
    {
     "data": {
      "text/plain": [
       "1.667"
      ]
     },
     "execution_count": 445,
     "metadata": {},
     "output_type": "execute_result"
    }
   ],
   "source": [
    "# functions can take multiple arguments\n",
    "round(5/3, 3)"
   ]
  },
  {
   "cell_type": "code",
   "execution_count": 446,
   "metadata": {},
   "outputs": [],
   "source": [
    "# not sure how to use a function? Ask Jupyter!\n",
    "round?"
   ]
  },
  {
   "cell_type": "markdown",
   "metadata": {},
   "source": [
    "---\n",
    "\n",
    "### 2.2. Strings<a id='str'></a>\n",
    "\n",
    "A string is a type of value that is made up of a sequence of characters contained within quotation marks. Strings can represent a single character (`'H'`), a word (`'Hello'`), a sentence (`'Hello World!'`), or larger pieces of text like contents of an entire book."
   ]
  },
  {
   "cell_type": "code",
   "execution_count": 320,
   "metadata": {},
   "outputs": [
    {
     "data": {
      "text/plain": [
       "'Hello'"
      ]
     },
     "execution_count": 320,
     "metadata": {},
     "output_type": "execute_result"
    }
   ],
   "source": [
    "# This is a string\n",
    "'Hello'"
   ]
  },
  {
   "cell_type": "code",
   "execution_count": 321,
   "metadata": {},
   "outputs": [
    {
     "data": {
      "text/plain": [
       "'1.0'"
      ]
     },
     "execution_count": 321,
     "metadata": {},
     "output_type": "execute_result"
    }
   ],
   "source": [
    "# so is this\n",
    "\"1.0\""
   ]
  },
  {
   "cell_type": "code",
   "execution_count": 323,
   "metadata": {},
   "outputs": [
    {
     "data": {
      "text/plain": [
       "str"
      ]
     },
     "execution_count": 323,
     "metadata": {},
     "output_type": "execute_result"
    }
   ],
   "source": [
    "# confirming '1.0' is not a float\n",
    "type('1.0')"
   ]
  },
  {
   "cell_type": "code",
   "execution_count": 322,
   "metadata": {},
   "outputs": [
    {
     "data": {
      "text/plain": [
       "\"Strings can capture long bodies of text and can include 'quotes' when contained in double-quotes\""
      ]
     },
     "execution_count": 322,
     "metadata": {},
     "output_type": "execute_result"
    }
   ],
   "source": [
    "# Another string\n",
    "\"Strings can capture long bodies of text and can include 'quotes' when contained in double-quotes\""
   ]
  },
  {
   "cell_type": "markdown",
   "metadata": {},
   "source": [
    "We mentioned that the data field `ever_married` is populated by strings `'Yes'` and `'No'`. We can see that `gender`, `work_type`, `Residence_type`, and `smoking_status` are also populated by strings. As you can see, strings capture qualitative data. There are two types of qualitative data - **nominal** and **ordinal**.\n",
    "\n",
    "<div class=\"alert alert-success\">\n",
    "<i class=\"fa fa-book\" style=\"font-size:20px;\"></i> &nbsp;<b>Definition:</b>  \n",
    "    \n",
    "<u>Ordinal</u> data is a type of qualitative data that groups variables into different categories, and whose categories have a natural order amongst them. <u>Nominal</u> data is a type of qualitative data that groups variables into different categories but without any natural order amongst the categories.\n",
    "</div>\n",
    "\n",
    "In our data, we can say that `smoking_status` is ordinal, because `\"never smoked\"`, `\"formerly smoked\"`, and (currently) `\"smokes\"` indicates an increasing order of engagement with a harmful activity.\n",
    "\n",
    "Fields like `Residence_type` are nominal, because there is no inherent order between the data values `'Urban'` vs. `'Rural'`.\n",
    "\n",
    "It is worth noting that while strings can be used to define categories like we see in our dataset where there are a finite number of possible data values (\"Urban\" vs. \"Rural\"), they can also provide more detailed descriptions in free-form text (e.g. doctors' notes about a patient). There is a whole fascinating subfield of data science called [Natural Language Processing (NLP)](https://towardsdatascience.com/your-guide-to-natural-language-processing-nlp-48ea2511f6e1) to work with unstructured textual data, but we won't need this with our dataset.\n"
   ]
  },
  {
   "cell_type": "markdown",
   "metadata": {},
   "source": [
    "\n",
    "<br><i class=\"fa fa-thumb-tack\" style=\"font-size:16px;\"></i>&nbsp;&nbsp;**Operating on Strings:**  <br>  \n",
    "Note that how the same operators are evaluated can depend on what values are being used in the evaluation. Using the `+` operator on string values produces another string; and multiplying a string by some number `N` creates a string containing `N` repititions of the original string:"
   ]
  },
  {
   "cell_type": "code",
   "execution_count": 327,
   "metadata": {},
   "outputs": [
    {
     "data": {
      "text/plain": [
       "'123'"
      ]
     },
     "execution_count": 327,
     "metadata": {},
     "output_type": "execute_result"
    }
   ],
   "source": [
    "# string addition chains the strings together\n",
    "'1' + '2' + '3'"
   ]
  },
  {
   "cell_type": "code",
   "execution_count": 328,
   "metadata": {},
   "outputs": [
    {
     "data": {
      "text/plain": [
       "'1111111111'"
      ]
     },
     "execution_count": 328,
     "metadata": {},
     "output_type": "execute_result"
    }
   ],
   "source": [
    "# multiplying a string by a number N => adding the string to itself N times \n",
    "'1' * 10"
   ]
  },
  {
   "cell_type": "code",
   "execution_count": 222,
   "metadata": {},
   "outputs": [
    {
     "data": {
      "text/plain": [
       "'Python is cool!'"
      ]
     },
     "execution_count": 222,
     "metadata": {},
     "output_type": "execute_result"
    }
   ],
   "source": [
    "a = 'Python'\n",
    "b = 'is'\n",
    "c = 'cool!'\n",
    "space = ' '\n",
    "\n",
    "a + space + b + space + c"
   ]
  },
  {
   "cell_type": "code",
   "execution_count": 223,
   "metadata": {},
   "outputs": [
    {
     "data": {
      "text/plain": [
       "'Python is so so so cool!'"
      ]
     },
     "execution_count": 223,
     "metadata": {},
     "output_type": "execute_result"
    }
   ],
   "source": [
    "d = 'so '\n",
    "N = 3\n",
    "\n",
    "a + space + b + space + d*N + c"
   ]
  },
  {
   "cell_type": "markdown",
   "metadata": {},
   "source": [
    "<br><i class=\"fa fa-thumb-tack\" style=\"font-size:16px;\"></i>&nbsp;&nbsp;**String Methods:**  <br>  \n",
    "\n",
    "A **method** is similar to functions in that it is a computational process that performs a task, but methods are linked to and receives information from a given object.\n",
    "\n",
    "If we wanted to change `\"hello world\"` into all capital letters, we could:\n",
    "\n",
    "Use a string **function** `str.upper()` and provide the string as an argument, like so:"
   ]
  },
  {
   "cell_type": "code",
   "execution_count": 449,
   "metadata": {},
   "outputs": [
    {
     "data": {
      "text/plain": [
       "'HELLO WORLD'"
      ]
     },
     "execution_count": 449,
     "metadata": {},
     "output_type": "execute_result"
    }
   ],
   "source": [
    "# using a function - information is given explicitly \n",
    "str.upper(\"hello world\")"
   ]
  },
  {
   "cell_type": "markdown",
   "metadata": {},
   "source": [
    "Or, we could use the dot `.` notation on the string value `\"hello world\"` itself to execute a string **method**:"
   ]
  },
  {
   "cell_type": "code",
   "execution_count": 448,
   "metadata": {},
   "outputs": [
    {
     "data": {
      "text/plain": [
       "'HELLO WORLD'"
      ]
     },
     "execution_count": 448,
     "metadata": {},
     "output_type": "execute_result"
    }
   ],
   "source": [
    "# using a string method - information is passed implicitly\n",
    "'hello world'.upper()"
   ]
  },
  {
   "cell_type": "markdown",
   "metadata": {},
   "source": [
    "Methods can take arguments, too, to detail how to execute the method; but the object it is acting upon is still implicitly passed:"
   ]
  },
  {
   "cell_type": "code",
   "execution_count": 451,
   "metadata": {
    "scrolled": true
   },
   "outputs": [
    {
     "data": {
      "text/plain": [
       "'heooo worod'"
      ]
     },
     "execution_count": 451,
     "metadata": {},
     "output_type": "execute_result"
    }
   ],
   "source": [
    "# another string method\n",
    "'hello world'.replace('l', 'o')"
   ]
  },
  {
   "cell_type": "markdown",
   "metadata": {},
   "source": [
    "<div class=\"alert alert-warning\">\n",
    "<i class=\"fa fa-info-circle\" style=\"font-size:22px;color:orange\"></i> &nbsp; Another object loaded with many useful methods are <b>Pandas DataFrames</b> and <b>Series</b>. We have used one so far, <code>.head(10)</code>, which had displayed the first 10 rows of our dataframe for us. You'll begin to see many other dataframe/series methods being used in our notebook going forward, so keep an eye out for them!</div>\n",
    "</div> "
   ]
  },
  {
   "cell_type": "markdown",
   "metadata": {},
   "source": [
    "---\n",
    "\n",
    "### 2.3. Missing Data<a id='nan'></a>\n",
    "\n",
    "A very important type of data is one that represents **no data**. There are many ways that missing data can be captured in datasets, and it is our job as data scientists to identify them and figure out what to do with records affected by them.\n",
    "\n",
    "<br><i class=\"fa fa-thumb-tack\" style=\"font-size:16px;\"></i>&nbsp;&nbsp;**NaN:**  <br>  \n",
    "Short for \"Not a Number\", `NaN` is a float value that represents missing information. When reading in the dataset, Pandas will interpret certain values (such as \"N/A\", \"NaN\", \"NA\", \"None\", or empty/blank entries) as missing values. The data field `bmi` contains missing values:\n",
    "\n",
    "<img src=\"./images/bmi_nan.png\" width=\"900\" height=\"1000\" align='center'>\n"
   ]
  },
  {
   "cell_type": "markdown",
   "metadata": {},
   "source": [
    "In the Pandas dataframe, we see these missing \"N/A\" values converted to a `NaN` value:"
   ]
  },
  {
   "cell_type": "code",
   "execution_count": 160,
   "metadata": {},
   "outputs": [
    {
     "data": {
      "text/html": [
       "<div>\n",
       "<style scoped>\n",
       "    .dataframe tbody tr th:only-of-type {\n",
       "        vertical-align: middle;\n",
       "    }\n",
       "\n",
       "    .dataframe tbody tr th {\n",
       "        vertical-align: top;\n",
       "    }\n",
       "\n",
       "    .dataframe thead th {\n",
       "        text-align: right;\n",
       "    }\n",
       "</style>\n",
       "<table border=\"1\" class=\"dataframe\">\n",
       "  <thead>\n",
       "    <tr style=\"text-align: right;\">\n",
       "      <th></th>\n",
       "      <th>id</th>\n",
       "      <th>gender</th>\n",
       "      <th>age</th>\n",
       "      <th>hypertension</th>\n",
       "      <th>heart_disease</th>\n",
       "      <th>ever_married</th>\n",
       "      <th>work_type</th>\n",
       "      <th>Residence_type</th>\n",
       "      <th>avg_glucose_level</th>\n",
       "      <th>bmi</th>\n",
       "      <th>smoking_status</th>\n",
       "      <th>stroke</th>\n",
       "    </tr>\n",
       "  </thead>\n",
       "  <tbody>\n",
       "    <tr>\n",
       "      <th>0</th>\n",
       "      <td>9046</td>\n",
       "      <td>Male</td>\n",
       "      <td>67.0</td>\n",
       "      <td>0</td>\n",
       "      <td>1</td>\n",
       "      <td>Yes</td>\n",
       "      <td>Private</td>\n",
       "      <td>Urban</td>\n",
       "      <td>228.69</td>\n",
       "      <td>36.6</td>\n",
       "      <td>formerly smoked</td>\n",
       "      <td>1</td>\n",
       "    </tr>\n",
       "    <tr>\n",
       "      <th>1</th>\n",
       "      <td>51676</td>\n",
       "      <td>Female</td>\n",
       "      <td>61.0</td>\n",
       "      <td>0</td>\n",
       "      <td>0</td>\n",
       "      <td>Yes</td>\n",
       "      <td>Self-employed</td>\n",
       "      <td>Rural</td>\n",
       "      <td>202.21</td>\n",
       "      <td>NaN</td>\n",
       "      <td>never smoked</td>\n",
       "      <td>1</td>\n",
       "    </tr>\n",
       "    <tr>\n",
       "      <th>2</th>\n",
       "      <td>31112</td>\n",
       "      <td>Male</td>\n",
       "      <td>80.0</td>\n",
       "      <td>0</td>\n",
       "      <td>1</td>\n",
       "      <td>Yes</td>\n",
       "      <td>Private</td>\n",
       "      <td>Rural</td>\n",
       "      <td>105.92</td>\n",
       "      <td>32.5</td>\n",
       "      <td>never smoked</td>\n",
       "      <td>1</td>\n",
       "    </tr>\n",
       "    <tr>\n",
       "      <th>3</th>\n",
       "      <td>60182</td>\n",
       "      <td>Female</td>\n",
       "      <td>49.0</td>\n",
       "      <td>0</td>\n",
       "      <td>0</td>\n",
       "      <td>Yes</td>\n",
       "      <td>Private</td>\n",
       "      <td>Urban</td>\n",
       "      <td>171.23</td>\n",
       "      <td>34.4</td>\n",
       "      <td>smokes</td>\n",
       "      <td>1</td>\n",
       "    </tr>\n",
       "    <tr>\n",
       "      <th>4</th>\n",
       "      <td>1665</td>\n",
       "      <td>Female</td>\n",
       "      <td>79.0</td>\n",
       "      <td>1</td>\n",
       "      <td>0</td>\n",
       "      <td>Yes</td>\n",
       "      <td>Self-employed</td>\n",
       "      <td>Rural</td>\n",
       "      <td>174.12</td>\n",
       "      <td>24.0</td>\n",
       "      <td>never smoked</td>\n",
       "      <td>1</td>\n",
       "    </tr>\n",
       "    <tr>\n",
       "      <th>5</th>\n",
       "      <td>56669</td>\n",
       "      <td>Male</td>\n",
       "      <td>81.0</td>\n",
       "      <td>0</td>\n",
       "      <td>0</td>\n",
       "      <td>Yes</td>\n",
       "      <td>Private</td>\n",
       "      <td>Urban</td>\n",
       "      <td>186.21</td>\n",
       "      <td>29.0</td>\n",
       "      <td>formerly smoked</td>\n",
       "      <td>1</td>\n",
       "    </tr>\n",
       "    <tr>\n",
       "      <th>6</th>\n",
       "      <td>53882</td>\n",
       "      <td>Male</td>\n",
       "      <td>74.0</td>\n",
       "      <td>1</td>\n",
       "      <td>1</td>\n",
       "      <td>Yes</td>\n",
       "      <td>Private</td>\n",
       "      <td>Rural</td>\n",
       "      <td>70.09</td>\n",
       "      <td>27.4</td>\n",
       "      <td>never smoked</td>\n",
       "      <td>1</td>\n",
       "    </tr>\n",
       "    <tr>\n",
       "      <th>7</th>\n",
       "      <td>10434</td>\n",
       "      <td>Female</td>\n",
       "      <td>69.0</td>\n",
       "      <td>0</td>\n",
       "      <td>0</td>\n",
       "      <td>No</td>\n",
       "      <td>Private</td>\n",
       "      <td>Urban</td>\n",
       "      <td>94.39</td>\n",
       "      <td>22.8</td>\n",
       "      <td>never smoked</td>\n",
       "      <td>1</td>\n",
       "    </tr>\n",
       "    <tr>\n",
       "      <th>8</th>\n",
       "      <td>27419</td>\n",
       "      <td>Female</td>\n",
       "      <td>59.0</td>\n",
       "      <td>0</td>\n",
       "      <td>0</td>\n",
       "      <td>Yes</td>\n",
       "      <td>Private</td>\n",
       "      <td>Rural</td>\n",
       "      <td>76.15</td>\n",
       "      <td>NaN</td>\n",
       "      <td>Unknown</td>\n",
       "      <td>1</td>\n",
       "    </tr>\n",
       "    <tr>\n",
       "      <th>9</th>\n",
       "      <td>60491</td>\n",
       "      <td>Female</td>\n",
       "      <td>78.0</td>\n",
       "      <td>0</td>\n",
       "      <td>0</td>\n",
       "      <td>Yes</td>\n",
       "      <td>Private</td>\n",
       "      <td>Urban</td>\n",
       "      <td>58.57</td>\n",
       "      <td>24.2</td>\n",
       "      <td>Unknown</td>\n",
       "      <td>1</td>\n",
       "    </tr>\n",
       "  </tbody>\n",
       "</table>\n",
       "</div>"
      ],
      "text/plain": [
       "      id  gender   age  hypertension  heart_disease ever_married  \\\n",
       "0   9046    Male  67.0             0              1          Yes   \n",
       "1  51676  Female  61.0             0              0          Yes   \n",
       "2  31112    Male  80.0             0              1          Yes   \n",
       "3  60182  Female  49.0             0              0          Yes   \n",
       "4   1665  Female  79.0             1              0          Yes   \n",
       "5  56669    Male  81.0             0              0          Yes   \n",
       "6  53882    Male  74.0             1              1          Yes   \n",
       "7  10434  Female  69.0             0              0           No   \n",
       "8  27419  Female  59.0             0              0          Yes   \n",
       "9  60491  Female  78.0             0              0          Yes   \n",
       "\n",
       "       work_type Residence_type  avg_glucose_level   bmi   smoking_status  \\\n",
       "0        Private          Urban             228.69  36.6  formerly smoked   \n",
       "1  Self-employed          Rural             202.21   NaN     never smoked   \n",
       "2        Private          Rural             105.92  32.5     never smoked   \n",
       "3        Private          Urban             171.23  34.4           smokes   \n",
       "4  Self-employed          Rural             174.12  24.0     never smoked   \n",
       "5        Private          Urban             186.21  29.0  formerly smoked   \n",
       "6        Private          Rural              70.09  27.4     never smoked   \n",
       "7        Private          Urban              94.39  22.8     never smoked   \n",
       "8        Private          Rural              76.15   NaN          Unknown   \n",
       "9        Private          Urban              58.57  24.2          Unknown   \n",
       "\n",
       "   stroke  \n",
       "0       1  \n",
       "1       1  \n",
       "2       1  \n",
       "3       1  \n",
       "4       1  \n",
       "5       1  \n",
       "6       1  \n",
       "7       1  \n",
       "8       1  \n",
       "9       1  "
      ]
     },
     "execution_count": 160,
     "metadata": {},
     "output_type": "execute_result"
    }
   ],
   "source": [
    "df.head(10)"
   ]
  },
  {
   "cell_type": "markdown",
   "metadata": {},
   "source": [
    "Let's pull out one of the `NaN` values from the Stroke Prediction Dataset and confirm that it is a float type:"
   ]
  },
  {
   "cell_type": "code",
   "execution_count": 455,
   "metadata": {},
   "outputs": [
    {
     "data": {
      "text/plain": [
       "nan"
      ]
     },
     "execution_count": 455,
     "metadata": {},
     "output_type": "execute_result"
    }
   ],
   "source": [
    "# pulling out the second data value (index 1) in the \"bmi\" column\n",
    "df['bmi'].iloc[1]"
   ]
  },
  {
   "cell_type": "code",
   "execution_count": 456,
   "metadata": {},
   "outputs": [
    {
     "data": {
      "text/plain": [
       "numpy.float64"
      ]
     },
     "execution_count": 456,
     "metadata": {},
     "output_type": "execute_result"
    }
   ],
   "source": [
    "type(df['bmi'].iloc[1])"
   ]
  },
  {
   "cell_type": "markdown",
   "metadata": {},
   "source": [
    "We can also use the [**NumPy**](https://numpy.org/devdocs/user/whatisnumpy.html) data science library to produce a NaN value:"
   ]
  },
  {
   "cell_type": "code",
   "execution_count": 41,
   "metadata": {},
   "outputs": [
    {
     "data": {
      "text/plain": [
       "nan"
      ]
     },
     "execution_count": 41,
     "metadata": {},
     "output_type": "execute_result"
    }
   ],
   "source": [
    "# import numpy\n",
    "import numpy as np\n",
    "\n",
    "# output NaN value\n",
    "np.nan"
   ]
  },
  {
   "cell_type": "code",
   "execution_count": 40,
   "metadata": {},
   "outputs": [
    {
     "data": {
      "text/plain": [
       "float"
      ]
     },
     "execution_count": 40,
     "metadata": {},
     "output_type": "execute_result"
    }
   ],
   "source": [
    "type(np.nan)"
   ]
  },
  {
   "cell_type": "markdown",
   "metadata": {},
   "source": [
    "<br><i class=\"fa fa-thumb-tack\" style=\"font-size:16px;\"></i>&nbsp;&nbsp;**Missing String Values:**  <br>  \n",
    "\n",
    "Even though `NaN` is a float type, missing values (like blank/empty values) in string fields can be represented by a `NaN` in a Pandas dataframe. Often, though, missing values in a qualitative field are specified in the data dictionary and assigned its own value. In the case of `smoking_status`, the lack of smoking status information on a patient is indicated by the value `'Unknown'`.\n"
   ]
  },
  {
   "cell_type": "markdown",
   "metadata": {},
   "source": [
    "<br><i class=\"fa fa-thumb-tack\" style=\"font-size:16px;\"></i>&nbsp;&nbsp;**Null Value Handling:**  <br>  \n",
    "\n",
    "A null value is another term for a missing value. A very important step of exploratory data analysis (EDA) and data wrangling is to understand how missing data affects the dataset and what can be done about the lack of available information if it will eventually be an important feature in a model.\n"
   ]
  },
  {
   "cell_type": "markdown",
   "metadata": {},
   "source": [
    "---\n",
    "\n",
    "### 2.4. Booleans<a id='bool'></a>\n",
    "\n",
    "A Boolean is another value type, and it can carry one of two values - `True` or `False`. "
   ]
  },
  {
   "cell_type": "code",
   "execution_count": 331,
   "metadata": {},
   "outputs": [
    {
     "data": {
      "text/plain": [
       "True"
      ]
     },
     "execution_count": 331,
     "metadata": {},
     "output_type": "execute_result"
    }
   ],
   "source": [
    "True"
   ]
  },
  {
   "cell_type": "code",
   "execution_count": 332,
   "metadata": {},
   "outputs": [
    {
     "data": {
      "text/plain": [
       "False"
      ]
     },
     "execution_count": 332,
     "metadata": {},
     "output_type": "execute_result"
    }
   ],
   "source": [
    "False"
   ]
  },
  {
   "cell_type": "code",
   "execution_count": 333,
   "metadata": {},
   "outputs": [
    {
     "data": {
      "text/plain": [
       "bool"
      ]
     },
     "execution_count": 333,
     "metadata": {},
     "output_type": "execute_result"
    }
   ],
   "source": [
    "type(True)"
   ]
  },
  {
   "cell_type": "code",
   "execution_count": null,
   "metadata": {},
   "outputs": [],
   "source": [
    "# note that Python is case-sensitive: this will error\n",
    "true"
   ]
  },
  {
   "cell_type": "markdown",
   "metadata": {},
   "source": [
    "They can be used in a dataset to represent binary information, but we typically prefer to use numeric `1`/`0` values like we've seen in our dataset to represent this type of information.\n",
    "\n",
    "However, Booleans and boolean expressions are incredibly important for designing courses of action to execute **depending on which specific conditions are met** - e.g. *\"if something is `True`, execute Plan A; if something else is `True`, execute Plan B\"*. Below is an example of a simple **conditional statement** (learn more about this in the \"01_Intro_to_Jupyter\" notebook!). "
   ]
  },
  {
   "cell_type": "code",
   "execution_count": 337,
   "metadata": {},
   "outputs": [
    {
     "name": "stdout",
     "output_type": "stream",
     "text": [
      "Hello\n",
      "World!\n"
     ]
    }
   ],
   "source": [
    "if True:\n",
    "    print(\"Hello\")\n",
    "\n",
    "# try changing False to True \n",
    "if False:\n",
    "    print(\"How are you\")\n",
    "    \n",
    "if True:\n",
    "    print(\"World!\")"
   ]
  },
  {
   "cell_type": "markdown",
   "metadata": {},
   "source": [
    "<br><i class=\"fa fa-thumb-tack\" style=\"font-size:16px;\"></i>&nbsp;&nbsp;**Boolean Expressions:**  <br>  \n",
    "\n",
    "Booleans arise when values are compared, and tell us whether the expression is true or not:"
   ]
  },
  {
   "cell_type": "code",
   "execution_count": null,
   "metadata": {},
   "outputs": [],
   "source": [
    "# expression: '10 is greater than 1'\n",
    "10 > 1"
   ]
  },
  {
   "cell_type": "code",
   "execution_count": null,
   "metadata": {},
   "outputs": [],
   "source": [
    "# expression: '10 is equal to 1'\n",
    "10 == 1"
   ]
  },
  {
   "cell_type": "markdown",
   "metadata": {},
   "source": [
    "The value `True` indicates that the statement is accurate. In the above, Python has confirmed the simple statement that 10 is greater than 1; and that 10 is not, in fact, equal to 1.\n",
    "\n",
    "Here are some common comparison operators:\n",
    "\n",
    "|Operation|Operator|Result: True|Result: False|\n",
    "|-|:-:|:-:|:-:|\n",
    "|Equal to|==|1.3 == 1.3|1.3 == 1|\n",
    "|Not equal to|!=|1.3 != 1|1 != 1|\n",
    "|Less than|<|5 < 10|5 < 5|\n",
    "|Less than or equal|<=|5 <= 5|10 <= 5|\n",
    "|Greater than|>|10 > 5|5 > 10|\n",
    "|Greater or equal|>=|5 >= 5|5 >= 10|\n"
   ]
  },
  {
   "cell_type": "markdown",
   "metadata": {},
   "source": [
    "---\n",
    "\n",
    "## 3. Data Structures  - Arrays, Series, and DataFrames<a id='data-struct'></a>\n",
    "\n",
    "Now that we've examined some data values, let's explore data structures that can collect and organize these values. We have already seen data organized in a Pandas DataFrame. There are many different data structures we could use - lists, tuples, arrays, dictionaries, matrices, Pandas Series and DataFrames, etc. The datathon tutorial notebooks explore many of these structures, but in this workshop we will focus on NumPy arrays and Pandas data structures.\n",
    "\n",
    "\n",
    "<br><i class=\"fa fa-thumb-tack\" style=\"font-size:16px;\"></i>&nbsp;&nbsp;**Arrays:**  <br>  \n",
    "\n",
    "\n",
    "<div class=\"alert alert-success\">  \n",
    "\n",
    "An <b><u>array</u></b> is an ordered collection of a finite number of values <b>of the same data type</b>. Arrays are designed to enable very efficient data manipulation.</div>\n",
    "\n",
    "Examples:\n",
    "\n",
    "```python\n",
    "# an array of integers\n",
    "np.array([1, 3, 5, 7, 9])\n",
    "\n",
    "# of floats\n",
    "np.array([1., 3., 5., 7., 9.])\n",
    "\n",
    "# of bools\n",
    "np.array([False, True, False, False, True])\n",
    "\n",
    "```\n",
    "\n",
    "We have imported and used [NumPy](https://numpy.org/doc/stable/user/absolute_beginners.html) in the context of looking at `nan` values. NumPy also allows us to create and work with arrays:"
   ]
  },
  {
   "cell_type": "code",
   "execution_count": 510,
   "metadata": {},
   "outputs": [
    {
     "data": {
      "text/plain": [
       "array([1, 3, 5, 7, 9])"
      ]
     },
     "execution_count": 510,
     "metadata": {},
     "output_type": "execute_result"
    }
   ],
   "source": [
    "np.array([1, 3, 5, 7, 9])"
   ]
  },
  {
   "cell_type": "markdown",
   "metadata": {},
   "source": [
    "NumPy allows us to create large arrays without manually typing in values. For instance, if we want to create an array of evenly spaced integers ranging from 1 to 100, we can use NumPy's `np.arange(start, stop, step)` function, where:  \n",
    "\n",
    ">`start` : the starting value  \n",
    ">`stop` : end value generation before reaching this value  \n",
    ">`step` : the interval spacing between values in the array"
   ]
  },
  {
   "cell_type": "code",
   "execution_count": 485,
   "metadata": {},
   "outputs": [
    {
     "data": {
      "text/plain": [
       "array([ 1,  3,  5,  7,  9, 11, 13, 15, 17, 19, 21, 23, 25, 27, 29, 31, 33,\n",
       "       35, 37, 39, 41, 43, 45, 47, 49, 51, 53, 55, 57, 59, 61, 63, 65, 67,\n",
       "       69, 71, 73, 75, 77, 79, 81, 83, 85, 87, 89, 91, 93, 95, 97, 99])"
      ]
     },
     "execution_count": 485,
     "metadata": {},
     "output_type": "execute_result"
    }
   ],
   "source": [
    "# an array of integers, using NumPy's .arange function\n",
    "np.arange(1, 100, 2)"
   ]
  },
  {
   "cell_type": "markdown",
   "metadata": {},
   "source": [
    "Like the definition stated, arrays do not support multiple data types in the same array - they must be all of the same value type:"
   ]
  },
  {
   "cell_type": "code",
   "execution_count": 481,
   "metadata": {},
   "outputs": [
    {
     "data": {
      "text/plain": [
       "array([1. , 2.3, 5. , 3.2])"
      ]
     },
     "execution_count": 481,
     "metadata": {},
     "output_type": "execute_result"
    }
   ],
   "source": [
    "# see what happens when we try to include integers and floats:\n",
    "# --> all integers turn into floats\n",
    "np.array([1, 2.3, 5, 3.2])"
   ]
  },
  {
   "cell_type": "code",
   "execution_count": 254,
   "metadata": {},
   "outputs": [
    {
     "data": {
      "text/plain": [
       "array(['1', '2.3', '5', '3.2'], dtype='<U32')"
      ]
     },
     "execution_count": 254,
     "metadata": {},
     "output_type": "execute_result"
    }
   ],
   "source": [
    "# see what happens when we try to include strings, integers and floats:\n",
    "# --> all values turn into floats\n",
    "np.array(['1', 2.3, 5, 3.2])"
   ]
  },
  {
   "cell_type": "markdown",
   "metadata": {},
   "source": [
    "Only allowing values of the same data type within the same array contributes to its ability to very efficiently store and manipulate large volumes of data. Below are some functions and methods we can use to look at summary statistics of the distribution of values stored in an array:"
   ]
  },
  {
   "cell_type": "code",
   "execution_count": 496,
   "metadata": {},
   "outputs": [
    {
     "data": {
      "text/plain": [
       "array([67., 61., 80., ..., 35., 51., 44.])"
      ]
     },
     "execution_count": 496,
     "metadata": {},
     "output_type": "execute_result"
    }
   ],
   "source": [
    "# create an array of the \"age\" column of our data, and save it in a variable called age_array\n",
    "age_array = np.array(df['age'])\n",
    "age_array"
   ]
  },
  {
   "cell_type": "code",
   "execution_count": 494,
   "metadata": {},
   "outputs": [
    {
     "data": {
      "text/plain": [
       "45.0"
      ]
     },
     "execution_count": 494,
     "metadata": {},
     "output_type": "execute_result"
    }
   ],
   "source": [
    "# find the median of age in our data\n",
    "np.median(age_array)"
   ]
  },
  {
   "cell_type": "code",
   "execution_count": 501,
   "metadata": {},
   "outputs": [
    {
     "data": {
      "text/plain": [
       "43.226614481409"
      ]
     },
     "execution_count": 501,
     "metadata": {},
     "output_type": "execute_result"
    }
   ],
   "source": [
    "# find the mean of age\n",
    "age_array.mean()"
   ]
  },
  {
   "cell_type": "code",
   "execution_count": 502,
   "metadata": {},
   "outputs": [
    {
     "data": {
      "text/plain": [
       "22.610434027112976"
      ]
     },
     "execution_count": 502,
     "metadata": {},
     "output_type": "execute_result"
    }
   ],
   "source": [
    "# standard deviation of age\n",
    "age_array.std()"
   ]
  },
  {
   "cell_type": "markdown",
   "metadata": {},
   "source": [
    "<div class=\"alert alert-warning\">\n",
    "<i class=\"fa fa-info-circle\" style=\"font-size:22px;color:orange\"></i> &nbsp; What happens when we try to compute the average of continuous data <b>with missing values</b>? Run the cell below, and you'll find it will compute a <code>nan</code> value. This is one example of why it is important to figure out how to deal with missing values in the data.\n",
    "</div> "
   ]
  },
  {
   "cell_type": "code",
   "execution_count": 513,
   "metadata": {},
   "outputs": [
    {
     "data": {
      "text/plain": [
       "nan"
      ]
     },
     "execution_count": 513,
     "metadata": {},
     "output_type": "execute_result"
    }
   ],
   "source": [
    "bmi_array = np.array(df['bmi'])\n",
    "np.mean(bmi_array)"
   ]
  },
  {
   "cell_type": "markdown",
   "metadata": {},
   "source": [
    "<br><i class=\"fa fa-thumb-tack\" style=\"font-size:16px;\"></i>&nbsp;&nbsp;**Elementwise Operations with Arrays:**  <br>  \n",
    "\n",
    "Arrays make it very easy for us to apply operations to each of the values stored in the array. For instance, if we wanted to find the difference between each patient's age and the average age of all patients, we simply do the following:"
   ]
  },
  {
   "cell_type": "code",
   "execution_count": 508,
   "metadata": {},
   "outputs": [
    {
     "data": {
      "text/plain": [
       "array([23.77338552, 17.77338552, 36.77338552, ..., -8.22661448,\n",
       "        7.77338552,  0.77338552])"
      ]
     },
     "execution_count": 508,
     "metadata": {},
     "output_type": "execute_result"
    }
   ],
   "source": [
    "# mean= 43.226614481409 is subtracted from every age value in the array\n",
    "age_array - age_array.mean()"
   ]
  },
  {
   "cell_type": "markdown",
   "metadata": {},
   "source": [
    "We can also return the truth value of a comparison of every value in the array against a given scalar:"
   ]
  },
  {
   "cell_type": "code",
   "execution_count": 509,
   "metadata": {},
   "outputs": [
    {
     "data": {
      "text/plain": [
       "array([ True,  True, False, ...,  True,  True,  True])"
      ]
     },
     "execution_count": 509,
     "metadata": {},
     "output_type": "execute_result"
    }
   ],
   "source": [
    "# returns True if the age is <70; False if age is NOT <70\n",
    "age_array < 70"
   ]
  },
  {
   "cell_type": "markdown",
   "metadata": {},
   "source": [
    "<br><i class=\"fa fa-thumb-tack\" style=\"font-size:16px;\"></i>&nbsp;&nbsp;**Indexing:**  <br>  \n",
    "\n",
    "When we want to extract specific values within a list or array, we can indicate which value we want to extract by specifing the value's **index**.\n",
    "\n",
    "Arrays are **ordered** collections, which means we can identify an element based on its position in the sequence. An element's position in a sequence is called its **index**. An index is a non-negative integer that indicates where an element is from the very front of the sequence. It is important to note that, in Python, the **index starts at 0**: the first element has an index of 0, the second element has index 1, the third element has index 2, and so on...\n",
    "\n",
    "```\n",
    "my_array: np.array([2020, 2021, 2022, 2023])\n",
    "   index:          (   0,    1,    2,    3)\n",
    "```\n",
    "\n",
    "If we know the index we want to select from a list, we can do so by putting it in square brackets next to the list itself:"
   ]
  },
  {
   "cell_type": "code",
   "execution_count": 503,
   "metadata": {},
   "outputs": [
    {
     "data": {
      "text/plain": [
       "61.0"
      ]
     },
     "execution_count": 503,
     "metadata": {},
     "output_type": "execute_result"
    }
   ],
   "source": [
    "# extract the second value found in the age array\n",
    "age_array[1]"
   ]
  },
  {
   "cell_type": "markdown",
   "metadata": {},
   "source": [
    "<br><i class=\"fa fa-thumb-tack\" style=\"font-size:16px;\"></i>&nbsp; <b>Slicing:</b>  \n",
    "\n",
    "We can also create subsets of specific ranges of elements in an array - we call this slicing. We do this in a similar square bracket notation, but rather than specifing one index to select, we specify a start index, stop index, and (optionally) a step value: `[start:stop:step]` - similarly to how we did for `np.arange()`, but now instead of creating values we are selecting them.\n",
    "\n",
    "Here we specify a `start` index at 0 and `stop` index at 5. We don't specify a `step` value, so the function defaults it to 1. This means that the function will create a list of all elements positioned at indices **0, 1, 2, 3 and 4**: in other words, indices starting at 0 and incremented by 1 until we reach the stop index of 5."
   ]
  },
  {
   "cell_type": "code",
   "execution_count": 504,
   "metadata": {},
   "outputs": [
    {
     "data": {
      "text/plain": [
       "array([67., 61., 80., 49., 79.])"
      ]
     },
     "execution_count": 504,
     "metadata": {},
     "output_type": "execute_result"
    }
   ],
   "source": [
    "# create a subset of the first 5 age records\n",
    "age_array[0:5]"
   ]
  },
  {
   "cell_type": "markdown",
   "metadata": {},
   "source": [
    "<div class=\"alert alert-warning\">\n",
    "<i class=\"fa fa-info-circle\" style=\"font-size:22px;color:orange\"></i> &nbsp; <b>Indexing and Slicing works much the same way for Pandas DataFrame and Series objects</b> using the <code>.iloc[]</code> method that identifies values based on the \"index location\" (iloc) of the value.\n",
    "\n",
    "</div> "
   ]
  },
  {
   "cell_type": "markdown",
   "metadata": {},
   "source": [
    "<i class=\"fa fa-thumb-tack\" style=\"font-size:16px;\"></i>&nbsp; <b>Indexing and Slicing Pandas DataFrames & Series</b> \n",
    "\n",
    "We have already been using indexing and slicing in our examples involving the Stroke Prediction data! Indexing and slicing work much the same way with Pandas objects - we simply use the `.iloc[]` method (think of an object's 'method' as some cool feature of the object) to index and slice. We have already seen what a Pandas **DataFrame** is - it's what allows us to capture our data into a table-like structure. Let's define what a **Series** is:\n",
    "\n",
    "<i class=\"fa fa-book\" style=\"font-size:20px;\"></i> &nbsp;**Definition:**\n",
    "<div class=\"alert alert-success\">\n",
    "    A <b>Series</b> is a Pandas data structure that behaves very similarly to NumPy arrays and will be a valid argument to most NumPy functions. When we extract single columns from a Pandas DataFrame, the column values are contained in a Series.\n",
    "</div>"
   ]
  },
  {
   "cell_type": "code",
   "execution_count": 505,
   "metadata": {},
   "outputs": [
    {
     "data": {
      "text/plain": [
       "0       67.0\n",
       "1       61.0\n",
       "2       80.0\n",
       "3       49.0\n",
       "4       79.0\n",
       "        ... \n",
       "5105    80.0\n",
       "5106    81.0\n",
       "5107    35.0\n",
       "5108    51.0\n",
       "5109    44.0\n",
       "Name: age, Length: 5110, dtype: float64"
      ]
     },
     "execution_count": 505,
     "metadata": {},
     "output_type": "execute_result"
    }
   ],
   "source": [
    "# extracting the age column from the dataframe\n",
    "df['age']"
   ]
  },
  {
   "cell_type": "code",
   "execution_count": 506,
   "metadata": {},
   "outputs": [
    {
     "data": {
      "text/plain": [
       "61.0"
      ]
     },
     "execution_count": 506,
     "metadata": {},
     "output_type": "execute_result"
    }
   ],
   "source": [
    "# Pandas Series are indexed in much the same way, using a Pandas method that finds its \"index location\" (iloc)\n",
    "df['age'].iloc[1]"
   ]
  },
  {
   "cell_type": "code",
   "execution_count": 507,
   "metadata": {},
   "outputs": [
    {
     "data": {
      "text/plain": [
       "0    67.0\n",
       "1    61.0\n",
       "2    80.0\n",
       "3    49.0\n",
       "4    79.0\n",
       "Name: age, dtype: float64"
      ]
     },
     "execution_count": 507,
     "metadata": {},
     "output_type": "execute_result"
    }
   ],
   "source": [
    "# .iloc[] allows us to slice a Pandas Series, too:\n",
    "df['age'].iloc[0:5]"
   ]
  },
  {
   "cell_type": "markdown",
   "metadata": {},
   "source": [
    "**`.iloc[]` works similarly on dataframes**, except now we must specify column locations, too."
   ]
  },
  {
   "cell_type": "code",
   "execution_count": 271,
   "metadata": {},
   "outputs": [
    {
     "data": {
      "text/html": [
       "<div>\n",
       "<style scoped>\n",
       "    .dataframe tbody tr th:only-of-type {\n",
       "        vertical-align: middle;\n",
       "    }\n",
       "\n",
       "    .dataframe tbody tr th {\n",
       "        vertical-align: top;\n",
       "    }\n",
       "\n",
       "    .dataframe thead th {\n",
       "        text-align: right;\n",
       "    }\n",
       "</style>\n",
       "<table border=\"1\" class=\"dataframe\">\n",
       "  <thead>\n",
       "    <tr style=\"text-align: right;\">\n",
       "      <th></th>\n",
       "      <th>id</th>\n",
       "      <th>gender</th>\n",
       "      <th>age</th>\n",
       "      <th>hypertension</th>\n",
       "      <th>heart_disease</th>\n",
       "    </tr>\n",
       "  </thead>\n",
       "  <tbody>\n",
       "    <tr>\n",
       "      <th>0</th>\n",
       "      <td>9046</td>\n",
       "      <td>Male</td>\n",
       "      <td>67.0</td>\n",
       "      <td>0</td>\n",
       "      <td>1</td>\n",
       "    </tr>\n",
       "    <tr>\n",
       "      <th>1</th>\n",
       "      <td>51676</td>\n",
       "      <td>Female</td>\n",
       "      <td>61.0</td>\n",
       "      <td>0</td>\n",
       "      <td>0</td>\n",
       "    </tr>\n",
       "    <tr>\n",
       "      <th>2</th>\n",
       "      <td>31112</td>\n",
       "      <td>Male</td>\n",
       "      <td>80.0</td>\n",
       "      <td>0</td>\n",
       "      <td>1</td>\n",
       "    </tr>\n",
       "    <tr>\n",
       "      <th>3</th>\n",
       "      <td>60182</td>\n",
       "      <td>Female</td>\n",
       "      <td>49.0</td>\n",
       "      <td>0</td>\n",
       "      <td>0</td>\n",
       "    </tr>\n",
       "    <tr>\n",
       "      <th>4</th>\n",
       "      <td>1665</td>\n",
       "      <td>Female</td>\n",
       "      <td>79.0</td>\n",
       "      <td>1</td>\n",
       "      <td>0</td>\n",
       "    </tr>\n",
       "  </tbody>\n",
       "</table>\n",
       "</div>"
      ],
      "text/plain": [
       "      id  gender   age  hypertension  heart_disease\n",
       "0   9046    Male  67.0             0              1\n",
       "1  51676  Female  61.0             0              0\n",
       "2  31112    Male  80.0             0              1\n",
       "3  60182  Female  49.0             0              0\n",
       "4   1665  Female  79.0             1              0"
      ]
     },
     "execution_count": 271,
     "metadata": {},
     "output_type": "execute_result"
    }
   ],
   "source": [
    "# first 5 rows of the first 5 columns\n",
    "df.iloc[:5, :5]"
   ]
  },
  {
   "cell_type": "markdown",
   "metadata": {},
   "source": [
    "<br><i class=\"fa fa-thumb-tack\" style=\"font-size:16px;\"></i>&nbsp;&nbsp;**Application of Boolean Logic: Pandas DataFrame Filters**  <br>  \n",
    "\n",
    "We've seen that elementwise comparison of values is very efficient with arrays - this is the case with a Pandas Series, too. In the context of data analysis, this is very useful for **filtering datasets**. \n",
    "\n",
    "**Example 1: Exploratory Analysis**  \n",
    "Say we wanted to profile patients for whom the smoking status data is \"Unknown\". We can use boolean logic to identify for which patients this is true, and provide this information to Pandas to create a dataframe that **only** contains those consumers: \n"
   ]
  },
  {
   "cell_type": "code",
   "execution_count": 541,
   "metadata": {},
   "outputs": [
    {
     "data": {
      "text/plain": [
       "0       formerly smoked\n",
       "1          never smoked\n",
       "2          never smoked\n",
       "3                smokes\n",
       "4          never smoked\n",
       "             ...       \n",
       "5105       never smoked\n",
       "5106       never smoked\n",
       "5107       never smoked\n",
       "5108    formerly smoked\n",
       "5109            Unknown\n",
       "Name: smoking_status, Length: 5110, dtype: object"
      ]
     },
     "execution_count": 541,
     "metadata": {},
     "output_type": "execute_result"
    }
   ],
   "source": [
    "# pulling out the column as a Pandas Series\n",
    "df['smoking_status']"
   ]
  },
  {
   "cell_type": "code",
   "execution_count": 542,
   "metadata": {},
   "outputs": [
    {
     "data": {
      "text/plain": [
       "0       False\n",
       "1       False\n",
       "2       False\n",
       "3       False\n",
       "4       False\n",
       "        ...  \n",
       "5105    False\n",
       "5106    False\n",
       "5107    False\n",
       "5108    False\n",
       "5109     True\n",
       "Name: smoking_status, Length: 5110, dtype: bool"
      ]
     },
     "execution_count": 542,
     "metadata": {},
     "output_type": "execute_result"
    }
   ],
   "source": [
    "# evaluating truth values for which are equal to \"Unknown\"\n",
    "df['smoking_status'] == \"Unknown\""
   ]
  },
  {
   "cell_type": "code",
   "execution_count": 543,
   "metadata": {},
   "outputs": [
    {
     "data": {
      "text/html": [
       "<div>\n",
       "<style scoped>\n",
       "    .dataframe tbody tr th:only-of-type {\n",
       "        vertical-align: middle;\n",
       "    }\n",
       "\n",
       "    .dataframe tbody tr th {\n",
       "        vertical-align: top;\n",
       "    }\n",
       "\n",
       "    .dataframe thead th {\n",
       "        text-align: right;\n",
       "    }\n",
       "</style>\n",
       "<table border=\"1\" class=\"dataframe\">\n",
       "  <thead>\n",
       "    <tr style=\"text-align: right;\">\n",
       "      <th></th>\n",
       "      <th>id</th>\n",
       "      <th>gender</th>\n",
       "      <th>age</th>\n",
       "      <th>hypertension</th>\n",
       "      <th>heart_disease</th>\n",
       "      <th>ever_married</th>\n",
       "      <th>work_type</th>\n",
       "      <th>Residence_type</th>\n",
       "      <th>avg_glucose_level</th>\n",
       "      <th>bmi</th>\n",
       "      <th>smoking_status</th>\n",
       "      <th>stroke</th>\n",
       "    </tr>\n",
       "  </thead>\n",
       "  <tbody>\n",
       "    <tr>\n",
       "      <th>8</th>\n",
       "      <td>27419</td>\n",
       "      <td>Female</td>\n",
       "      <td>59.0</td>\n",
       "      <td>0</td>\n",
       "      <td>0</td>\n",
       "      <td>Yes</td>\n",
       "      <td>Private</td>\n",
       "      <td>Rural</td>\n",
       "      <td>76.15</td>\n",
       "      <td>NaN</td>\n",
       "      <td>Unknown</td>\n",
       "      <td>1</td>\n",
       "    </tr>\n",
       "    <tr>\n",
       "      <th>9</th>\n",
       "      <td>60491</td>\n",
       "      <td>Female</td>\n",
       "      <td>78.0</td>\n",
       "      <td>0</td>\n",
       "      <td>0</td>\n",
       "      <td>Yes</td>\n",
       "      <td>Private</td>\n",
       "      <td>Urban</td>\n",
       "      <td>58.57</td>\n",
       "      <td>24.2</td>\n",
       "      <td>Unknown</td>\n",
       "      <td>1</td>\n",
       "    </tr>\n",
       "    <tr>\n",
       "      <th>13</th>\n",
       "      <td>8213</td>\n",
       "      <td>Male</td>\n",
       "      <td>78.0</td>\n",
       "      <td>0</td>\n",
       "      <td>1</td>\n",
       "      <td>Yes</td>\n",
       "      <td>Private</td>\n",
       "      <td>Urban</td>\n",
       "      <td>219.84</td>\n",
       "      <td>NaN</td>\n",
       "      <td>Unknown</td>\n",
       "      <td>1</td>\n",
       "    </tr>\n",
       "    <tr>\n",
       "      <th>19</th>\n",
       "      <td>25226</td>\n",
       "      <td>Male</td>\n",
       "      <td>57.0</td>\n",
       "      <td>0</td>\n",
       "      <td>1</td>\n",
       "      <td>No</td>\n",
       "      <td>Govt_job</td>\n",
       "      <td>Urban</td>\n",
       "      <td>217.08</td>\n",
       "      <td>NaN</td>\n",
       "      <td>Unknown</td>\n",
       "      <td>1</td>\n",
       "    </tr>\n",
       "    <tr>\n",
       "      <th>23</th>\n",
       "      <td>64778</td>\n",
       "      <td>Male</td>\n",
       "      <td>82.0</td>\n",
       "      <td>0</td>\n",
       "      <td>1</td>\n",
       "      <td>Yes</td>\n",
       "      <td>Private</td>\n",
       "      <td>Rural</td>\n",
       "      <td>208.30</td>\n",
       "      <td>32.5</td>\n",
       "      <td>Unknown</td>\n",
       "      <td>1</td>\n",
       "    </tr>\n",
       "    <tr>\n",
       "      <th>...</th>\n",
       "      <td>...</td>\n",
       "      <td>...</td>\n",
       "      <td>...</td>\n",
       "      <td>...</td>\n",
       "      <td>...</td>\n",
       "      <td>...</td>\n",
       "      <td>...</td>\n",
       "      <td>...</td>\n",
       "      <td>...</td>\n",
       "      <td>...</td>\n",
       "      <td>...</td>\n",
       "      <td>...</td>\n",
       "    </tr>\n",
       "    <tr>\n",
       "      <th>5098</th>\n",
       "      <td>579</td>\n",
       "      <td>Male</td>\n",
       "      <td>9.0</td>\n",
       "      <td>0</td>\n",
       "      <td>0</td>\n",
       "      <td>No</td>\n",
       "      <td>children</td>\n",
       "      <td>Urban</td>\n",
       "      <td>71.88</td>\n",
       "      <td>17.5</td>\n",
       "      <td>Unknown</td>\n",
       "      <td>0</td>\n",
       "    </tr>\n",
       "    <tr>\n",
       "      <th>5101</th>\n",
       "      <td>36901</td>\n",
       "      <td>Female</td>\n",
       "      <td>45.0</td>\n",
       "      <td>0</td>\n",
       "      <td>0</td>\n",
       "      <td>Yes</td>\n",
       "      <td>Private</td>\n",
       "      <td>Urban</td>\n",
       "      <td>97.95</td>\n",
       "      <td>24.5</td>\n",
       "      <td>Unknown</td>\n",
       "      <td>0</td>\n",
       "    </tr>\n",
       "    <tr>\n",
       "      <th>5103</th>\n",
       "      <td>22127</td>\n",
       "      <td>Female</td>\n",
       "      <td>18.0</td>\n",
       "      <td>0</td>\n",
       "      <td>0</td>\n",
       "      <td>No</td>\n",
       "      <td>Private</td>\n",
       "      <td>Urban</td>\n",
       "      <td>82.85</td>\n",
       "      <td>46.9</td>\n",
       "      <td>Unknown</td>\n",
       "      <td>0</td>\n",
       "    </tr>\n",
       "    <tr>\n",
       "      <th>5104</th>\n",
       "      <td>14180</td>\n",
       "      <td>Female</td>\n",
       "      <td>13.0</td>\n",
       "      <td>0</td>\n",
       "      <td>0</td>\n",
       "      <td>No</td>\n",
       "      <td>children</td>\n",
       "      <td>Rural</td>\n",
       "      <td>103.08</td>\n",
       "      <td>18.6</td>\n",
       "      <td>Unknown</td>\n",
       "      <td>0</td>\n",
       "    </tr>\n",
       "    <tr>\n",
       "      <th>5109</th>\n",
       "      <td>44679</td>\n",
       "      <td>Female</td>\n",
       "      <td>44.0</td>\n",
       "      <td>0</td>\n",
       "      <td>0</td>\n",
       "      <td>Yes</td>\n",
       "      <td>Govt_job</td>\n",
       "      <td>Urban</td>\n",
       "      <td>85.28</td>\n",
       "      <td>26.2</td>\n",
       "      <td>Unknown</td>\n",
       "      <td>0</td>\n",
       "    </tr>\n",
       "  </tbody>\n",
       "</table>\n",
       "<p>1544 rows × 12 columns</p>\n",
       "</div>"
      ],
      "text/plain": [
       "         id  gender   age  hypertension  heart_disease ever_married work_type  \\\n",
       "8     27419  Female  59.0             0              0          Yes   Private   \n",
       "9     60491  Female  78.0             0              0          Yes   Private   \n",
       "13     8213    Male  78.0             0              1          Yes   Private   \n",
       "19    25226    Male  57.0             0              1           No  Govt_job   \n",
       "23    64778    Male  82.0             0              1          Yes   Private   \n",
       "...     ...     ...   ...           ...            ...          ...       ...   \n",
       "5098    579    Male   9.0             0              0           No  children   \n",
       "5101  36901  Female  45.0             0              0          Yes   Private   \n",
       "5103  22127  Female  18.0             0              0           No   Private   \n",
       "5104  14180  Female  13.0             0              0           No  children   \n",
       "5109  44679  Female  44.0             0              0          Yes  Govt_job   \n",
       "\n",
       "     Residence_type  avg_glucose_level   bmi smoking_status  stroke  \n",
       "8             Rural              76.15   NaN        Unknown       1  \n",
       "9             Urban              58.57  24.2        Unknown       1  \n",
       "13            Urban             219.84   NaN        Unknown       1  \n",
       "19            Urban             217.08   NaN        Unknown       1  \n",
       "23            Rural             208.30  32.5        Unknown       1  \n",
       "...             ...                ...   ...            ...     ...  \n",
       "5098          Urban              71.88  17.5        Unknown       0  \n",
       "5101          Urban              97.95  24.5        Unknown       0  \n",
       "5103          Urban              82.85  46.9        Unknown       0  \n",
       "5104          Rural             103.08  18.6        Unknown       0  \n",
       "5109          Urban              85.28  26.2        Unknown       0  \n",
       "\n",
       "[1544 rows x 12 columns]"
      ]
     },
     "execution_count": 543,
     "metadata": {},
     "output_type": "execute_result"
    }
   ],
   "source": [
    "# using the True/False outcome to specify which rows in the dataframe to keep\n",
    "df_ss_Unknown = df[df['smoking_status'] == \"Unknown\"]\n",
    "df_ss_Unknown"
   ]
  },
  {
   "cell_type": "markdown",
   "metadata": {},
   "source": [
    "As it turns out, there are a lot of patients with an Unknown smoking status -- a total of 1544. "
   ]
  },
  {
   "cell_type": "code",
   "execution_count": 459,
   "metadata": {},
   "outputs": [
    {
     "data": {
      "text/plain": [
       "smoking_status\n",
       "never smoked       37.025440\n",
       "Unknown            30.215264\n",
       "formerly smoked    17.318982\n",
       "smokes             15.440313\n",
       "Name: count, dtype: float64"
      ]
     },
     "execution_count": 459,
     "metadata": {},
     "output_type": "execute_result"
    }
   ],
   "source": [
    "df['smoking_status'].value_counts() / len(df) * 100"
   ]
  },
  {
   "cell_type": "markdown",
   "metadata": {},
   "source": [
    "We can see above that this group of consumers represents almost a third of the dataset, so dropping them from the dataset is certainly not a good idea - we would want to keep the \"Unknown\"s as its own category, or explore the possibility of applying imputation techniques to replace the missing information with a valid value. At the very least, we would want to continue exploring what type of consumers might make up this \"Unknown\" smoking status group. We might look at something like below - the distribution of the age of patients with known vs. unknown smoking status, which we can separate out using filtered data: "
   ]
  },
  {
   "cell_type": "code",
   "execution_count": 559,
   "metadata": {},
   "outputs": [
    {
     "data": {
      "image/png": "[encoded data removed]",
      "text/plain": [
       "<Figure size 640x480 with 1 Axes>"
      ]
     },
     "metadata": {},
     "output_type": "display_data"
    }
   ],
   "source": [
    "import matplotlib.pyplot as plt\n",
    "# filtering for Knowns, pulling out age field, and creating a histogram of age on the known smoking status pop\n",
    "df[df['smoking_status']!=\"Unknown\"]['age'].hist(bins=30, density=True, label=\"Known\", alpha=.7)\n",
    "\n",
    "# using data filtered for unknowns, pulling out age field, and creating a histogram on the unknown smoking status pop\n",
    "df_ss_Unknown['age'].hist(bins=30, density=True, label=\"Unknown\", alpha=.65)\n",
    "\n",
    "plt.title(\"Distribution of age for smoking_status = Known vs. 'Unknown'\")\n",
    "plt.ylabel('density')\n",
    "plt.xlabel('age');"
   ]
  },
  {
   "cell_type": "markdown",
   "metadata": {},
   "source": [
    "**Example 2: Dropping Consumers**  \n",
    "Sometimes it makes sense to drop records from the dataset. If we idenfity records that should be dropped, we can filter the data to keep only the records we should keep. Let's take a look at the counts of possible values in the `gender` column:"
   ]
  },
  {
   "cell_type": "code",
   "execution_count": 566,
   "metadata": {},
   "outputs": [
    {
     "data": {
      "text/plain": [
       "gender\n",
       "Female    2994\n",
       "Male      2115\n",
       "Other        1\n",
       "Name: count, dtype: int64"
      ]
     },
     "execution_count": 566,
     "metadata": {},
     "output_type": "execute_result"
    }
   ],
   "source": [
    "df['gender'].value_counts()"
   ]
  },
  {
   "cell_type": "markdown",
   "metadata": {},
   "source": [
    "There is only 1 instance of an `Other` gender value in the dataset, which is much too few to provide a robust representation of the category. It would make sense to drop this patient."
   ]
  },
  {
   "cell_type": "code",
   "execution_count": 563,
   "metadata": {},
   "outputs": [
    {
     "data": {
      "text/plain": [
       "gender\n",
       "Female    2994\n",
       "Male      2115\n",
       "Name: count, dtype: int64"
      ]
     },
     "execution_count": 563,
     "metadata": {},
     "output_type": "execute_result"
    }
   ],
   "source": [
    "df = df[df['gender']!='Other']\n",
    "df['gender'].value_counts()"
   ]
  },
  {
   "cell_type": "markdown",
   "metadata": {},
   "source": [
    "**Example 3: Null Value Handling**  \n",
    "Finally, we had identified missing `NaN` values in the `bmi` column in the beginning of the workshop, and we had seen that statistical operations may not compute correctly if we leave them as is. We would need to either drop them from the dataset, or fill these values with values that would be reasonable estimates of what they may actually be.\n",
    "\n",
    "One straightforward imputation technique is to fill these `NaN` values with the median value of the remaining valid data in the column. Let's try that here:"
   ]
  },
  {
   "cell_type": "code",
   "execution_count": 573,
   "metadata": {},
   "outputs": [
    {
     "data": {
      "text/plain": [
       "201"
      ]
     },
     "execution_count": 573,
     "metadata": {},
     "output_type": "execute_result"
    }
   ],
   "source": [
    "# using the .isna() method of a Series to count the number of NaN records\n",
    "# note: True carries numeric value of 1; False carries numeric value of 0\n",
    "sum(df['bmi'].isna())"
   ]
  },
  {
   "cell_type": "code",
   "execution_count": 574,
   "metadata": {},
   "outputs": [
    {
     "data": {
      "text/plain": [
       "201"
      ]
     },
     "execution_count": 574,
     "metadata": {},
     "output_type": "execute_result"
    }
   ],
   "source": [
    "# alternatively, filter the dataset for NaNs, then find the size of the dataset\n",
    "len(df[df['bmi'].isna()])"
   ]
  },
  {
   "cell_type": "code",
   "execution_count": 528,
   "metadata": {},
   "outputs": [
    {
     "data": {
      "text/plain": [
       "0       36.6\n",
       "1        NaN\n",
       "2       32.5\n",
       "3       34.4\n",
       "4       24.0\n",
       "        ... \n",
       "5105     NaN\n",
       "5106    40.0\n",
       "5107    30.6\n",
       "5108    25.6\n",
       "5109    26.2\n",
       "Name: bmi, Length: 5110, dtype: float64"
      ]
     },
     "execution_count": 528,
     "metadata": {},
     "output_type": "execute_result"
    }
   ],
   "source": [
    "# pulling out the bmi column from the dataset\n",
    "df['bmi']"
   ]
  },
  {
   "cell_type": "code",
   "execution_count": 572,
   "metadata": {},
   "outputs": [
    {
     "data": {
      "text/plain": [
       "28.1"
      ]
     },
     "execution_count": 572,
     "metadata": {},
     "output_type": "execute_result"
    }
   ],
   "source": [
    "# calculating the median\n",
    "bmi_median = np.round(np.median(df[~df['bmi'].isna()]['bmi']),1)\n",
    "bmi_median"
   ]
  },
  {
   "cell_type": "code",
   "execution_count": 576,
   "metadata": {
    "scrolled": true
   },
   "outputs": [],
   "source": [
    "# seeing for which patients in the bmi column the value is NaN, using a Series method .isna()\n",
    "df['bmi'] = df['bmi'].fillna(bmi_median)"
   ]
  },
  {
   "cell_type": "code",
   "execution_count": 577,
   "metadata": {},
   "outputs": [
    {
     "data": {
      "text/html": [
       "<div>\n",
       "<style scoped>\n",
       "    .dataframe tbody tr th:only-of-type {\n",
       "        vertical-align: middle;\n",
       "    }\n",
       "\n",
       "    .dataframe tbody tr th {\n",
       "        vertical-align: top;\n",
       "    }\n",
       "\n",
       "    .dataframe thead th {\n",
       "        text-align: right;\n",
       "    }\n",
       "</style>\n",
       "<table border=\"1\" class=\"dataframe\">\n",
       "  <thead>\n",
       "    <tr style=\"text-align: right;\">\n",
       "      <th></th>\n",
       "      <th>id</th>\n",
       "      <th>gender</th>\n",
       "      <th>age</th>\n",
       "      <th>hypertension</th>\n",
       "      <th>heart_disease</th>\n",
       "      <th>ever_married</th>\n",
       "      <th>work_type</th>\n",
       "      <th>Residence_type</th>\n",
       "      <th>avg_glucose_level</th>\n",
       "      <th>bmi</th>\n",
       "      <th>smoking_status</th>\n",
       "      <th>stroke</th>\n",
       "    </tr>\n",
       "  </thead>\n",
       "  <tbody>\n",
       "    <tr>\n",
       "      <th>0</th>\n",
       "      <td>9046</td>\n",
       "      <td>Male</td>\n",
       "      <td>67.0</td>\n",
       "      <td>0</td>\n",
       "      <td>1</td>\n",
       "      <td>Yes</td>\n",
       "      <td>Private</td>\n",
       "      <td>Urban</td>\n",
       "      <td>228.69</td>\n",
       "      <td>36.6</td>\n",
       "      <td>formerly smoked</td>\n",
       "      <td>1</td>\n",
       "    </tr>\n",
       "    <tr>\n",
       "      <th>1</th>\n",
       "      <td>51676</td>\n",
       "      <td>Female</td>\n",
       "      <td>61.0</td>\n",
       "      <td>0</td>\n",
       "      <td>0</td>\n",
       "      <td>Yes</td>\n",
       "      <td>Self-employed</td>\n",
       "      <td>Rural</td>\n",
       "      <td>202.21</td>\n",
       "      <td>28.1</td>\n",
       "      <td>never smoked</td>\n",
       "      <td>1</td>\n",
       "    </tr>\n",
       "    <tr>\n",
       "      <th>2</th>\n",
       "      <td>31112</td>\n",
       "      <td>Male</td>\n",
       "      <td>80.0</td>\n",
       "      <td>0</td>\n",
       "      <td>1</td>\n",
       "      <td>Yes</td>\n",
       "      <td>Private</td>\n",
       "      <td>Rural</td>\n",
       "      <td>105.92</td>\n",
       "      <td>32.5</td>\n",
       "      <td>never smoked</td>\n",
       "      <td>1</td>\n",
       "    </tr>\n",
       "    <tr>\n",
       "      <th>3</th>\n",
       "      <td>60182</td>\n",
       "      <td>Female</td>\n",
       "      <td>49.0</td>\n",
       "      <td>0</td>\n",
       "      <td>0</td>\n",
       "      <td>Yes</td>\n",
       "      <td>Private</td>\n",
       "      <td>Urban</td>\n",
       "      <td>171.23</td>\n",
       "      <td>34.4</td>\n",
       "      <td>smokes</td>\n",
       "      <td>1</td>\n",
       "    </tr>\n",
       "    <tr>\n",
       "      <th>4</th>\n",
       "      <td>1665</td>\n",
       "      <td>Female</td>\n",
       "      <td>79.0</td>\n",
       "      <td>1</td>\n",
       "      <td>0</td>\n",
       "      <td>Yes</td>\n",
       "      <td>Self-employed</td>\n",
       "      <td>Rural</td>\n",
       "      <td>174.12</td>\n",
       "      <td>24.0</td>\n",
       "      <td>never smoked</td>\n",
       "      <td>1</td>\n",
       "    </tr>\n",
       "    <tr>\n",
       "      <th>...</th>\n",
       "      <td>...</td>\n",
       "      <td>...</td>\n",
       "      <td>...</td>\n",
       "      <td>...</td>\n",
       "      <td>...</td>\n",
       "      <td>...</td>\n",
       "      <td>...</td>\n",
       "      <td>...</td>\n",
       "      <td>...</td>\n",
       "      <td>...</td>\n",
       "      <td>...</td>\n",
       "      <td>...</td>\n",
       "    </tr>\n",
       "    <tr>\n",
       "      <th>5105</th>\n",
       "      <td>18234</td>\n",
       "      <td>Female</td>\n",
       "      <td>80.0</td>\n",
       "      <td>1</td>\n",
       "      <td>0</td>\n",
       "      <td>Yes</td>\n",
       "      <td>Private</td>\n",
       "      <td>Urban</td>\n",
       "      <td>83.75</td>\n",
       "      <td>28.1</td>\n",
       "      <td>never smoked</td>\n",
       "      <td>0</td>\n",
       "    </tr>\n",
       "    <tr>\n",
       "      <th>5106</th>\n",
       "      <td>44873</td>\n",
       "      <td>Female</td>\n",
       "      <td>81.0</td>\n",
       "      <td>0</td>\n",
       "      <td>0</td>\n",
       "      <td>Yes</td>\n",
       "      <td>Self-employed</td>\n",
       "      <td>Urban</td>\n",
       "      <td>125.20</td>\n",
       "      <td>40.0</td>\n",
       "      <td>never smoked</td>\n",
       "      <td>0</td>\n",
       "    </tr>\n",
       "    <tr>\n",
       "      <th>5107</th>\n",
       "      <td>19723</td>\n",
       "      <td>Female</td>\n",
       "      <td>35.0</td>\n",
       "      <td>0</td>\n",
       "      <td>0</td>\n",
       "      <td>Yes</td>\n",
       "      <td>Self-employed</td>\n",
       "      <td>Rural</td>\n",
       "      <td>82.99</td>\n",
       "      <td>30.6</td>\n",
       "      <td>never smoked</td>\n",
       "      <td>0</td>\n",
       "    </tr>\n",
       "    <tr>\n",
       "      <th>5108</th>\n",
       "      <td>37544</td>\n",
       "      <td>Male</td>\n",
       "      <td>51.0</td>\n",
       "      <td>0</td>\n",
       "      <td>0</td>\n",
       "      <td>Yes</td>\n",
       "      <td>Private</td>\n",
       "      <td>Rural</td>\n",
       "      <td>166.29</td>\n",
       "      <td>25.6</td>\n",
       "      <td>formerly smoked</td>\n",
       "      <td>0</td>\n",
       "    </tr>\n",
       "    <tr>\n",
       "      <th>5109</th>\n",
       "      <td>44679</td>\n",
       "      <td>Female</td>\n",
       "      <td>44.0</td>\n",
       "      <td>0</td>\n",
       "      <td>0</td>\n",
       "      <td>Yes</td>\n",
       "      <td>Govt_job</td>\n",
       "      <td>Urban</td>\n",
       "      <td>85.28</td>\n",
       "      <td>26.2</td>\n",
       "      <td>Unknown</td>\n",
       "      <td>0</td>\n",
       "    </tr>\n",
       "  </tbody>\n",
       "</table>\n",
       "<p>5110 rows × 12 columns</p>\n",
       "</div>"
      ],
      "text/plain": [
       "         id  gender   age  hypertension  heart_disease ever_married  \\\n",
       "0      9046    Male  67.0             0              1          Yes   \n",
       "1     51676  Female  61.0             0              0          Yes   \n",
       "2     31112    Male  80.0             0              1          Yes   \n",
       "3     60182  Female  49.0             0              0          Yes   \n",
       "4      1665  Female  79.0             1              0          Yes   \n",
       "...     ...     ...   ...           ...            ...          ...   \n",
       "5105  18234  Female  80.0             1              0          Yes   \n",
       "5106  44873  Female  81.0             0              0          Yes   \n",
       "5107  19723  Female  35.0             0              0          Yes   \n",
       "5108  37544    Male  51.0             0              0          Yes   \n",
       "5109  44679  Female  44.0             0              0          Yes   \n",
       "\n",
       "          work_type Residence_type  avg_glucose_level   bmi   smoking_status  \\\n",
       "0           Private          Urban             228.69  36.6  formerly smoked   \n",
       "1     Self-employed          Rural             202.21  28.1     never smoked   \n",
       "2           Private          Rural             105.92  32.5     never smoked   \n",
       "3           Private          Urban             171.23  34.4           smokes   \n",
       "4     Self-employed          Rural             174.12  24.0     never smoked   \n",
       "...             ...            ...                ...   ...              ...   \n",
       "5105        Private          Urban              83.75  28.1     never smoked   \n",
       "5106  Self-employed          Urban             125.20  40.0     never smoked   \n",
       "5107  Self-employed          Rural              82.99  30.6     never smoked   \n",
       "5108        Private          Rural             166.29  25.6  formerly smoked   \n",
       "5109       Govt_job          Urban              85.28  26.2          Unknown   \n",
       "\n",
       "      stroke  \n",
       "0          1  \n",
       "1          1  \n",
       "2          1  \n",
       "3          1  \n",
       "4          1  \n",
       "...      ...  \n",
       "5105       0  \n",
       "5106       0  \n",
       "5107       0  \n",
       "5108       0  \n",
       "5109       0  \n",
       "\n",
       "[5110 rows x 12 columns]"
      ]
     },
     "execution_count": 577,
     "metadata": {},
     "output_type": "execute_result"
    }
   ],
   "source": [
    "# see the outcome\n",
    "df"
   ]
  },
  {
   "cell_type": "markdown",
   "metadata": {},
   "source": [
    "---\n",
    "\n",
    "## 4. Additional Resources<a id='resource'></a>\n",
    "\n",
    "**WiDS Datathon Resources:**  \n",
    "- [WiDS Datathon Tutorials](https://github.com/keikokamei/WiDS_Datathon_Tutorials):  \n",
    "    a more comprehensive set of interactive notebooks to take a deeper dive into Python & statistical concepts  \n",
    "- [A Data Scientist’s Deep Dive into WiDS Datathon](https://www.widsworldwide.org/get-inspired/blog/a-data-scientists-deep-dive-into-the-wids-datathon/):  \n",
    "    useful tips and resources for the datathon challenge\n",
    "- [WiDS Datathon Starter Code](https://drive.google.com/file/d/1Wm0ca5YM8GxmvkCD_TDjr0Wv0JwXzGGO/view?usp=drive_link):  \n",
    "    template notebook to provide starter code for creating visualizations, feature engineering, modeling, etc.\n",
    " \n",
    "**WiDS Workshops - starter-pack playlist:**  \n",
    "- [\"WiDS Trinidad and Tobago – Datathon 2023 Tutorials - Tutorial 1 Session\"](https://www.youtube.com/watch?v=rJl_cL7RaQw)\n",
    "- [\"Creating Data Visualizations with Spotify Data\"](https://www.youtube.com/watch?v=2zaGRy54SV8&list=PLHAk3jHXWpxI7fHw8m5PhrpSRpR3NIjQo&index=31)\n",
    "- [\"Demystifying Data Pre-processing & Data Wrangling for Data Science\"](https://www.youtube.com/watch?v=lRBuknaPRNI&list=PLHAk3jHXWpxI7fHw8m5PhrpSRpR3NIjQo&index=50)\n",
    "- [“WiDS Trinidad and Tobago – Datathon 2023 – Tutorial 2 Session”](https://www.youtube.com/watch?v=Z9zBM-9bUcI)\n",
    "- [“WiDS 2022 Datathon – Energy Consumption Prediction”](https://www.youtube.com/watch?v=7aTyQXaUVnw)\n",
    "\n",
    "**Kaggle Dataset Notebooks & Discussion:**  \n",
    "- [Example Analysis of Stroke Prediction Dataset](https://www.kaggle.com/code/tumpanjawat/stroke-prediction-eda-resampling-xgboost):  \n",
    "    see what others have done to clean and analyze the same dataset used in this workshop"
   ]
  }
 ],
 "metadata": {
  "anaconda-cloud": {},
  "kernelspec": {
   "display_name": "Python 3 (ipykernel)",
   "language": "python",
   "name": "python3"
  },
  "language_info": {
   "codemirror_mode": {
    "name": "ipython",
    "version": 3
   },
   "file_extension": ".py",
   "mimetype": "text/x-python",
   "name": "python",
   "nbconvert_exporter": "python",
   "pygments_lexer": "ipython3",
   "version": "3.11.5"
  }
 },
 "nbformat": 4,
 "nbformat_minor": 2
}
